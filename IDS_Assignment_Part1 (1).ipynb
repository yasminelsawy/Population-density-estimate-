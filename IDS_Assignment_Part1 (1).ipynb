{
 "cells": [
  {
   "cell_type": "markdown",
   "metadata": {
    "colab_type": "text",
    "id": "ufAhZ_e90iDC"
   },
   "source": [
    "# The First Part of the Assignment of IDS 2019-2020\n",
    "Document your results as well as the way you obtained them in this jupyter notebook. A seperate report (pdf, word etc.) is _not_ required. However, it is necessary that you provide the python code leading to your results as well as textual answers to the assignment questions in this notebook. *DO NOT CLEAR THE OUTPUT of the notebook your are submitting!* In the cases that the result of an algorithm is pdf, jpg, etc, you should attach the result to this notebook file and refer to that in the text.  \n",
    "\n",
    "Next to the jupyter notebook, submit one zip-file containing all data sets that you are asked to submit. Make sure they are easily identifiable, i.e. use names as requested in the corresponding question.\n",
    "\n",
    "Do not change the general structure of this notebook, but you can add further markdown or code cells to explain your solutions if necessary. In the end, submit this file and your created data sets in moodle.\n",
    "\n",
    "Only <font color=\"red\">one </font> group member should upload your group's solution. *Make sure to include group members' names and matriculation numbers*. If your name and student id are not included in the report, you will not receive any points!\n",
    "\n",
    "\n",
    "Hint 1: While answering the questions, you will get a better and better impression of the given data. However, feel free to compute additional results and vizualizations to motivate the decisions you need to make, for example with respect to modification, simplification or sampling of the data. <font color=\"red\"><b>Ensure that all claims you make are supported by the presented facts!</b></font>\n",
    "\n",
    "Hint 2: <font color=\"red\"><b>Some of the tasks might need some time to run. Take this into account in your planning.</b></font>\n",
    "\n",
    "Hint 3: RWTHonline allows for multiple submissions (each submission overwrites the previous ones). <font color=\"red\"><b>Partial submissions are possible and encouraged. </b></font> This helps in case of technical problems of RWTHonline, which do seldomly happen."
   ]
  },
  {
   "cell_type": "markdown",
   "metadata": {
    "colab_type": "text",
    "id": "5syEKV880iDE"
   },
   "source": [
    "<font color=\"red\"><b>Student Names and IDs:\n",
    "    1. Yasmin Abdalla Farag Elsawy (403331)\n",
    "    2. Ahmed Mohamed Abdelrahman Eldesouki (403377)\n",
    "    3. David Abdelmalek (403216)"
   ]
  },
  {
   "cell_type": "markdown",
   "metadata": {
    "colab_type": "text",
    "id": "8SaN_J0h0iDF"
   },
   "source": [
    "## Preprocessing of the Dataset (5 points)\n",
    " You should carry out some preprocessing steps before starting the analysis:\n",
    " - Select 90% of 'population_density' dataset by random sampling.\n",
    "     - Use one of the group member's student number as a seed.\n",
    " - Add another column to the dataset:\n",
    "     - Name it 'population_density_categorical'.\n",
    "     - The values in this column depend on values in 'population_density' column and will be defined as follows:\n",
    "        - 5824=<population density              corresponding value in 'population_density_categorical' column: 'very high'\n",
    "        - 4368=<population density<5824         corresponding value in 'population_density_categorical' column: 'high'\n",
    "        - 2912=<population density<4368         corresponding value in 'population_density_categorical' column: 'medium'\n",
    "        - 1456=<population density<2912         corresponding value in 'population_density_categorical' column: 'low' \n",
    "        - population density<1456               corresponding value in 'population_density_categorical' column: 'very low'\n",
    " - After completing this preprocessing step, export your final dataset as 'population_density_categorical.csv' dataset and use that for next steps of the assignment.\n",
    " - If it is not directly mentioned, you should always use your extracted (above-created) dataset (without any cleaning).\n",
    " - <font color='red'>Important!</font> Make sure that you submit your extracted dataset with your result in moodle."
   ]
  },
  {
   "cell_type": "code",
   "execution_count": 0,
   "metadata": {
    "colab": {},
    "colab_type": "code",
    "id": "8rg6H_lT0iDG"
   },
   "outputs": [],
   "source": [
    "import random as rnd\n",
    "import pandas as pd \n",
    "\n",
    "import numpy as np\n",
    "                 \n",
    "                 \n",
    "filename = \"population_density.csv\"\n",
    "number_of_rows = sum(1 for line in open(filename)) - 1\n",
    "number_of_sample=round(number_of_rows*0.9) #desired sample size\n",
    "\n",
    "rnd.seed(403377)\n",
    "skip = sorted(rnd.sample(range(1,number_of_rows+1),number_of_rows-number_of_sample)) #the 0-indexed header will not be included in the skip list\n",
    "\n",
    "pop_dens = pd.read_csv(filename, sep=',', error_bad_lines=False, index_col=False, dtype='unicode',skiprows=skip) #uncomment when deliver\n",
    "#pop_dens = pd.read_csv(io.BytesIO(uploaded['population_density.csv']), sep=',', error_bad_lines=False, index_col=False, dtype='unicode',skiprows=skip) #for colab use only\n",
    "pop_dens.loc[:,'population_density'] = pd.to_numeric(pop_dens['population_density'])\n",
    "pop_dens.loc[:,'temperature'] = pd.to_numeric(pop_dens['temperature'])\n",
    "bins =[-1, 1455, 2911, 4367, 5823, np.inf]\n",
    "names = ['very low', 'low', 'medium', 'high', 'very high']\n",
    "pop_dens['population_density_categorical'] = pd.cut(pop_dens.population_density, bins, labels=names)"
   ]
  },
  {
   "cell_type": "code",
   "execution_count": 0,
   "metadata": {
    "colab": {},
    "colab_type": "code",
    "id": "KEO8RCSO0iDJ"
   },
   "outputs": [],
   "source": [
    "pop_dens.to_csv(\"population_density_categorical.csv\",index=False)"
   ]
  },
  {
   "cell_type": "markdown",
   "metadata": {
    "colab_type": "text",
    "id": "h1wyO7_R0iDL"
   },
   "source": [
    "## Question 1 - Insights into the Data (20 points):"
   ]
  },
  {
   "cell_type": "markdown",
   "metadata": {
    "colab_type": "text",
    "id": "YY0atXXG0iDL"
   },
   "source": [
    "### Dealing with Outliers (10 points)\n",
    "   (a) Use a boxplot to find and remove the outliers from \"temperature\". Note that based on the boxplot the values greater than upper-whisker and less than lower-whisker are considered as the outliers. Now you should  have two datasets (cleaned and original)."
   ]
  },
  {
   "cell_type": "code",
   "execution_count": 14,
   "metadata": {
    "colab": {
     "base_uri": "https://localhost:8080/",
     "height": 444
    },
    "colab_type": "code",
    "id": "emcz37si0iDM",
    "outputId": "e1de969d-dfda-49f4-f7ee-f9edd6786647"
   },
   "outputs": [
    {
     "data": {
      "image/png": "[encoded data removed]",
      "text/plain": [
       "<Figure size 1080x504 with 1 Axes>"
      ]
     },
     "metadata": {
      "tags": []
     },
     "output_type": "display_data"
    }
   ],
   "source": [
    "# Your code:\n",
    "import matplotlib.pyplot as plt\n",
    "\n",
    "population_density_categorical = pd.read_csv(\"population_density_categorical.csv\")\n",
    "fig1, ax1 = plt.subplots(figsize=(15,7))\n",
    "ax1.set_title('Basic Plot')\n",
    "ax1.boxplot(population_density_categorical['temperature'])\n",
    "\n",
    "temp_boxplot=plt.boxplot(population_density_categorical['temperature'])\n",
    "\n",
    "x=[item.get_ydata() for item in temp_boxplot['whiskers']]\n",
    "\n",
    "lower_whisker=x[0][1]\n",
    "upper_whisker=x[1][1]\n",
    "outliers_query='temperature >='+str(lower_whisker)+' and  temperature <='+str(upper_whisker)\n",
    "population_density_categorical_no_outliers = population_density_categorical.query(outliers_query)\n"
   ]
  },
  {
   "cell_type": "code",
   "execution_count": 15,
   "metadata": {
    "colab": {
     "base_uri": "https://localhost:8080/",
     "height": 462
    },
    "colab_type": "code",
    "id": "MAng52qh0iDO",
    "outputId": "ed4dd076-0fa1-443e-e80b-3a98ed973d1a"
   },
   "outputs": [
    {
     "data": {
      "text/plain": [
       "Text(0.5, 1.0, 'Cleaned Dataset')"
      ]
     },
     "execution_count": 15,
     "metadata": {
      "tags": []
     },
     "output_type": "execute_result"
    },
    {
     "data": {
      "image/png": "[encoded data removed]",
      "text/plain": [
       "<Figure size 1080x504 with 2 Axes>"
      ]
     },
     "metadata": {
      "tags": []
     },
     "output_type": "display_data"
    }
   ],
   "source": [
    "fig, axs = plt.subplots(1, 2,figsize=(15,7))\n",
    "# basic plot\n",
    "axs[0].boxplot(population_density_categorical['temperature'])\n",
    "axs[0].set_title('Original Dataset')\n",
    "\n",
    "# notched plot\n",
    "axs[1].boxplot(population_density_categorical_no_outliers['temperature'], 1)\n",
    "axs[1].set_title('Cleaned Dataset')"
   ]
  },
  {
   "cell_type": "markdown",
   "metadata": {
    "colab_type": "text",
    "id": "0R4CI2kQ0iDR"
   },
   "source": [
    "   (b) Compare basic statistical features of \"temperature\" (median, mean, and mode) in the cleaned and original datasets.    Interpret the differences for these statistical values between the cleaned and original datasets. "
   ]
  },
  {
   "cell_type": "code",
   "execution_count": 16,
   "metadata": {
    "colab": {
     "base_uri": "https://localhost:8080/",
     "height": 388
    },
    "colab_type": "code",
    "id": "0iTPXIPb0iDS",
    "outputId": "ece9677a-f30d-400c-e4e4-afa67d137504"
   },
   "outputs": [
    {
     "name": "stdout",
     "output_type": "stream",
     "text": [
      "{'median original': 282.45, 'median cleaned dataset': 282.45, 'mean original': 281.22235939516065, 'mean cleaned dataset': 281.2742263002501, 'mode original': 274.15, 'mode cleaned dataset': 274.15}\n"
     ]
    },
    {
     "data": {
      "image/png": "[encoded data removed]",
      "text/plain": [
       "<Figure size 432x288 with 1 Axes>"
      ]
     },
     "metadata": {
      "tags": []
     },
     "output_type": "display_data"
    }
   ],
   "source": [
    "# Your code:\n",
    "\n",
    "import statistics as stats\n",
    "import numpy as np \n",
    "\n",
    "original_data_temp_stats = population_density_categorical[\"temperature\"].describe()\n",
    "processed_data_temp_stats = population_density_categorical_no_outliers[\"temperature\"].describe()\n",
    "\n",
    "histogram_data = {\"median original\":stats.median(population_density_categorical[\"temperature\"]),\n",
    "              \"median cleaned dataset\":stats.median(population_density_categorical_no_outliers[\"temperature\"]),\n",
    "              \"mean original\":original_data_temp_stats[\"mean\"],\n",
    "              \"mean cleaned dataset\":processed_data_temp_stats[\"mean\"],\n",
    "              \"mode original\":stats.mode(population_density_categorical[\"temperature\"]),\n",
    "              \"mode cleaned dataset\":stats.mode(population_density_categorical_no_outliers[\"temperature\"])}\n",
    "\n",
    "value_histogram = list(histogram_data.values())\n",
    "labels_histo = list(histogram_data.keys())\n",
    "\n",
    "labels_int =np.arange(len(labels_histo))\n",
    "print(histogram_data)\n",
    "plt.bar(labels_int, value_histogram)\n",
    "plt.xlabel('Statistical', fontsize=5)\n",
    "plt.ylabel('stat value', fontsize=5)\n",
    "plt.xticks(labels_int, labels_histo, fontsize=10, rotation=30)\n",
    "plt.title('Comparison between basic statistical features of \"temperature of both datasets')\n",
    "plt.show()\n",
    "\n"
   ]
  },
  {
   "cell_type": "markdown",
   "metadata": {
    "colab_type": "text",
    "id": "ZcHtiiXp0iDU"
   },
   "source": [
    "The above histogram compares the mean, median and mode between the original dataset (name: population_density_categorical) and the cleaned dataset (population_density_categorical_no_outliers) where the outliers, a total of 8 data records, were removed.\n",
    "From the above graph we observe that the only slight change occured in \"mean\" while the other statistical features \"median\" \"mode\" had no change. as this slight change been influenced by the 8 removed outliers which mean that the denominator decreased for the cleaned dataset. "
   ]
  },
  {
   "cell_type": "markdown",
   "metadata": {
    "colab_type": "text",
    "id": "Vs6hEpA_0iDV"
   },
   "source": [
    "   (c) Compare the number of data rows before and after removing the outliers. How many data rows are removed by removing    outliers?"
   ]
  },
  {
   "cell_type": "code",
   "execution_count": 17,
   "metadata": {
    "colab": {
     "base_uri": "https://localhost:8080/",
     "height": 35
    },
    "colab_type": "code",
    "id": "VBUYB0x-0iDW",
    "outputId": "863537a1-4308-4951-f896-5f90fa953905"
   },
   "outputs": [
    {
     "name": "stdout",
     "output_type": "stream",
     "text": [
      "number of removed rows is: 8\n"
     ]
    }
   ],
   "source": [
    "number_of_removed_rows = len(population_density_categorical.index) - len(population_density_categorical_no_outliers.index)\n",
    "print('number of removed rows is: '+str(number_of_removed_rows))"
   ]
  },
  {
   "cell_type": "markdown",
   "metadata": {
    "colab_type": "text",
    "id": "aZGw2byp0iDY"
   },
   "source": [
    "### Basic Visualization (10 points)\n",
    "   (d) Visualize mean and median of \"population_density\" for non-'None' \"holiday\" values in the original dataset. Specify    the \"holiday\" values for which the mean of \"population_density\" is maximal and for which it is minimal."
   ]
  },
  {
   "cell_type": "code",
   "execution_count": 0,
   "metadata": {
    "colab": {},
    "colab_type": "code",
    "id": "TfHWQiEA0iDY"
   },
   "outputs": [],
   "source": [
    "def barPlot(y_values,x_labels,ytitle,xtitle,title):\n",
    "    val_histo = list(y_values)\n",
    "    labels_int =np.arange(len(x_labels))\n",
    "    \n",
    "    print(histo_data)\n",
    "    plt.bar(labels_int, val_histo)\n",
    "    plt.xlabel(xtitle, fontsize=5)\n",
    "    plt.ylabel(ytitle, fontsize=5)\n",
    "    plt.xticks(labels_int, x_labels, fontsize=10, rotation=30)\n",
    "    plt.title(title)\n",
    "    plt.show()\n",
    "    "
   ]
  },
  {
   "cell_type": "code",
   "execution_count": 19,
   "metadata": {
    "colab": {
     "base_uri": "https://localhost:8080/",
     "height": 399
    },
    "colab_type": "code",
    "collapsed": true,
    "id": "uxsuzEaE0iDc",
    "outputId": "4685da5b-184c-4812-ff0c-914e814d6013"
   },
   "outputs": [
    {
     "data": {
      "text/html": [
       "<div>\n",
       "<style scoped>\n",
       "    .dataframe tbody tr th:only-of-type {\n",
       "        vertical-align: middle;\n",
       "    }\n",
       "\n",
       "    .dataframe tbody tr th {\n",
       "        vertical-align: top;\n",
       "    }\n",
       "\n",
       "    .dataframe thead th {\n",
       "        text-align: right;\n",
       "    }\n",
       "</style>\n",
       "<table border=\"1\" class=\"dataframe\">\n",
       "  <thead>\n",
       "    <tr style=\"text-align: right;\">\n",
       "      <th></th>\n",
       "      <th>temperature</th>\n",
       "      <th>rain_1h</th>\n",
       "      <th>snow_1h</th>\n",
       "      <th>clouds_percentage</th>\n",
       "      <th>population_density</th>\n",
       "    </tr>\n",
       "    <tr>\n",
       "      <th>holiday</th>\n",
       "      <th></th>\n",
       "      <th></th>\n",
       "      <th></th>\n",
       "      <th></th>\n",
       "      <th></th>\n",
       "    </tr>\n",
       "  </thead>\n",
       "  <tbody>\n",
       "    <tr>\n",
       "      <th>Christmas Day</th>\n",
       "      <td>267.295000</td>\n",
       "      <td>0.041667</td>\n",
       "      <td>0.0</td>\n",
       "      <td>70.833333</td>\n",
       "      <td>827.500000</td>\n",
       "    </tr>\n",
       "    <tr>\n",
       "      <th>Columbus Day</th>\n",
       "      <td>284.360333</td>\n",
       "      <td>0.000000</td>\n",
       "      <td>0.0</td>\n",
       "      <td>0.333333</td>\n",
       "      <td>531.000000</td>\n",
       "    </tr>\n",
       "    <tr>\n",
       "      <th>Independence Day</th>\n",
       "      <td>292.038000</td>\n",
       "      <td>0.000000</td>\n",
       "      <td>0.0</td>\n",
       "      <td>1.000000</td>\n",
       "      <td>1076.000000</td>\n",
       "    </tr>\n",
       "    <tr>\n",
       "      <th>Labor Day</th>\n",
       "      <td>292.934286</td>\n",
       "      <td>0.505714</td>\n",
       "      <td>0.0</td>\n",
       "      <td>39.000000</td>\n",
       "      <td>1013.142857</td>\n",
       "    </tr>\n",
       "    <tr>\n",
       "      <th>Martin Luther King Jr Day</th>\n",
       "      <td>265.261667</td>\n",
       "      <td>0.000000</td>\n",
       "      <td>0.0</td>\n",
       "      <td>56.000000</td>\n",
       "      <td>612.666667</td>\n",
       "    </tr>\n",
       "    <tr>\n",
       "      <th>Memorial Day</th>\n",
       "      <td>292.136750</td>\n",
       "      <td>0.000000</td>\n",
       "      <td>0.0</td>\n",
       "      <td>38.750000</td>\n",
       "      <td>1000.000000</td>\n",
       "    </tr>\n",
       "    <tr>\n",
       "      <th>New Years Day</th>\n",
       "      <td>263.160000</td>\n",
       "      <td>0.000000</td>\n",
       "      <td>0.0</td>\n",
       "      <td>90.000000</td>\n",
       "      <td>1304.750000</td>\n",
       "    </tr>\n",
       "    <tr>\n",
       "      <th>State Fair</th>\n",
       "      <td>290.984000</td>\n",
       "      <td>0.000000</td>\n",
       "      <td>0.0</td>\n",
       "      <td>21.000000</td>\n",
       "      <td>634.800000</td>\n",
       "    </tr>\n",
       "    <tr>\n",
       "      <th>Thanksgiving Day</th>\n",
       "      <td>274.583333</td>\n",
       "      <td>0.000000</td>\n",
       "      <td>0.0</td>\n",
       "      <td>56.666667</td>\n",
       "      <td>933.500000</td>\n",
       "    </tr>\n",
       "    <tr>\n",
       "      <th>Veterans Day</th>\n",
       "      <td>278.777500</td>\n",
       "      <td>0.000000</td>\n",
       "      <td>0.0</td>\n",
       "      <td>41.000000</td>\n",
       "      <td>735.750000</td>\n",
       "    </tr>\n",
       "    <tr>\n",
       "      <th>Washingtons Birthday</th>\n",
       "      <td>270.547250</td>\n",
       "      <td>0.000000</td>\n",
       "      <td>0.0</td>\n",
       "      <td>49.500000</td>\n",
       "      <td>597.750000</td>\n",
       "    </tr>\n",
       "  </tbody>\n",
       "</table>\n",
       "</div>"
      ],
      "text/plain": [
       "                           temperature  ...  population_density\n",
       "holiday                                 ...                    \n",
       "Christmas Day               267.295000  ...          827.500000\n",
       "Columbus Day                284.360333  ...          531.000000\n",
       "Independence Day            292.038000  ...         1076.000000\n",
       "Labor Day                   292.934286  ...         1013.142857\n",
       "Martin Luther King Jr Day   265.261667  ...          612.666667\n",
       "Memorial Day                292.136750  ...         1000.000000\n",
       "New Years Day               263.160000  ...         1304.750000\n",
       "State Fair                  290.984000  ...          634.800000\n",
       "Thanksgiving Day            274.583333  ...          933.500000\n",
       "Veterans Day                278.777500  ...          735.750000\n",
       "Washingtons Birthday        270.547250  ...          597.750000\n",
       "\n",
       "[11 rows x 5 columns]"
      ]
     },
     "execution_count": 19,
     "metadata": {
      "tags": []
     },
     "output_type": "execute_result"
    }
   ],
   "source": [
    "population_density_categorical_unique = population_density_categorical.holiday.unique()\n",
    "\n",
    "population_density_categorical_non_None = population_density_categorical.drop(population_density_categorical.loc[population_density_categorical['holiday']== 'None'].index)\n",
    "mean = population_density_categorical_non_None.groupby(['holiday']).mean()\n",
    "median = population_density_categorical_non_None.groupby(['holiday']).median()\n"
   ]
  },
  {
   "cell_type": "code",
   "execution_count": 20,
   "metadata": {
    "colab": {
     "base_uri": "https://localhost:8080/",
     "height": 606
    },
    "colab_type": "code",
    "id": "SnrCrQB30iDe",
    "outputId": "a580760c-19be-443e-c88d-0bfaf3d007a3"
   },
   "outputs": [
    {
     "data": {
      "image/png": "[encoded data removed]",
      "text/plain": [
       "<Figure size 1440x720 with 1 Axes>"
      ]
     },
     "metadata": {
      "tags": []
     },
     "output_type": "display_data"
    }
   ],
   "source": [
    "#import matplotlib.pyplot as plt\n",
    "\n",
    "#plt.bar(mean[\"population_density\"])\n",
    "#ax = mean[\"population_density\"].plot(kind='bar', title =\"Comparing Means for Holidays\", figsize=(15, 5), legend=True, fontsize=12)\n",
    "#ax.set_xlabel(\"Holidays\", fontsize=12)\n",
    "#ax.set_ylabel(\"Population Density\", fontsize=12)\n",
    "#plt.show()\n",
    "\n",
    "barWidth = 0.30\n",
    " \n",
    "# set height of bar\n",
    "bars1 = mean[\"population_density\"]\n",
    "bars2 = median[\"population_density\"]\n",
    "\n",
    " \n",
    "# Set position of bar on X axis\n",
    "r1 = np.arange(len(bars1))\n",
    "r2 = [x + barWidth for x in r1]\n",
    "r3 = [x + barWidth for x in r2]\n",
    "\n",
    "plt.figure(figsize=(20,10))\n",
    "\n",
    "# Make the plot\n",
    "plt.bar(r1, bars1, width=barWidth, edgecolor='white', label='var1')\n",
    "plt.bar(r2, bars2, width=barWidth, edgecolor='white', label='var2')\n",
    "\n",
    "# Add xticks on the middle of the group bars\n",
    "plt.xlabel('group', fontweight='bold')\n",
    "plt.xticks([r + barWidth for r in range(len(bars1))], list(mean.index))\n",
    "\n",
    "\n",
    "# Create legend & Show graphic\n",
    "leg = plt.legend()\n",
    "leg.get_texts()[0].set_text(\"mean\")\n",
    "leg.get_texts()[1].set_text(\"median\")\n",
    "\n",
    "plt.show()\n",
    "\n"
   ]
  },
  {
   "cell_type": "markdown",
   "metadata": {
    "colab_type": "text",
    "id": "5ssst85V0iDg"
   },
   "source": [
    "   (e) Plot the distribution of \"temperature\" in the original and cleaned datasets."
   ]
  },
  {
   "cell_type": "code",
   "execution_count": 21,
   "metadata": {
    "colab": {
     "base_uri": "https://localhost:8080/",
     "height": 580
    },
    "colab_type": "code",
    "id": "Bactm3Dl0iDh",
    "outputId": "4fb4f834-2146-4e82-dc8b-4850c479f5a0"
   },
   "outputs": [
    {
     "data": {
      "text/plain": [
       "array([[<matplotlib.axes._subplots.AxesSubplot object at 0x7fdae812fc88>]],\n",
       "      dtype=object)"
      ]
     },
     "execution_count": 21,
     "metadata": {
      "tags": []
     },
     "output_type": "execute_result"
    },
    {
     "data": {
      "image/png": "[encoded data removed]",
      "text/plain": [
       "<Figure size 432x288 with 1 Axes>"
      ]
     },
     "metadata": {
      "tags": []
     },
     "output_type": "display_data"
    },
    {
     "data": {
      "image/png": "[encoded data removed]",
      "text/plain": [
       "<Figure size 432x288 with 1 Axes>"
      ]
     },
     "metadata": {
      "tags": []
     },
     "output_type": "display_data"
    }
   ],
   "source": [
    "# Your code:\n",
    "\n",
    "\n",
    "population_density_categorical.hist(column=\"temperature\", bins=50 )\n",
    "population_density_categorical_no_outliers.hist(column=\"temperature\")"
   ]
  },
  {
   "cell_type": "markdown",
   "metadata": {
    "colab_type": "text",
    "id": "Ck0eKSbb0iDj"
   },
   "source": [
    "   (f) Explore the distribution of \"population_density\" and \"temperature\" together in the cleaned dataset. Specify the ranges of \"temperature\" and \"population_density\" for which the frequency of the data is the highest."
   ]
  },
  {
   "cell_type": "code",
   "execution_count": 27,
   "metadata": {
    "colab": {
     "base_uri": "https://localhost:8080/",
     "height": 441
    },
    "colab_type": "code",
    "id": "KaAdFnSR0iDk",
    "outputId": "6d038e8d-29c8-4aaf-9b36-1bf94064647a"
   },
   "outputs": [
    {
     "data": {
      "image/png": "[encoded data removed]",
      "text/plain": [
       "<Figure size 432x432 with 3 Axes>"
      ]
     },
     "metadata": {
      "tags": []
     },
     "output_type": "display_data"
    }
   ],
   "source": [
    "# Your code:\n",
    "import seaborn as sns\n",
    "\n",
    "\n",
    "sns.jointplot(x=\"population_density\", y=\"temperature\", data=population_density_categorical_no_outliers.loc[:,[\"population_density\",\"temperature\"]], kind=\"kde\");"
   ]
  },
  {
   "cell_type": "markdown",
   "metadata": {},
   "source": [
    "<b> Explanation: </b> According to the graph above we can notice that the highest Density is the darkest spots which the ranges are on average [Temp]/[Dens] [285-295 , 275] / [500]"
   ]
  },
  {
   "cell_type": "markdown",
   "metadata": {
    "colab_type": "text",
    "id": "gn26R4ym0iDm"
   },
   "source": [
    "## Question 2 - Decision Trees (15 points):"
   ]
  },
  {
   "cell_type": "markdown",
   "metadata": {
    "colab_type": "text",
    "id": "G3TtcLV10iDm"
   },
   "source": [
    "   (a) Add a categorical temperature column to the cleaned dataset based on the following rules and name it                \"temperature_categorical\":\n",
    "        - temperature >= upper_quartile (third quartile) corresponding value in 'temperature_categorical' column: 'high'\n",
    "        - temperature <= lower_quartile (first quartile) corresponding value in 'temperature_categorical' column: 'low'\n",
    "        - lower_quartile < temperature < upper_quartile corresponding value in 'temperature_categorical' column: 'medium'"
   ]
  },
  {
   "cell_type": "code",
   "execution_count": 2,
   "metadata": {
    "colab": {},
    "colab_type": "code",
    "id": "vq79vMX80iDn"
   },
   "outputs": [],
   "source": [
    "import pandas as pd \n",
    "population_density_categorical_no_outliers_decision_tree = pd.read_csv(\"population_density_categorical.csv\")\n",
    "quartiles = population_density_categorical_no_outliers_decision_tree.loc[:,'temperature'].quantile([0.25,0.75])\n",
    "\n",
    "quartiles = list(quartiles)\n",
    "\n",
    "min_temperature = population_density_categorical_no_outliers_decision_tree[\"temperature\"].min()\n",
    "max_temperature = population_density_categorical_no_outliers_decision_tree[\"temperature\"].max()\n",
    "\n",
    "ranges = [min_temperature-0.01,quartiles[0],quartiles[1]-0.01,max_temperature]\n",
    "\n",
    "population_density_categorical_no_outliers_decision_tree['temperature_categorical']=pd.cut(population_density_categorical_no_outliers_decision_tree['temperature'],ranges,labels=[\"low\", \"medium\", \"high\"],include_lowest=True)\n"
   ]
  },
  {
   "cell_type": "markdown",
   "metadata": {
    "colab_type": "text",
    "id": "SpZxXQHW0iDp"
   },
   "source": [
    "   (b) In the new dataset (created in Section 'a'), consider \"holiday\", \"temperature_categorical\", and \"weather_type\" as    the descriptive features and \"population_density_categorical\" as the target feature. Set the minimum number of samples  for splitting to 5000 and make a decision tree based on entropy."
   ]
  },
  {
   "cell_type": "code",
   "execution_count": 3,
   "metadata": {
    "colab": {
     "base_uri": "https://localhost:8080/",
     "height": 381
    },
    "colab_type": "code",
    "id": "AF0Dv-cG0iDq",
    "outputId": "64826e05-66a6-4d57-90a3-8e7afbf67fd9"
   },
   "outputs": [
    {
     "name": "stdout",
     "output_type": "stream",
     "text": [
      "population_density_categorical\n"
     ]
    }
   ],
   "source": [
    "# Your code:\n",
    "from p_decision_tree.DecisionTree import DecisionTree\n",
    "\n",
    "\n",
    "descriptive_features = [\"holiday\",\"temperature_categorical\",\"weather_type\"]\n",
    "target_feature = \"population_density_categorical\"\n",
    "\n",
    "print(target_feature)\n",
    "for col in descriptive_features:\n",
    "    population_density_categorical_no_outliers_decision_tree.loc[:,col] = population_density_categorical_no_outliers_decision_tree.loc[:,col].astype(str)\n",
    "\n",
    "data_descriptive = population_density_categorical_no_outliers_decision_tree.loc[:,descriptive_features].values\n",
    "data_target = population_density_categorical_no_outliers_decision_tree.loc[:,target_feature].values\n",
    "\n",
    "\n",
    "\n"
   ]
  },
  {
   "cell_type": "code",
   "execution_count": 4,
   "metadata": {
    "colab": {
     "base_uri": "https://localhost:8080/",
     "height": 239
    },
    "colab_type": "code",
    "id": "mKMh95SHi7AL",
    "outputId": "6bf736ea-d691-4911-e54a-afb59540f6ff"
   },
   "outputs": [
    {
     "name": "stdout",
     "output_type": "stream",
     "text": [
      "System entropy:  2.2300834110898755\n",
      "System gini:  None\n"
     ]
    }
   ],
   "source": [
    "decisionTree = DecisionTree(data_descriptive.tolist(), descriptive_features, data_target.tolist(),\"entropy\")\n",
    "\n",
    "decisionTree.id3(0,5000)\n",
    "\n",
    "print(\"System entropy: \", format(decisionTree.entropy))\n",
    "print(\"System gini: \", format(decisionTree.gini))\n",
    "\n",
    "#Visualizing decision tree by Graphviz\n",
    "dot = decisionTree.print_visualTree(render=True )\n",
    "\n",
    "#display(dot)\n",
    " "
   ]
  },
  {
   "cell_type": "code",
   "execution_count": 5,
   "metadata": {
    "colab": {
     "base_uri": "https://localhost:8080/",
     "height": 168
    },
    "colab_type": "code",
    "id": "QqImuDnEi-aW",
    "outputId": "36eaff2b-1688-4fd1-8d13-c7662def4e76"
   },
   "outputs": [
    {
     "data": {
      "image/svg+xml": [
       "<?xml version=\"1.0\" encoding=\"UTF-8\" standalone=\"no\"?>\r\n",
       "<!DOCTYPE svg PUBLIC \"-//W3C//DTD SVG 1.1//EN\"\r\n",
       " \"http://www.w3.org/Graphics/SVG/1.1/DTD/svg11.dtd\">\r\n",
       "<!-- Generated by graphviz version 2.38.0 (20140413.2041)\r\n",
       " -->\r\n",
       "<!-- Title: %3 Pages: 1 -->\r\n",
       "<svg width=\"3429pt\" height=\"476pt\"\r\n",
       " viewBox=\"0.00 0.00 3428.94 476.00\" xmlns=\"http://www.w3.org/2000/svg\" xmlns:xlink=\"http://www.w3.org/1999/xlink\">\r\n",
       "<g id=\"graph0\" class=\"graph\" transform=\"scale(1 1) rotate(0) translate(4 472)\">\r\n",
       "<title>%3</title>\r\n",
       "<polygon fill=\"white\" stroke=\"none\" points=\"-4,4 -4,-472 3424.94,-472 3424.94,4 -4,4\"/>\r\n",
       "<!-- root -->\r\n",
       "<g id=\"node1\" class=\"node\"><title>root</title>\r\n",
       "<ellipse fill=\"none\" stroke=\"black\" cx=\"2145.55\" cy=\"-450\" rx=\"96.6831\" ry=\"18\"/>\r\n",
       "<text text-anchor=\"middle\" x=\"2145.55\" y=\"-446.3\" font-family=\"Times New Roman,serif\" font-size=\"14.00\">temperature_categorical</text>\r\n",
       "</g>\r\n",
       "<!-- 0.3712250283566567 -->\r\n",
       "<g id=\"node2\" class=\"node\"><title>0.3712250283566567</title>\r\n",
       "<ellipse fill=\"none\" stroke=\"black\" cx=\"1656.55\" cy=\"-378\" rx=\"39.7935\" ry=\"18\"/>\r\n",
       "<text text-anchor=\"middle\" x=\"1656.55\" y=\"-374.3\" font-family=\"Times New Roman,serif\" font-size=\"14.00\">medium</text>\r\n",
       "</g>\r\n",
       "<!-- root&#45;&gt;0.3712250283566567 -->\r\n",
       "<g id=\"edge1\" class=\"edge\"><title>root&#45;&gt;0.3712250283566567</title>\r\n",
       "<path fill=\"none\" stroke=\"black\" d=\"M2071.28,-438.369C1969.35,-423.778 1789.07,-397.97 1703.78,-385.762\"/>\r\n",
       "<polygon fill=\"black\" stroke=\"black\" points=\"1704.26,-382.294 1693.86,-384.342 1703.27,-389.224 1704.26,-382.294\"/>\r\n",
       "</g>\r\n",
       "<!-- 0.6000583650863336 -->\r\n",
       "<g id=\"node4\" class=\"node\"><title>0.6000583650863336</title>\r\n",
       "<ellipse fill=\"none\" stroke=\"black\" cx=\"2145.55\" cy=\"-378\" rx=\"27\" ry=\"18\"/>\r\n",
       "<text text-anchor=\"middle\" x=\"2145.55\" y=\"-374.3\" font-family=\"Times New Roman,serif\" font-size=\"14.00\">high</text>\r\n",
       "</g>\r\n",
       "<!-- root&#45;&gt;0.6000583650863336 -->\r\n",
       "<g id=\"edge3\" class=\"edge\"><title>root&#45;&gt;0.6000583650863336</title>\r\n",
       "<path fill=\"none\" stroke=\"black\" d=\"M2145.55,-431.697C2145.55,-423.983 2145.55,-414.712 2145.55,-406.112\"/>\r\n",
       "<polygon fill=\"black\" stroke=\"black\" points=\"2149.05,-406.104 2145.55,-396.104 2142.05,-406.104 2149.05,-406.104\"/>\r\n",
       "</g>\r\n",
       "<!-- 0.2019443003853032 -->\r\n",
       "<g id=\"node6\" class=\"node\"><title>0.2019443003853032</title>\r\n",
       "<ellipse fill=\"none\" stroke=\"black\" cx=\"2564.55\" cy=\"-378\" rx=\"27\" ry=\"18\"/>\r\n",
       "<text text-anchor=\"middle\" x=\"2564.55\" y=\"-374.3\" font-family=\"Times New Roman,serif\" font-size=\"14.00\">low</text>\r\n",
       "</g>\r\n",
       "<!-- root&#45;&gt;0.2019443003853032 -->\r\n",
       "<g id=\"edge5\" class=\"edge\"><title>root&#45;&gt;0.2019443003853032</title>\r\n",
       "<path fill=\"none\" stroke=\"black\" d=\"M2215.21,-437.362C2305.29,-422.312 2458.87,-396.655 2528.42,-385.036\"/>\r\n",
       "<polygon fill=\"black\" stroke=\"black\" points=\"2529.16,-388.461 2538.45,-383.361 2528.01,-381.556 2529.16,-388.461\"/>\r\n",
       "</g>\r\n",
       "<!-- 0.8639874037464974 -->\r\n",
       "<g id=\"node3\" class=\"node\"><title>0.8639874037464974</title>\r\n",
       "<ellipse fill=\"none\" stroke=\"black\" cx=\"1207.55\" cy=\"-306\" rx=\"59.2899\" ry=\"18\"/>\r\n",
       "<text text-anchor=\"middle\" x=\"1207.55\" y=\"-302.3\" font-family=\"Times New Roman,serif\" font-size=\"14.00\">weather_type</text>\r\n",
       "</g>\r\n",
       "<!-- 0.3712250283566567&#45;&gt;0.8639874037464974 -->\r\n",
       "<g id=\"edge2\" class=\"edge\"><title>0.3712250283566567&#45;&gt;0.8639874037464974</title>\r\n",
       "<path fill=\"none\" stroke=\"black\" d=\"M1619.42,-371.212C1542.19,-359.171 1363.54,-331.319 1268.92,-316.568\"/>\r\n",
       "<polygon fill=\"black\" stroke=\"black\" points=\"1269.34,-313.091 1258.92,-315.009 1268.26,-320.007 1269.34,-313.091\"/>\r\n",
       "</g>\r\n",
       "<!-- 0.904768429905869 -->\r\n",
       "<g id=\"node8\" class=\"node\"><title>0.904768429905869</title>\r\n",
       "<ellipse fill=\"none\" stroke=\"black\" cx=\"526.547\" cy=\"-234\" rx=\"37.0935\" ry=\"18\"/>\r\n",
       "<text text-anchor=\"middle\" x=\"526.547\" y=\"-230.3\" font-family=\"Times New Roman,serif\" font-size=\"14.00\">Clouds</text>\r\n",
       "</g>\r\n",
       "<!-- 0.8639874037464974&#45;&gt;0.904768429905869 -->\r\n",
       "<g id=\"edge7\" class=\"edge\"><title>0.8639874037464974&#45;&gt;0.904768429905869</title>\r\n",
       "<path fill=\"none\" stroke=\"black\" d=\"M1152.4,-299.331C1021.48,-285.874 693.89,-252.201 572.631,-239.737\"/>\r\n",
       "<polygon fill=\"black\" stroke=\"black\" points=\"572.87,-236.243 562.564,-238.702 572.154,-243.206 572.87,-236.243\"/>\r\n",
       "</g>\r\n",
       "<!-- 0.1413496481771057 -->\r\n",
       "<g id=\"node10\" class=\"node\"><title>0.1413496481771057</title>\r\n",
       "<ellipse fill=\"none\" stroke=\"black\" cx=\"856.547\" cy=\"-234\" rx=\"29.795\" ry=\"18\"/>\r\n",
       "<text text-anchor=\"middle\" x=\"856.547\" y=\"-230.3\" font-family=\"Times New Roman,serif\" font-size=\"14.00\">Clear</text>\r\n",
       "</g>\r\n",
       "<!-- 0.8639874037464974&#45;&gt;0.1413496481771057 -->\r\n",
       "<g id=\"edge9\" class=\"edge\"><title>0.8639874037464974&#45;&gt;0.1413496481771057</title>\r\n",
       "<path fill=\"none\" stroke=\"black\" d=\"M1152.61,-299.191C1090.2,-291.763 985.711,-276.804 898.547,-252 895.542,-251.145 892.459,-250.146 889.393,-249.068\"/>\r\n",
       "<polygon fill=\"black\" stroke=\"black\" points=\"890.374,-245.697 879.782,-245.438 887.9,-252.246 890.374,-245.697\"/>\r\n",
       "</g>\r\n",
       "<!-- 0.643663662288605 -->\r\n",
       "<g id=\"node12\" class=\"node\"><title>0.643663662288605</title>\r\n",
       "<ellipse fill=\"none\" stroke=\"black\" cx=\"934.547\" cy=\"-234\" rx=\"27.0966\" ry=\"18\"/>\r\n",
       "<text text-anchor=\"middle\" x=\"934.547\" y=\"-230.3\" font-family=\"Times New Roman,serif\" font-size=\"14.00\">Rain</text>\r\n",
       "</g>\r\n",
       "<!-- 0.8639874037464974&#45;&gt;0.643663662288605 -->\r\n",
       "<g id=\"edge11\" class=\"edge\"><title>0.8639874037464974&#45;&gt;0.643663662288605</title>\r\n",
       "<path fill=\"none\" stroke=\"black\" d=\"M1156.25,-296.911C1107.63,-288.457 1032.96,-273.419 970.547,-252 968.684,-251.361 966.79,-250.653 964.894,-249.9\"/>\r\n",
       "<polygon fill=\"black\" stroke=\"black\" points=\"966.112,-246.614 955.544,-245.866 963.339,-253.041 966.112,-246.614\"/>\r\n",
       "</g>\r\n",
       "<!-- 0.6834610022568591 -->\r\n",
       "<g id=\"node14\" class=\"node\"><title>0.6834610022568591</title>\r\n",
       "<ellipse fill=\"none\" stroke=\"black\" cx=\"1015.55\" cy=\"-234\" rx=\"35.9954\" ry=\"18\"/>\r\n",
       "<text text-anchor=\"middle\" x=\"1015.55\" y=\"-230.3\" font-family=\"Times New Roman,serif\" font-size=\"14.00\">Drizzle</text>\r\n",
       "</g>\r\n",
       "<!-- 0.8639874037464974&#45;&gt;0.6834610022568591 -->\r\n",
       "<g id=\"edge13\" class=\"edge\"><title>0.8639874037464974&#45;&gt;0.6834610022568591</title>\r\n",
       "<path fill=\"none\" stroke=\"black\" d=\"M1170.64,-291.868C1140.88,-281.236 1097.96,-265.81 1060.55,-252 1057.99,-251.056 1055.36,-250.077 1052.7,-249.087\"/>\r\n",
       "<polygon fill=\"black\" stroke=\"black\" points=\"1053.72,-245.731 1043.13,-245.495 1051.26,-252.285 1053.72,-245.731\"/>\r\n",
       "</g>\r\n",
       "<!-- 0.42206865987225184 -->\r\n",
       "<g id=\"node16\" class=\"node\"><title>0.42206865987225184</title>\r\n",
       "<ellipse fill=\"none\" stroke=\"black\" cx=\"1096.55\" cy=\"-234\" rx=\"27\" ry=\"18\"/>\r\n",
       "<text text-anchor=\"middle\" x=\"1096.55\" y=\"-230.3\" font-family=\"Times New Roman,serif\" font-size=\"14.00\">Mist</text>\r\n",
       "</g>\r\n",
       "<!-- 0.8639874037464974&#45;&gt;0.42206865987225184 -->\r\n",
       "<g id=\"edge15\" class=\"edge\"><title>0.8639874037464974&#45;&gt;0.42206865987225184</title>\r\n",
       "<path fill=\"none\" stroke=\"black\" d=\"M1182.91,-289.465C1165.62,-278.557 1142.46,-263.952 1124.47,-252.612\"/>\r\n",
       "<polygon fill=\"black\" stroke=\"black\" points=\"1125.93,-249.39 1115.6,-247.016 1122.19,-255.311 1125.93,-249.39\"/>\r\n",
       "</g>\r\n",
       "<!-- 0.2156561503389034 -->\r\n",
       "<g id=\"node18\" class=\"node\"><title>0.2156561503389034</title>\r\n",
       "<ellipse fill=\"none\" stroke=\"black\" cx=\"1170.55\" cy=\"-234\" rx=\"28.6953\" ry=\"18\"/>\r\n",
       "<text text-anchor=\"middle\" x=\"1170.55\" y=\"-230.3\" font-family=\"Times New Roman,serif\" font-size=\"14.00\">Haze</text>\r\n",
       "</g>\r\n",
       "<!-- 0.8639874037464974&#45;&gt;0.2156561503389034 -->\r\n",
       "<g id=\"edge17\" class=\"edge\"><title>0.8639874037464974&#45;&gt;0.2156561503389034</title>\r\n",
       "<path fill=\"none\" stroke=\"black\" d=\"M1198.59,-288.055C1194.21,-279.767 1188.85,-269.618 1183.99,-260.424\"/>\r\n",
       "<polygon fill=\"black\" stroke=\"black\" points=\"1186.93,-258.512 1179.17,-251.307 1180.75,-261.784 1186.93,-258.512\"/>\r\n",
       "</g>\r\n",
       "<!-- 0.49095854947338935 -->\r\n",
       "<g id=\"node20\" class=\"node\"><title>0.49095854947338935</title>\r\n",
       "<ellipse fill=\"none\" stroke=\"black\" cx=\"1244.55\" cy=\"-234\" rx=\"27\" ry=\"18\"/>\r\n",
       "<text text-anchor=\"middle\" x=\"1244.55\" y=\"-230.3\" font-family=\"Times New Roman,serif\" font-size=\"14.00\">Fog</text>\r\n",
       "</g>\r\n",
       "<!-- 0.8639874037464974&#45;&gt;0.49095854947338935 -->\r\n",
       "<g id=\"edge19\" class=\"edge\"><title>0.8639874037464974&#45;&gt;0.49095854947338935</title>\r\n",
       "<path fill=\"none\" stroke=\"black\" d=\"M1216.5,-288.055C1220.88,-279.767 1226.25,-269.618 1231.11,-260.424\"/>\r\n",
       "<polygon fill=\"black\" stroke=\"black\" points=\"1234.35,-261.784 1235.93,-251.307 1228.16,-258.512 1234.35,-261.784\"/>\r\n",
       "</g>\r\n",
       "<!-- 0.4403232141726019 -->\r\n",
       "<g id=\"node22\" class=\"node\"><title>0.4403232141726019</title>\r\n",
       "<ellipse fill=\"none\" stroke=\"black\" cx=\"1351.55\" cy=\"-234\" rx=\"62.2891\" ry=\"18\"/>\r\n",
       "<text text-anchor=\"middle\" x=\"1351.55\" y=\"-230.3\" font-family=\"Times New Roman,serif\" font-size=\"14.00\">Thunderstorm</text>\r\n",
       "</g>\r\n",
       "<!-- 0.8639874037464974&#45;&gt;0.4403232141726019 -->\r\n",
       "<g id=\"edge21\" class=\"edge\"><title>0.8639874037464974&#45;&gt;0.4403232141726019</title>\r\n",
       "<path fill=\"none\" stroke=\"black\" d=\"M1237.73,-290.326C1259.19,-279.896 1288.23,-265.781 1311.6,-254.419\"/>\r\n",
       "<polygon fill=\"black\" stroke=\"black\" points=\"1313.44,-257.416 1320.9,-249.896 1310.38,-251.12 1313.44,-257.416\"/>\r\n",
       "</g>\r\n",
       "<!-- 0.607849173903857 -->\r\n",
       "<g id=\"node24\" class=\"node\"><title>0.607849173903857</title>\r\n",
       "<ellipse fill=\"none\" stroke=\"black\" cx=\"1463.55\" cy=\"-234\" rx=\"31.6951\" ry=\"18\"/>\r\n",
       "<text text-anchor=\"middle\" x=\"1463.55\" y=\"-230.3\" font-family=\"Times New Roman,serif\" font-size=\"14.00\">Snow</text>\r\n",
       "</g>\r\n",
       "<!-- 0.8639874037464974&#45;&gt;0.607849173903857 -->\r\n",
       "<g id=\"edge23\" class=\"edge\"><title>0.8639874037464974&#45;&gt;0.607849173903857</title>\r\n",
       "<path fill=\"none\" stroke=\"black\" d=\"M1255.53,-295.353C1299.49,-286.003 1366.12,-270.536 1422.55,-252 1424.83,-251.249 1427.17,-250.429 1429.51,-249.567\"/>\r\n",
       "<polygon fill=\"black\" stroke=\"black\" points=\"1431,-252.743 1439.06,-245.862 1428.47,-246.218 1431,-252.743\"/>\r\n",
       "</g>\r\n",
       "<!-- 0.4507128387941345 -->\r\n",
       "<g id=\"node26\" class=\"node\"><title>0.4507128387941345</title>\r\n",
       "<ellipse fill=\"none\" stroke=\"black\" cx=\"1546.55\" cy=\"-234\" rx=\"33.2948\" ry=\"18\"/>\r\n",
       "<text text-anchor=\"middle\" x=\"1546.55\" y=\"-230.3\" font-family=\"Times New Roman,serif\" font-size=\"14.00\">Squall</text>\r\n",
       "</g>\r\n",
       "<!-- 0.8639874037464974&#45;&gt;0.4507128387941345 -->\r\n",
       "<g id=\"edge25\" class=\"edge\"><title>0.8639874037464974&#45;&gt;0.4507128387941345</title>\r\n",
       "<path fill=\"none\" stroke=\"black\" d=\"M1261.97,-298.743C1322.13,-291.032 1421.51,-275.933 1504.55,-252 1506.99,-251.295 1509.49,-250.496 1511.99,-249.639\"/>\r\n",
       "<polygon fill=\"black\" stroke=\"black\" points=\"1513.36,-252.865 1521.53,-246.115 1510.93,-246.299 1513.36,-252.865\"/>\r\n",
       "</g>\r\n",
       "<!-- 0.1928127915774741 -->\r\n",
       "<g id=\"node28\" class=\"node\"><title>0.1928127915774741</title>\r\n",
       "<ellipse fill=\"none\" stroke=\"black\" cx=\"1634.55\" cy=\"-234\" rx=\"36.2938\" ry=\"18\"/>\r\n",
       "<text text-anchor=\"middle\" x=\"1634.55\" y=\"-230.3\" font-family=\"Times New Roman,serif\" font-size=\"14.00\">Smoke</text>\r\n",
       "</g>\r\n",
       "<!-- 0.8639874037464974&#45;&gt;0.1928127915774741 -->\r\n",
       "<g id=\"edge27\" class=\"edge\"><title>0.8639874037464974&#45;&gt;0.1928127915774741</title>\r\n",
       "<path fill=\"none\" stroke=\"black\" d=\"M1264.44,-300.938C1339.56,-294.703 1475.52,-280.392 1588.55,-252 1591.51,-251.256 1594.54,-250.388 1597.57,-249.444\"/>\r\n",
       "<polygon fill=\"black\" stroke=\"black\" points=\"1598.76,-252.736 1607.12,-246.232 1596.53,-246.101 1598.76,-252.736\"/>\r\n",
       "</g>\r\n",
       "<!-- 0.6080166986604775 -->\r\n",
       "<g id=\"node5\" class=\"node\"><title>0.6080166986604775</title>\r\n",
       "<ellipse fill=\"none\" stroke=\"black\" cx=\"2145.55\" cy=\"-306\" rx=\"59.2899\" ry=\"18\"/>\r\n",
       "<text text-anchor=\"middle\" x=\"2145.55\" y=\"-302.3\" font-family=\"Times New Roman,serif\" font-size=\"14.00\">weather_type</text>\r\n",
       "</g>\r\n",
       "<!-- 0.6000583650863336&#45;&gt;0.6080166986604775 -->\r\n",
       "<g id=\"edge4\" class=\"edge\"><title>0.6000583650863336&#45;&gt;0.6080166986604775</title>\r\n",
       "<path fill=\"none\" stroke=\"black\" d=\"M2145.55,-359.697C2145.55,-351.983 2145.55,-342.712 2145.55,-334.112\"/>\r\n",
       "<polygon fill=\"black\" stroke=\"black\" points=\"2149.05,-334.104 2145.55,-324.104 2142.05,-334.104 2149.05,-334.104\"/>\r\n",
       "</g>\r\n",
       "<!-- 0.3287864362558527 -->\r\n",
       "<g id=\"node30\" class=\"node\"><title>0.3287864362558527</title>\r\n",
       "<ellipse fill=\"none\" stroke=\"black\" cx=\"1727.55\" cy=\"-234\" rx=\"29.795\" ry=\"18\"/>\r\n",
       "<text text-anchor=\"middle\" x=\"1727.55\" y=\"-230.3\" font-family=\"Times New Roman,serif\" font-size=\"14.00\">Clear</text>\r\n",
       "</g>\r\n",
       "<!-- 0.6080166986604775&#45;&gt;0.3287864362558527 -->\r\n",
       "<g id=\"edge29\" class=\"edge\"><title>0.6080166986604775&#45;&gt;0.3287864362558527</title>\r\n",
       "<path fill=\"none\" stroke=\"black\" d=\"M2087.72,-301.81C2012.52,-296.557 1877.65,-283.347 1766.55,-252 1764.27,-251.357 1761.95,-250.608 1759.63,-249.791\"/>\r\n",
       "<polygon fill=\"black\" stroke=\"black\" points=\"1760.85,-246.509 1750.26,-246.134 1758.31,-253.03 1760.85,-246.509\"/>\r\n",
       "</g>\r\n",
       "<!-- 0.31026191331604414 -->\r\n",
       "<g id=\"node32\" class=\"node\"><title>0.31026191331604414</title>\r\n",
       "<ellipse fill=\"none\" stroke=\"black\" cx=\"1812.55\" cy=\"-234\" rx=\"37.0935\" ry=\"18\"/>\r\n",
       "<text text-anchor=\"middle\" x=\"1812.55\" y=\"-230.3\" font-family=\"Times New Roman,serif\" font-size=\"14.00\">Clouds</text>\r\n",
       "</g>\r\n",
       "<!-- 0.6080166986604775&#45;&gt;0.31026191331604414 -->\r\n",
       "<g id=\"edge31\" class=\"edge\"><title>0.6080166986604775&#45;&gt;0.31026191331604414</title>\r\n",
       "<path fill=\"none\" stroke=\"black\" d=\"M2092.56,-297.996C2034.5,-289.679 1938.92,-274.096 1858.55,-252 1855.78,-251.238 1852.94,-250.382 1850.09,-249.469\"/>\r\n",
       "<polygon fill=\"black\" stroke=\"black\" points=\"1851.11,-246.118 1840.52,-246.204 1848.85,-252.744 1851.11,-246.118\"/>\r\n",
       "</g>\r\n",
       "<!-- 0.21502918342081168 -->\r\n",
       "<g id=\"node34\" class=\"node\"><title>0.21502918342081168</title>\r\n",
       "<ellipse fill=\"none\" stroke=\"black\" cx=\"1903.55\" cy=\"-234\" rx=\"35.9954\" ry=\"18\"/>\r\n",
       "<text text-anchor=\"middle\" x=\"1903.55\" y=\"-230.3\" font-family=\"Times New Roman,serif\" font-size=\"14.00\">Drizzle</text>\r\n",
       "</g>\r\n",
       "<!-- 0.6080166986604775&#45;&gt;0.21502918342081168 -->\r\n",
       "<g id=\"edge33\" class=\"edge\"><title>0.6080166986604775&#45;&gt;0.21502918342081168</title>\r\n",
       "<path fill=\"none\" stroke=\"black\" d=\"M2100.58,-294.243C2060.41,-284.317 2000.12,-268.634 1948.55,-252 1945.95,-251.164 1943.29,-250.264 1940.62,-249.332\"/>\r\n",
       "<polygon fill=\"black\" stroke=\"black\" points=\"1941.6,-245.964 1931,-245.862 1939.22,-252.548 1941.6,-245.964\"/>\r\n",
       "</g>\r\n",
       "<!-- 0.6468553243804891 -->\r\n",
       "<g id=\"node36\" class=\"node\"><title>0.6468553243804891</title>\r\n",
       "<ellipse fill=\"none\" stroke=\"black\" cx=\"1984.55\" cy=\"-234\" rx=\"27.0966\" ry=\"18\"/>\r\n",
       "<text text-anchor=\"middle\" x=\"1984.55\" y=\"-230.3\" font-family=\"Times New Roman,serif\" font-size=\"14.00\">Rain</text>\r\n",
       "</g>\r\n",
       "<!-- 0.6080166986604775&#45;&gt;0.6468553243804891 -->\r\n",
       "<g id=\"edge35\" class=\"edge\"><title>0.6080166986604775&#45;&gt;0.6468553243804891</title>\r\n",
       "<path fill=\"none\" stroke=\"black\" d=\"M2112.29,-291.068C2087.26,-280.516 2052.15,-265.569 2021.55,-252 2019.71,-251.183 2017.82,-250.338 2015.91,-249.48\"/>\r\n",
       "<polygon fill=\"black\" stroke=\"black\" points=\"2016.97,-246.117 2006.42,-245.165 2014.07,-252.489 2016.97,-246.117\"/>\r\n",
       "</g>\r\n",
       "<!-- 0.7865143108803717 -->\r\n",
       "<g id=\"node38\" class=\"node\"><title>0.7865143108803717</title>\r\n",
       "<ellipse fill=\"none\" stroke=\"black\" cx=\"2092.55\" cy=\"-234\" rx=\"62.2891\" ry=\"18\"/>\r\n",
       "<text text-anchor=\"middle\" x=\"2092.55\" y=\"-230.3\" font-family=\"Times New Roman,serif\" font-size=\"14.00\">Thunderstorm</text>\r\n",
       "</g>\r\n",
       "<!-- 0.6080166986604775&#45;&gt;0.7865143108803717 -->\r\n",
       "<g id=\"edge37\" class=\"edge\"><title>0.6080166986604775&#45;&gt;0.7865143108803717</title>\r\n",
       "<path fill=\"none\" stroke=\"black\" d=\"M2132.72,-288.055C2126.34,-279.629 2118.5,-269.28 2111.45,-259.966\"/>\r\n",
       "<polygon fill=\"black\" stroke=\"black\" points=\"2114.09,-257.649 2105.26,-251.789 2108.5,-261.874 2114.09,-257.649\"/>\r\n",
       "</g>\r\n",
       "<!-- 0.3580039575175423 -->\r\n",
       "<g id=\"node40\" class=\"node\"><title>0.3580039575175423</title>\r\n",
       "<ellipse fill=\"none\" stroke=\"black\" cx=\"2199.55\" cy=\"-234\" rx=\"27\" ry=\"18\"/>\r\n",
       "<text text-anchor=\"middle\" x=\"2199.55\" y=\"-230.3\" font-family=\"Times New Roman,serif\" font-size=\"14.00\">Mist</text>\r\n",
       "</g>\r\n",
       "<!-- 0.6080166986604775&#45;&gt;0.3580039575175423 -->\r\n",
       "<g id=\"edge39\" class=\"edge\"><title>0.6080166986604775&#45;&gt;0.3580039575175423</title>\r\n",
       "<path fill=\"none\" stroke=\"black\" d=\"M2158.34,-288.411C2165.2,-279.53 2173.75,-268.439 2181.29,-258.668\"/>\r\n",
       "<polygon fill=\"black\" stroke=\"black\" points=\"2184.24,-260.567 2187.58,-250.511 2178.7,-256.291 2184.24,-260.567\"/>\r\n",
       "</g>\r\n",
       "<!-- 0.9413365764234751 -->\r\n",
       "<g id=\"node42\" class=\"node\"><title>0.9413365764234751</title>\r\n",
       "<ellipse fill=\"none\" stroke=\"black\" cx=\"2273.55\" cy=\"-234\" rx=\"28.6953\" ry=\"18\"/>\r\n",
       "<text text-anchor=\"middle\" x=\"2273.55\" y=\"-230.3\" font-family=\"Times New Roman,serif\" font-size=\"14.00\">Haze</text>\r\n",
       "</g>\r\n",
       "<!-- 0.6080166986604775&#45;&gt;0.9413365764234751 -->\r\n",
       "<g id=\"edge41\" class=\"edge\"><title>0.6080166986604775&#45;&gt;0.9413365764234751</title>\r\n",
       "<path fill=\"none\" stroke=\"black\" d=\"M2173.01,-289.983C2193.74,-278.645 2222.17,-263.1 2243.5,-251.43\"/>\r\n",
       "<polygon fill=\"black\" stroke=\"black\" points=\"2245.37,-254.4 2252.46,-246.531 2242.01,-248.258 2245.37,-254.4\"/>\r\n",
       "</g>\r\n",
       "<!-- 0.09966219277315214 -->\r\n",
       "<g id=\"node44\" class=\"node\"><title>0.09966219277315214</title>\r\n",
       "<ellipse fill=\"none\" stroke=\"black\" cx=\"2353.55\" cy=\"-234\" rx=\"33.2948\" ry=\"18\"/>\r\n",
       "<text text-anchor=\"middle\" x=\"2353.55\" y=\"-230.3\" font-family=\"Times New Roman,serif\" font-size=\"14.00\">Squall</text>\r\n",
       "</g>\r\n",
       "<!-- 0.6080166986604775&#45;&gt;0.09966219277315214 -->\r\n",
       "<g id=\"edge43\" class=\"edge\"><title>0.6080166986604775&#45;&gt;0.09966219277315214</title>\r\n",
       "<path fill=\"none\" stroke=\"black\" d=\"M2186.43,-292.89C2220.21,-282.659 2269.3,-267.271 2311.55,-252 2313.79,-251.188 2316.1,-250.329 2318.42,-249.446\"/>\r\n",
       "<polygon fill=\"black\" stroke=\"black\" points=\"2319.86,-252.64 2327.9,-245.739 2317.31,-246.12 2319.86,-252.64\"/>\r\n",
       "</g>\r\n",
       "<!-- 0.9387802560212158 -->\r\n",
       "<g id=\"node46\" class=\"node\"><title>0.9387802560212158</title>\r\n",
       "<ellipse fill=\"none\" stroke=\"black\" cx=\"2442.55\" cy=\"-234\" rx=\"27\" ry=\"18\"/>\r\n",
       "<text text-anchor=\"middle\" x=\"2442.55\" y=\"-230.3\" font-family=\"Times New Roman,serif\" font-size=\"14.00\">Fog</text>\r\n",
       "</g>\r\n",
       "<!-- 0.6080166986604775&#45;&gt;0.9387802560212158 -->\r\n",
       "<g id=\"edge45\" class=\"edge\"><title>0.6080166986604775&#45;&gt;0.9387802560212158</title>\r\n",
       "<path fill=\"none\" stroke=\"black\" d=\"M2195.85,-296.449C2246.69,-287.313 2327.28,-271.48 2395.55,-252 2400.3,-250.643 2405.27,-249.047 2410.12,-247.387\"/>\r\n",
       "<polygon fill=\"black\" stroke=\"black\" points=\"2411.56,-250.591 2419.81,-243.942 2409.21,-243.996 2411.56,-250.591\"/>\r\n",
       "</g>\r\n",
       "<!-- 0.30416663433241864 -->\r\n",
       "<g id=\"node48\" class=\"node\"><title>0.30416663433241864</title>\r\n",
       "<ellipse fill=\"none\" stroke=\"black\" cx=\"2526.55\" cy=\"-234\" rx=\"36.2938\" ry=\"18\"/>\r\n",
       "<text text-anchor=\"middle\" x=\"2526.55\" y=\"-230.3\" font-family=\"Times New Roman,serif\" font-size=\"14.00\">Smoke</text>\r\n",
       "</g>\r\n",
       "<!-- 0.6080166986604775&#45;&gt;0.30416663433241864 -->\r\n",
       "<g id=\"edge47\" class=\"edge\"><title>0.6080166986604775&#45;&gt;0.30416663433241864</title>\r\n",
       "<path fill=\"none\" stroke=\"black\" d=\"M2200.68,-299.348C2267.24,-291.811 2382.24,-276.499 2478.55,-252 2482.1,-251.097 2485.76,-250.041 2489.39,-248.905\"/>\r\n",
       "<polygon fill=\"black\" stroke=\"black\" points=\"2490.5,-252.226 2498.89,-245.761 2488.3,-245.581 2490.5,-252.226\"/>\r\n",
       "</g>\r\n",
       "<!-- 0.35160972118592304 -->\r\n",
       "<g id=\"node7\" class=\"node\"><title>0.35160972118592304</title>\r\n",
       "<ellipse fill=\"none\" stroke=\"black\" cx=\"2913.55\" cy=\"-306\" rx=\"59.2899\" ry=\"18\"/>\r\n",
       "<text text-anchor=\"middle\" x=\"2913.55\" y=\"-302.3\" font-family=\"Times New Roman,serif\" font-size=\"14.00\">weather_type</text>\r\n",
       "</g>\r\n",
       "<!-- 0.2019443003853032&#45;&gt;0.35160972118592304 -->\r\n",
       "<g id=\"edge6\" class=\"edge\"><title>0.2019443003853032&#45;&gt;0.35160972118592304</title>\r\n",
       "<path fill=\"none\" stroke=\"black\" d=\"M2590.21,-371.853C2645.8,-360.703 2778.53,-334.081 2855.54,-318.635\"/>\r\n",
       "<polygon fill=\"black\" stroke=\"black\" points=\"2856.45,-322.023 2865.56,-316.624 2855.07,-315.159 2856.45,-322.023\"/>\r\n",
       "</g>\r\n",
       "<!-- 0.07268972097853155 -->\r\n",
       "<g id=\"node50\" class=\"node\"><title>0.07268972097853155</title>\r\n",
       "<ellipse fill=\"none\" stroke=\"black\" cx=\"2630.55\" cy=\"-234\" rx=\"29.795\" ry=\"18\"/>\r\n",
       "<text text-anchor=\"middle\" x=\"2630.55\" y=\"-230.3\" font-family=\"Times New Roman,serif\" font-size=\"14.00\">Clear</text>\r\n",
       "</g>\r\n",
       "<!-- 0.35160972118592304&#45;&gt;0.07268972097853155 -->\r\n",
       "<g id=\"edge49\" class=\"edge\"><title>0.35160972118592304&#45;&gt;0.07268972097853155</title>\r\n",
       "<path fill=\"none\" stroke=\"black\" d=\"M2862.56,-296.747C2812.88,-288.039 2735.55,-272.702 2670.55,-252 2668.09,-251.219 2665.58,-250.344 2663.08,-249.414\"/>\r\n",
       "<polygon fill=\"black\" stroke=\"black\" points=\"2664.12,-246.064 2653.54,-245.637 2661.55,-252.572 2664.12,-246.064\"/>\r\n",
       "</g>\r\n",
       "<!-- 0.7435817023132233 -->\r\n",
       "<g id=\"node52\" class=\"node\"><title>0.7435817023132233</title>\r\n",
       "<ellipse fill=\"none\" stroke=\"black\" cx=\"2716.55\" cy=\"-234\" rx=\"37.0935\" ry=\"18\"/>\r\n",
       "<text text-anchor=\"middle\" x=\"2716.55\" y=\"-230.3\" font-family=\"Times New Roman,serif\" font-size=\"14.00\">Clouds</text>\r\n",
       "</g>\r\n",
       "<!-- 0.35160972118592304&#45;&gt;0.7435817023132233 -->\r\n",
       "<g id=\"edge51\" class=\"edge\"><title>0.35160972118592304&#45;&gt;0.7435817023132233</title>\r\n",
       "<path fill=\"none\" stroke=\"black\" d=\"M2875.94,-291.994C2845.36,-281.368 2801.1,-265.889 2762.55,-252 2760.01,-251.085 2757.39,-250.135 2754.75,-249.174\"/>\r\n",
       "<polygon fill=\"black\" stroke=\"black\" points=\"2755.82,-245.839 2745.23,-245.683 2753.41,-252.411 2755.82,-245.839\"/>\r\n",
       "</g>\r\n",
       "<!-- 0.9588028966748657 -->\r\n",
       "<g id=\"node54\" class=\"node\"><title>0.9588028966748657</title>\r\n",
       "<ellipse fill=\"none\" stroke=\"black\" cx=\"2800.55\" cy=\"-234\" rx=\"28.6953\" ry=\"18\"/>\r\n",
       "<text text-anchor=\"middle\" x=\"2800.55\" y=\"-230.3\" font-family=\"Times New Roman,serif\" font-size=\"14.00\">Haze</text>\r\n",
       "</g>\r\n",
       "<!-- 0.35160972118592304&#45;&gt;0.9588028966748657 -->\r\n",
       "<g id=\"edge53\" class=\"edge\"><title>0.35160972118592304&#45;&gt;0.9588028966748657</title>\r\n",
       "<path fill=\"none\" stroke=\"black\" d=\"M2888.75,-289.638C2871.11,-278.709 2847.37,-264.003 2828.96,-252.6\"/>\r\n",
       "<polygon fill=\"black\" stroke=\"black\" points=\"2830.75,-249.59 2820.4,-247.299 2827.06,-255.541 2830.75,-249.59\"/>\r\n",
       "</g>\r\n",
       "<!-- 0.027607770708042767 -->\r\n",
       "<g id=\"node56\" class=\"node\"><title>0.027607770708042767</title>\r\n",
       "<ellipse fill=\"none\" stroke=\"black\" cx=\"2874.55\" cy=\"-234\" rx=\"27\" ry=\"18\"/>\r\n",
       "<text text-anchor=\"middle\" x=\"2874.55\" y=\"-230.3\" font-family=\"Times New Roman,serif\" font-size=\"14.00\">Mist</text>\r\n",
       "</g>\r\n",
       "<!-- 0.35160972118592304&#45;&gt;0.027607770708042767 -->\r\n",
       "<g id=\"edge55\" class=\"edge\"><title>0.35160972118592304&#45;&gt;0.027607770708042767</title>\r\n",
       "<path fill=\"none\" stroke=\"black\" d=\"M2904.11,-288.055C2899.44,-279.679 2893.72,-269.404 2888.55,-260.134\"/>\r\n",
       "<polygon fill=\"black\" stroke=\"black\" points=\"2891.56,-258.339 2883.63,-251.307 2885.44,-261.746 2891.56,-258.339\"/>\r\n",
       "</g>\r\n",
       "<!-- 0.030015464462751273 -->\r\n",
       "<g id=\"node58\" class=\"node\"><title>0.030015464462751273</title>\r\n",
       "<ellipse fill=\"none\" stroke=\"black\" cx=\"2953.55\" cy=\"-234\" rx=\"31.6951\" ry=\"18\"/>\r\n",
       "<text text-anchor=\"middle\" x=\"2953.55\" y=\"-230.3\" font-family=\"Times New Roman,serif\" font-size=\"14.00\">Snow</text>\r\n",
       "</g>\r\n",
       "<!-- 0.35160972118592304&#45;&gt;0.030015464462751273 -->\r\n",
       "<g id=\"edge57\" class=\"edge\"><title>0.35160972118592304&#45;&gt;0.030015464462751273</title>\r\n",
       "<path fill=\"none\" stroke=\"black\" d=\"M2923.23,-288.055C2928.02,-279.679 2933.89,-269.404 2939.18,-260.134\"/>\r\n",
       "<polygon fill=\"black\" stroke=\"black\" points=\"2942.31,-261.726 2944.23,-251.307 2936.23,-258.253 2942.31,-261.726\"/>\r\n",
       "</g>\r\n",
       "<!-- 0.04233844639876905 -->\r\n",
       "<g id=\"node60\" class=\"node\"><title>0.04233844639876905</title>\r\n",
       "<ellipse fill=\"none\" stroke=\"black\" cx=\"3034.55\" cy=\"-234\" rx=\"27\" ry=\"18\"/>\r\n",
       "<text text-anchor=\"middle\" x=\"3034.55\" y=\"-230.3\" font-family=\"Times New Roman,serif\" font-size=\"14.00\">Fog</text>\r\n",
       "</g>\r\n",
       "<!-- 0.35160972118592304&#45;&gt;0.04233844639876905 -->\r\n",
       "<g id=\"edge59\" class=\"edge\"><title>0.35160972118592304&#45;&gt;0.04233844639876905</title>\r\n",
       "<path fill=\"none\" stroke=\"black\" d=\"M2939.8,-289.811C2959.33,-278.513 2985.96,-263.109 3006.01,-251.508\"/>\r\n",
       "<polygon fill=\"black\" stroke=\"black\" points=\"3007.81,-254.511 3014.71,-246.473 3004.31,-248.451 3007.81,-254.511\"/>\r\n",
       "</g>\r\n",
       "<!-- 0.20461785825231316 -->\r\n",
       "<g id=\"node62\" class=\"node\"><title>0.20461785825231316</title>\r\n",
       "<ellipse fill=\"none\" stroke=\"black\" cx=\"3114.55\" cy=\"-234\" rx=\"27.0966\" ry=\"18\"/>\r\n",
       "<text text-anchor=\"middle\" x=\"3114.55\" y=\"-230.3\" font-family=\"Times New Roman,serif\" font-size=\"14.00\">Rain</text>\r\n",
       "</g>\r\n",
       "<!-- 0.35160972118592304&#45;&gt;0.20461785825231316 -->\r\n",
       "<g id=\"edge61\" class=\"edge\"><title>0.35160972118592304&#45;&gt;0.20461785825231316</title>\r\n",
       "<path fill=\"none\" stroke=\"black\" d=\"M2952.42,-292.394C2984.29,-281.936 3030.51,-266.485 3070.55,-252 3074.34,-250.629 3078.3,-249.156 3082.22,-247.673\"/>\r\n",
       "<polygon fill=\"black\" stroke=\"black\" points=\"3083.69,-250.856 3091.78,-244.011 3081.19,-244.319 3083.69,-250.856\"/>\r\n",
       "</g>\r\n",
       "<!-- 0.8283652360519668 -->\r\n",
       "<g id=\"node64\" class=\"node\"><title>0.8283652360519668</title>\r\n",
       "<ellipse fill=\"none\" stroke=\"black\" cx=\"3211.55\" cy=\"-234\" rx=\"35.9954\" ry=\"18\"/>\r\n",
       "<text text-anchor=\"middle\" x=\"3211.55\" y=\"-230.3\" font-family=\"Times New Roman,serif\" font-size=\"14.00\">Drizzle</text>\r\n",
       "</g>\r\n",
       "<!-- 0.35160972118592304&#45;&gt;0.8283652360519668 -->\r\n",
       "<g id=\"edge63\" class=\"edge\"><title>0.35160972118592304&#45;&gt;0.8283652360519668</title>\r\n",
       "<path fill=\"none\" stroke=\"black\" d=\"M2960.93,-295.158C3008.9,-285.019 3085.12,-268.422 3150.55,-252 3157.28,-250.31 3164.41,-248.419 3171.32,-246.529\"/>\r\n",
       "<polygon fill=\"black\" stroke=\"black\" points=\"3172.52,-249.828 3181.22,-243.785 3170.65,-243.082 3172.52,-249.828\"/>\r\n",
       "</g>\r\n",
       "<!-- 0.854511468915909 -->\r\n",
       "<g id=\"node66\" class=\"node\"><title>0.854511468915909</title>\r\n",
       "<ellipse fill=\"none\" stroke=\"black\" cx=\"3358.55\" cy=\"-234\" rx=\"62.2891\" ry=\"18\"/>\r\n",
       "<text text-anchor=\"middle\" x=\"3358.55\" y=\"-230.3\" font-family=\"Times New Roman,serif\" font-size=\"14.00\">Thunderstorm</text>\r\n",
       "</g>\r\n",
       "<!-- 0.35160972118592304&#45;&gt;0.854511468915909 -->\r\n",
       "<g id=\"edge65\" class=\"edge\"><title>0.35160972118592304&#45;&gt;0.854511468915909</title>\r\n",
       "<path fill=\"none\" stroke=\"black\" d=\"M2965.29,-297.199C3032.47,-287.028 3153.33,-268.576 3256.55,-252 3269.4,-249.936 3283.16,-247.677 3296.27,-245.499\"/>\r\n",
       "<polygon fill=\"black\" stroke=\"black\" points=\"3296.86,-248.95 3306.15,-243.855 3295.71,-242.045 3296.86,-248.95\"/>\r\n",
       "</g>\r\n",
       "<!-- 0.3838142682215452 -->\r\n",
       "<g id=\"node9\" class=\"node\"><title>0.3838142682215452</title>\r\n",
       "<ellipse fill=\"none\" stroke=\"black\" cx=\"280.547\" cy=\"-162\" rx=\"37.0935\" ry=\"18\"/>\r\n",
       "<text text-anchor=\"middle\" x=\"280.547\" y=\"-158.3\" font-family=\"Times New Roman,serif\" font-size=\"14.00\">holiday</text>\r\n",
       "</g>\r\n",
       "<!-- 0.904768429905869&#45;&gt;0.3838142682215452 -->\r\n",
       "<g id=\"edge8\" class=\"edge\"><title>0.904768429905869&#45;&gt;0.3838142682215452</title>\r\n",
       "<path fill=\"none\" stroke=\"black\" d=\"M495.391,-224.134C451.243,-211.572 370.418,-188.573 321.477,-174.647\"/>\r\n",
       "<polygon fill=\"black\" stroke=\"black\" points=\"322.414,-171.274 311.838,-171.904 320.498,-178.007 322.414,-171.274\"/>\r\n",
       "</g>\r\n",
       "<!-- 0.34427340584354116 -->\r\n",
       "<g id=\"node68\" class=\"node\"><title>0.34427340584354116</title>\r\n",
       "<ellipse fill=\"none\" stroke=\"black\" cx=\"30.5473\" cy=\"-90\" rx=\"30.5947\" ry=\"18\"/>\r\n",
       "<text text-anchor=\"middle\" x=\"30.5473\" y=\"-86.3\" font-family=\"Times New Roman,serif\" font-size=\"14.00\">None</text>\r\n",
       "</g>\r\n",
       "<!-- 0.3838142682215452&#45;&gt;0.34427340584354116 -->\r\n",
       "<g id=\"edge67\" class=\"edge\"><title>0.3838142682215452&#45;&gt;0.34427340584354116</title>\r\n",
       "<path fill=\"none\" stroke=\"black\" d=\"M246.797,-154.321C204.717,-145.585 130.857,-128.903 69.5473,-108 67.4456,-107.283 65.2997,-106.501 63.149,-105.677\"/>\r\n",
       "<polygon fill=\"black\" stroke=\"black\" points=\"64.3929,-102.405 53.8108,-101.885 61.7592,-108.891 64.3929,-102.405\"/>\r\n",
       "</g>\r\n",
       "<!-- 0.027786564770252542 -->\r\n",
       "<g id=\"node70\" class=\"node\"><title>0.027786564770252542</title>\r\n",
       "<ellipse fill=\"none\" stroke=\"black\" cx=\"140.547\" cy=\"-90\" rx=\"61.99\" ry=\"18\"/>\r\n",
       "<text text-anchor=\"middle\" x=\"140.547\" y=\"-86.3\" font-family=\"Times New Roman,serif\" font-size=\"14.00\">Memorial Day</text>\r\n",
       "</g>\r\n",
       "<!-- 0.3838142682215452&#45;&gt;0.027786564770252542 -->\r\n",
       "<g id=\"edge69\" class=\"edge\"><title>0.3838142682215452&#45;&gt;0.027786564770252542</title>\r\n",
       "<path fill=\"none\" stroke=\"black\" d=\"M255.518,-148.485C234.317,-137.885 203.571,-122.512 179.208,-110.33\"/>\r\n",
       "<polygon fill=\"black\" stroke=\"black\" points=\"180.726,-107.176 170.216,-105.834 177.595,-113.437 180.726,-107.176\"/>\r\n",
       "</g>\r\n",
       "<!-- 0.37906673661454093 -->\r\n",
       "<g id=\"node72\" class=\"node\"><title>0.37906673661454093</title>\r\n",
       "<ellipse fill=\"none\" stroke=\"black\" cx=\"280.547\" cy=\"-90\" rx=\"59.5901\" ry=\"18\"/>\r\n",
       "<text text-anchor=\"middle\" x=\"280.547\" y=\"-86.3\" font-family=\"Times New Roman,serif\" font-size=\"14.00\">Veterans Day</text>\r\n",
       "</g>\r\n",
       "<!-- 0.3838142682215452&#45;&gt;0.37906673661454093 -->\r\n",
       "<g id=\"edge71\" class=\"edge\"><title>0.3838142682215452&#45;&gt;0.37906673661454093</title>\r\n",
       "<path fill=\"none\" stroke=\"black\" d=\"M280.547,-143.697C280.547,-135.983 280.547,-126.712 280.547,-118.112\"/>\r\n",
       "<polygon fill=\"black\" stroke=\"black\" points=\"284.047,-118.104 280.547,-108.104 277.047,-118.104 284.047,-118.104\"/>\r\n",
       "</g>\r\n",
       "<!-- 0.41567323463557737 -->\r\n",
       "<g id=\"node74\" class=\"node\"><title>0.41567323463557737</title>\r\n",
       "<ellipse fill=\"none\" stroke=\"black\" cx=\"449.547\" cy=\"-90\" rx=\"90.9839\" ry=\"18\"/>\r\n",
       "<text text-anchor=\"middle\" x=\"449.547\" y=\"-86.3\" font-family=\"Times New Roman,serif\" font-size=\"14.00\">Washingtons Birthday</text>\r\n",
       "</g>\r\n",
       "<!-- 0.3838142682215452&#45;&gt;0.41567323463557737 -->\r\n",
       "<g id=\"edge73\" class=\"edge\"><title>0.3838142682215452&#45;&gt;0.41567323463557737</title>\r\n",
       "<path fill=\"none\" stroke=\"black\" d=\"M307.7,-149.753C333.211,-139.187 371.925,-123.151 402.467,-110.501\"/>\r\n",
       "<polygon fill=\"black\" stroke=\"black\" points=\"404.169,-113.584 412.069,-106.524 401.49,-107.117 404.169,-113.584\"/>\r\n",
       "</g>\r\n",
       "<!-- 0.14399936424523807 -->\r\n",
       "<g id=\"node11\" class=\"node\"><title>0.14399936424523807</title>\r\n",
       "<ellipse fill=\"none\" stroke=\"black\" cx=\"853.547\" cy=\"-162\" rx=\"37.0935\" ry=\"18\"/>\r\n",
       "<text text-anchor=\"middle\" x=\"853.547\" y=\"-158.3\" font-family=\"Times New Roman,serif\" font-size=\"14.00\">holiday</text>\r\n",
       "</g>\r\n",
       "<!-- 0.1413496481771057&#45;&gt;0.14399936424523807 -->\r\n",
       "<g id=\"edge10\" class=\"edge\"><title>0.1413496481771057&#45;&gt;0.14399936424523807</title>\r\n",
       "<path fill=\"none\" stroke=\"black\" d=\"M855.806,-215.697C855.475,-207.983 855.078,-198.712 854.709,-190.112\"/>\r\n",
       "<polygon fill=\"black\" stroke=\"black\" points=\"858.205,-189.945 854.28,-180.104 851.212,-190.245 858.205,-189.945\"/>\r\n",
       "</g>\r\n",
       "<!-- 0.11116133513508686 -->\r\n",
       "<g id=\"node76\" class=\"node\"><title>0.11116133513508686</title>\r\n",
       "<ellipse fill=\"none\" stroke=\"black\" cx=\"589.547\" cy=\"-90\" rx=\"30.5947\" ry=\"18\"/>\r\n",
       "<text text-anchor=\"middle\" x=\"589.547\" y=\"-86.3\" font-family=\"Times New Roman,serif\" font-size=\"14.00\">None</text>\r\n",
       "</g>\r\n",
       "<!-- 0.14399936424523807&#45;&gt;0.11116133513508686 -->\r\n",
       "<g id=\"edge75\" class=\"edge\"><title>0.14399936424523807&#45;&gt;0.11116133513508686</title>\r\n",
       "<path fill=\"none\" stroke=\"black\" d=\"M819.09,-154.884C774.478,-146.512 694.615,-129.982 628.547,-108 626.44,-107.299 624.291,-106.528 622.137,-105.714\"/>\r\n",
       "<polygon fill=\"black\" stroke=\"black\" points=\"623.374,-102.439 612.791,-101.943 620.755,-108.931 623.374,-102.439\"/>\r\n",
       "</g>\r\n",
       "<!-- 0.8845173547080054 -->\r\n",
       "<g id=\"node78\" class=\"node\"><title>0.8845173547080054</title>\r\n",
       "<ellipse fill=\"none\" stroke=\"black\" cx=\"697.547\" cy=\"-90\" rx=\"59.5901\" ry=\"18\"/>\r\n",
       "<text text-anchor=\"middle\" x=\"697.547\" y=\"-86.3\" font-family=\"Times New Roman,serif\" font-size=\"14.00\">Veterans Day</text>\r\n",
       "</g>\r\n",
       "<!-- 0.14399936424523807&#45;&gt;0.8845173547080054 -->\r\n",
       "<g id=\"edge77\" class=\"edge\"><title>0.14399936424523807&#45;&gt;0.8845173547080054</title>\r\n",
       "<path fill=\"none\" stroke=\"black\" d=\"M827.084,-149.125C802.873,-138.262 766.671,-122.017 738.688,-109.461\"/>\r\n",
       "<polygon fill=\"black\" stroke=\"black\" points=\"740.099,-106.258 729.543,-105.357 737.233,-112.644 740.099,-106.258\"/>\r\n",
       "</g>\r\n",
       "<!-- 0.9613502674870404 -->\r\n",
       "<g id=\"node80\" class=\"node\"><title>0.9613502674870404</title>\r\n",
       "<ellipse fill=\"none\" stroke=\"black\" cx=\"853.547\" cy=\"-90\" rx=\"78.7863\" ry=\"18\"/>\r\n",
       "<text text-anchor=\"middle\" x=\"853.547\" y=\"-86.3\" font-family=\"Times New Roman,serif\" font-size=\"14.00\">Independence Day</text>\r\n",
       "</g>\r\n",
       "<!-- 0.14399936424523807&#45;&gt;0.9613502674870404 -->\r\n",
       "<g id=\"edge79\" class=\"edge\"><title>0.14399936424523807&#45;&gt;0.9613502674870404</title>\r\n",
       "<path fill=\"none\" stroke=\"black\" d=\"M853.547,-143.697C853.547,-135.983 853.547,-126.712 853.547,-118.112\"/>\r\n",
       "<polygon fill=\"black\" stroke=\"black\" points=\"857.047,-118.104 853.547,-108.104 850.047,-118.104 857.047,-118.104\"/>\r\n",
       "</g>\r\n",
       "<!-- 0.5062553319750563 -->\r\n",
       "<g id=\"node82\" class=\"node\"><title>0.5062553319750563</title>\r\n",
       "<ellipse fill=\"none\" stroke=\"black\" cx=\"1000.55\" cy=\"-90\" rx=\"50.0912\" ry=\"18\"/>\r\n",
       "<text text-anchor=\"middle\" x=\"1000.55\" y=\"-86.3\" font-family=\"Times New Roman,serif\" font-size=\"14.00\">Labor Day</text>\r\n",
       "</g>\r\n",
       "<!-- 0.14399936424523807&#45;&gt;0.5062553319750563 -->\r\n",
       "<g id=\"edge81\" class=\"edge\"><title>0.14399936424523807&#45;&gt;0.5062553319750563</title>\r\n",
       "<path fill=\"none\" stroke=\"black\" d=\"M879.153,-148.807C902.157,-137.853 936.248,-121.619 962.451,-109.141\"/>\r\n",
       "<polygon fill=\"black\" stroke=\"black\" points=\"964.189,-112.19 971.713,-104.731 961.18,-105.87 964.189,-112.19\"/>\r\n",
       "</g>\r\n",
       "<!-- 0.139709987683162 -->\r\n",
       "<g id=\"node84\" class=\"node\"><title>0.139709987683162</title>\r\n",
       "<ellipse fill=\"none\" stroke=\"black\" cx=\"1134.55\" cy=\"-90\" rx=\"65.7887\" ry=\"18\"/>\r\n",
       "<text text-anchor=\"middle\" x=\"1134.55\" y=\"-86.3\" font-family=\"Times New Roman,serif\" font-size=\"14.00\">Columbus Day</text>\r\n",
       "</g>\r\n",
       "<!-- 0.14399936424523807&#45;&gt;0.139709987683162 -->\r\n",
       "<g id=\"edge83\" class=\"edge\"><title>0.14399936424523807&#45;&gt;0.139709987683162</title>\r\n",
       "<path fill=\"none\" stroke=\"black\" d=\"M881.568,-149.973C887.459,-147.845 893.669,-145.739 899.547,-144 969.441,-123.321 988.449,-124.056 1059.55,-108 1064.84,-106.805 1070.34,-105.561 1075.85,-104.314\"/>\r\n",
       "<polygon fill=\"black\" stroke=\"black\" points=\"1076.75,-107.698 1085.73,-102.076 1075.21,-100.871 1076.75,-107.698\"/>\r\n",
       "</g>\r\n",
       "<!-- 0.4893138162048358 -->\r\n",
       "<g id=\"node86\" class=\"node\"><title>0.4893138162048358</title>\r\n",
       "<ellipse fill=\"none\" stroke=\"black\" cx=\"1263.55\" cy=\"-90\" rx=\"45.4919\" ry=\"18\"/>\r\n",
       "<text text-anchor=\"middle\" x=\"1263.55\" y=\"-86.3\" font-family=\"Times New Roman,serif\" font-size=\"14.00\">State Fair</text>\r\n",
       "</g>\r\n",
       "<!-- 0.14399936424523807&#45;&gt;0.4893138162048358 -->\r\n",
       "<g id=\"edge85\" class=\"edge\"><title>0.14399936424523807&#45;&gt;0.4893138162048358</title>\r\n",
       "<path fill=\"none\" stroke=\"black\" d=\"M880.947,-149.663C886.991,-147.505 893.42,-145.466 899.547,-144 1034.44,-111.73 1073.9,-136.955 1209.55,-108 1213.17,-107.226 1216.9,-106.311 1220.63,-105.314\"/>\r\n",
       "<polygon fill=\"black\" stroke=\"black\" points=\"1221.74,-108.634 1230.4,-102.52 1219.82,-101.904 1221.74,-108.634\"/>\r\n",
       "</g>\r\n",
       "<!-- 0.8225225460228022 -->\r\n",
       "<g id=\"node13\" class=\"node\"><title>0.8225225460228022</title>\r\n",
       "<ellipse fill=\"none\" stroke=\"black\" cx=\"935.547\" cy=\"-162\" rx=\"27\" ry=\"18\"/>\r\n",
       "<text text-anchor=\"middle\" x=\"935.547\" y=\"-158.3\" font-family=\"Times New Roman,serif\" font-size=\"14.00\">high</text>\r\n",
       "</g>\r\n",
       "<!-- 0.643663662288605&#45;&gt;0.8225225460228022 -->\r\n",
       "<g id=\"edge12\" class=\"edge\"><title>0.643663662288605&#45;&gt;0.8225225460228022</title>\r\n",
       "<path fill=\"none\" stroke=\"black\" d=\"M934.794,-215.697C934.905,-207.983 935.037,-198.712 935.16,-190.112\"/>\r\n",
       "<polygon fill=\"black\" stroke=\"black\" points=\"938.66,-190.153 935.303,-180.104 931.66,-190.053 938.66,-190.153\"/>\r\n",
       "</g>\r\n",
       "<!-- 0.3300065700402557 -->\r\n",
       "<g id=\"node15\" class=\"node\"><title>0.3300065700402557</title>\r\n",
       "<ellipse fill=\"none\" stroke=\"black\" cx=\"1007.55\" cy=\"-162\" rx=\"27\" ry=\"18\"/>\r\n",
       "<text text-anchor=\"middle\" x=\"1007.55\" y=\"-158.3\" font-family=\"Times New Roman,serif\" font-size=\"14.00\">high</text>\r\n",
       "</g>\r\n",
       "<!-- 0.6834610022568591&#45;&gt;0.3300065700402557 -->\r\n",
       "<g id=\"edge14\" class=\"edge\"><title>0.6834610022568591&#45;&gt;0.3300065700402557</title>\r\n",
       "<path fill=\"none\" stroke=\"black\" d=\"M1013.57,-215.697C1012.69,-207.983 1011.63,-198.712 1010.65,-190.112\"/>\r\n",
       "<polygon fill=\"black\" stroke=\"black\" points=\"1014.11,-189.642 1009.5,-180.104 1007.16,-190.437 1014.11,-189.642\"/>\r\n",
       "</g>\r\n",
       "<!-- 0.1335292820133227 -->\r\n",
       "<g id=\"node17\" class=\"node\"><title>0.1335292820133227</title>\r\n",
       "<ellipse fill=\"none\" stroke=\"black\" cx=\"1094.55\" cy=\"-162\" rx=\"42.4939\" ry=\"18\"/>\r\n",
       "<text text-anchor=\"middle\" x=\"1094.55\" y=\"-158.3\" font-family=\"Times New Roman,serif\" font-size=\"14.00\">very low</text>\r\n",
       "</g>\r\n",
       "<!-- 0.42206865987225184&#45;&gt;0.1335292820133227 -->\r\n",
       "<g id=\"edge16\" class=\"edge\"><title>0.42206865987225184&#45;&gt;0.1335292820133227</title>\r\n",
       "<path fill=\"none\" stroke=\"black\" d=\"M1096.05,-215.697C1095.83,-207.983 1095.57,-198.712 1095.32,-190.112\"/>\r\n",
       "<polygon fill=\"black\" stroke=\"black\" points=\"1098.82,-190 1095.04,-180.104 1091.82,-190.2 1098.82,-190\"/>\r\n",
       "</g>\r\n",
       "<!-- 0.8603507419010883 -->\r\n",
       "<g id=\"node19\" class=\"node\"><title>0.8603507419010883</title>\r\n",
       "<ellipse fill=\"none\" stroke=\"black\" cx=\"1181.55\" cy=\"-162\" rx=\"27\" ry=\"18\"/>\r\n",
       "<text text-anchor=\"middle\" x=\"1181.55\" y=\"-158.3\" font-family=\"Times New Roman,serif\" font-size=\"14.00\">high</text>\r\n",
       "</g>\r\n",
       "<!-- 0.2156561503389034&#45;&gt;0.8603507419010883 -->\r\n",
       "<g id=\"edge18\" class=\"edge\"><title>0.2156561503389034&#45;&gt;0.8603507419010883</title>\r\n",
       "<path fill=\"none\" stroke=\"black\" d=\"M1173.21,-216.055C1174.42,-208.346 1175.89,-199.027 1177.25,-190.364\"/>\r\n",
       "<polygon fill=\"black\" stroke=\"black\" points=\"1180.74,-190.697 1178.83,-180.275 1173.82,-189.611 1180.74,-190.697\"/>\r\n",
       "</g>\r\n",
       "<!-- 0.6377521481007743 -->\r\n",
       "<g id=\"node21\" class=\"node\"><title>0.6377521481007743</title>\r\n",
       "<ellipse fill=\"none\" stroke=\"black\" cx=\"1268.55\" cy=\"-162\" rx=\"42.4939\" ry=\"18\"/>\r\n",
       "<text text-anchor=\"middle\" x=\"1268.55\" y=\"-158.3\" font-family=\"Times New Roman,serif\" font-size=\"14.00\">very low</text>\r\n",
       "</g>\r\n",
       "<!-- 0.49095854947338935&#45;&gt;0.6377521481007743 -->\r\n",
       "<g id=\"edge20\" class=\"edge\"><title>0.49095854947338935&#45;&gt;0.6377521481007743</title>\r\n",
       "<path fill=\"none\" stroke=\"black\" d=\"M1250.36,-216.055C1253.06,-208.176 1256.34,-198.617 1259.36,-189.794\"/>\r\n",
       "<polygon fill=\"black\" stroke=\"black\" points=\"1262.69,-190.87 1262.62,-180.275 1256.07,-188.6 1262.69,-190.87\"/>\r\n",
       "</g>\r\n",
       "<!-- 0.19692692992190808 -->\r\n",
       "<g id=\"node23\" class=\"node\"><title>0.19692692992190808</title>\r\n",
       "<ellipse fill=\"none\" stroke=\"black\" cx=\"1370.55\" cy=\"-162\" rx=\"42.4939\" ry=\"18\"/>\r\n",
       "<text text-anchor=\"middle\" x=\"1370.55\" y=\"-158.3\" font-family=\"Times New Roman,serif\" font-size=\"14.00\">very low</text>\r\n",
       "</g>\r\n",
       "<!-- 0.4403232141726019&#45;&gt;0.19692692992190808 -->\r\n",
       "<g id=\"edge22\" class=\"edge\"><title>0.4403232141726019&#45;&gt;0.19692692992190808</title>\r\n",
       "<path fill=\"none\" stroke=\"black\" d=\"M1356.24,-215.697C1358.36,-207.898 1360.91,-198.509 1363.27,-189.829\"/>\r\n",
       "<polygon fill=\"black\" stroke=\"black\" points=\"1366.66,-190.672 1365.9,-180.104 1359.91,-188.838 1366.66,-190.672\"/>\r\n",
       "</g>\r\n",
       "<!-- 0.36327706037750784 -->\r\n",
       "<g id=\"node25\" class=\"node\"><title>0.36327706037750784</title>\r\n",
       "<ellipse fill=\"none\" stroke=\"black\" cx=\"1458.55\" cy=\"-162\" rx=\"27\" ry=\"18\"/>\r\n",
       "<text text-anchor=\"middle\" x=\"1458.55\" y=\"-158.3\" font-family=\"Times New Roman,serif\" font-size=\"14.00\">high</text>\r\n",
       "</g>\r\n",
       "<!-- 0.607849173903857&#45;&gt;0.36327706037750784 -->\r\n",
       "<g id=\"edge24\" class=\"edge\"><title>0.607849173903857&#45;&gt;0.36327706037750784</title>\r\n",
       "<path fill=\"none\" stroke=\"black\" d=\"M1462.31,-215.697C1461.76,-207.983 1461.1,-198.712 1460.48,-190.112\"/>\r\n",
       "<polygon fill=\"black\" stroke=\"black\" points=\"1463.97,-189.83 1459.77,-180.104 1456.99,-190.328 1463.97,-189.83\"/>\r\n",
       "</g>\r\n",
       "<!-- 0.0867950669298947 -->\r\n",
       "<g id=\"node27\" class=\"node\"><title>0.0867950669298947</title>\r\n",
       "<ellipse fill=\"none\" stroke=\"black\" cx=\"1545.55\" cy=\"-162\" rx=\"42.4939\" ry=\"18\"/>\r\n",
       "<text text-anchor=\"middle\" x=\"1545.55\" y=\"-158.3\" font-family=\"Times New Roman,serif\" font-size=\"14.00\">very low</text>\r\n",
       "</g>\r\n",
       "<!-- 0.4507128387941345&#45;&gt;0.0867950669298947 -->\r\n",
       "<g id=\"edge26\" class=\"edge\"><title>0.4507128387941345&#45;&gt;0.0867950669298947</title>\r\n",
       "<path fill=\"none\" stroke=\"black\" d=\"M1546.3,-215.697C1546.19,-207.983 1546.06,-198.712 1545.93,-190.112\"/>\r\n",
       "<polygon fill=\"black\" stroke=\"black\" points=\"1549.43,-190.053 1545.79,-180.104 1542.43,-190.153 1549.43,-190.053\"/>\r\n",
       "</g>\r\n",
       "<!-- 0.4398557257661726 -->\r\n",
       "<g id=\"node29\" class=\"node\"><title>0.4398557257661726</title>\r\n",
       "<ellipse fill=\"none\" stroke=\"black\" cx=\"1647.55\" cy=\"-162\" rx=\"42.4939\" ry=\"18\"/>\r\n",
       "<text text-anchor=\"middle\" x=\"1647.55\" y=\"-158.3\" font-family=\"Times New Roman,serif\" font-size=\"14.00\">very low</text>\r\n",
       "</g>\r\n",
       "<!-- 0.1928127915774741&#45;&gt;0.4398557257661726 -->\r\n",
       "<g id=\"edge28\" class=\"edge\"><title>0.1928127915774741&#45;&gt;0.4398557257661726</title>\r\n",
       "<path fill=\"none\" stroke=\"black\" d=\"M1637.69,-216.055C1639.13,-208.346 1640.86,-199.027 1642.47,-190.364\"/>\r\n",
       "<polygon fill=\"black\" stroke=\"black\" points=\"1645.95,-190.746 1644.34,-180.275 1639.07,-189.468 1645.95,-190.746\"/>\r\n",
       "</g>\r\n",
       "<!-- 0.024598130423468367 -->\r\n",
       "<g id=\"node31\" class=\"node\"><title>0.024598130423468367</title>\r\n",
       "<ellipse fill=\"none\" stroke=\"black\" cx=\"1734.55\" cy=\"-162\" rx=\"27\" ry=\"18\"/>\r\n",
       "<text text-anchor=\"middle\" x=\"1734.55\" y=\"-158.3\" font-family=\"Times New Roman,serif\" font-size=\"14.00\">high</text>\r\n",
       "</g>\r\n",
       "<!-- 0.3287864362558527&#45;&gt;0.024598130423468367 -->\r\n",
       "<g id=\"edge30\" class=\"edge\"><title>0.3287864362558527&#45;&gt;0.024598130423468367</title>\r\n",
       "<path fill=\"none\" stroke=\"black\" d=\"M1729.28,-215.697C1730.05,-207.983 1730.98,-198.712 1731.84,-190.112\"/>\r\n",
       "<polygon fill=\"black\" stroke=\"black\" points=\"1735.32,-190.403 1732.84,-180.104 1728.36,-189.706 1735.32,-190.403\"/>\r\n",
       "</g>\r\n",
       "<!-- 0.599506840020849 -->\r\n",
       "<g id=\"node33\" class=\"node\"><title>0.599506840020849</title>\r\n",
       "<ellipse fill=\"none\" stroke=\"black\" cx=\"1812.55\" cy=\"-162\" rx=\"27\" ry=\"18\"/>\r\n",
       "<text text-anchor=\"middle\" x=\"1812.55\" y=\"-158.3\" font-family=\"Times New Roman,serif\" font-size=\"14.00\">high</text>\r\n",
       "</g>\r\n",
       "<!-- 0.31026191331604414&#45;&gt;0.599506840020849 -->\r\n",
       "<g id=\"edge32\" class=\"edge\"><title>0.31026191331604414&#45;&gt;0.599506840020849</title>\r\n",
       "<path fill=\"none\" stroke=\"black\" d=\"M1812.55,-215.697C1812.55,-207.983 1812.55,-198.712 1812.55,-190.112\"/>\r\n",
       "<polygon fill=\"black\" stroke=\"black\" points=\"1816.05,-190.104 1812.55,-180.104 1809.05,-190.104 1816.05,-190.104\"/>\r\n",
       "</g>\r\n",
       "<!-- 0.7782416514850832 -->\r\n",
       "<g id=\"node35\" class=\"node\"><title>0.7782416514850832</title>\r\n",
       "<ellipse fill=\"none\" stroke=\"black\" cx=\"1903.55\" cy=\"-162\" rx=\"27\" ry=\"18\"/>\r\n",
       "<text text-anchor=\"middle\" x=\"1903.55\" y=\"-158.3\" font-family=\"Times New Roman,serif\" font-size=\"14.00\">high</text>\r\n",
       "</g>\r\n",
       "<!-- 0.21502918342081168&#45;&gt;0.7782416514850832 -->\r\n",
       "<g id=\"edge34\" class=\"edge\"><title>0.21502918342081168&#45;&gt;0.7782416514850832</title>\r\n",
       "<path fill=\"none\" stroke=\"black\" d=\"M1903.55,-215.697C1903.55,-207.983 1903.55,-198.712 1903.55,-190.112\"/>\r\n",
       "<polygon fill=\"black\" stroke=\"black\" points=\"1907.05,-190.104 1903.55,-180.104 1900.05,-190.104 1907.05,-190.104\"/>\r\n",
       "</g>\r\n",
       "<!-- 0.3876421994478061 -->\r\n",
       "<g id=\"node37\" class=\"node\"><title>0.3876421994478061</title>\r\n",
       "<ellipse fill=\"none\" stroke=\"black\" cx=\"1984.55\" cy=\"-162\" rx=\"27\" ry=\"18\"/>\r\n",
       "<text text-anchor=\"middle\" x=\"1984.55\" y=\"-158.3\" font-family=\"Times New Roman,serif\" font-size=\"14.00\">high</text>\r\n",
       "</g>\r\n",
       "<!-- 0.6468553243804891&#45;&gt;0.3876421994478061 -->\r\n",
       "<g id=\"edge36\" class=\"edge\"><title>0.6468553243804891&#45;&gt;0.3876421994478061</title>\r\n",
       "<path fill=\"none\" stroke=\"black\" d=\"M1984.55,-215.697C1984.55,-207.983 1984.55,-198.712 1984.55,-190.112\"/>\r\n",
       "<polygon fill=\"black\" stroke=\"black\" points=\"1988.05,-190.104 1984.55,-180.104 1981.05,-190.104 1988.05,-190.104\"/>\r\n",
       "</g>\r\n",
       "<!-- 0.5033565336528717 -->\r\n",
       "<g id=\"node39\" class=\"node\"><title>0.5033565336528717</title>\r\n",
       "<ellipse fill=\"none\" stroke=\"black\" cx=\"2079.55\" cy=\"-162\" rx=\"42.4939\" ry=\"18\"/>\r\n",
       "<text text-anchor=\"middle\" x=\"2079.55\" y=\"-158.3\" font-family=\"Times New Roman,serif\" font-size=\"14.00\">very low</text>\r\n",
       "</g>\r\n",
       "<!-- 0.7865143108803717&#45;&gt;0.5033565336528717 -->\r\n",
       "<g id=\"edge38\" class=\"edge\"><title>0.7865143108803717&#45;&gt;0.5033565336528717</title>\r\n",
       "<path fill=\"none\" stroke=\"black\" d=\"M2089.33,-215.697C2087.9,-207.983 2086.18,-198.712 2084.58,-190.112\"/>\r\n",
       "<polygon fill=\"black\" stroke=\"black\" points=\"2087.99,-189.297 2082.72,-180.104 2081.11,-190.575 2087.99,-189.297\"/>\r\n",
       "</g>\r\n",
       "<!-- 0.11707917712493576 -->\r\n",
       "<g id=\"node41\" class=\"node\"><title>0.11707917712493576</title>\r\n",
       "<ellipse fill=\"none\" stroke=\"black\" cx=\"2181.55\" cy=\"-162\" rx=\"42.4939\" ry=\"18\"/>\r\n",
       "<text text-anchor=\"middle\" x=\"2181.55\" y=\"-158.3\" font-family=\"Times New Roman,serif\" font-size=\"14.00\">very low</text>\r\n",
       "</g>\r\n",
       "<!-- 0.3580039575175423&#45;&gt;0.11707917712493576 -->\r\n",
       "<g id=\"edge40\" class=\"edge\"><title>0.3580039575175423&#45;&gt;0.11707917712493576</title>\r\n",
       "<path fill=\"none\" stroke=\"black\" d=\"M2195.19,-216.055C2193.19,-208.261 2190.76,-198.822 2188.51,-190.079\"/>\r\n",
       "<polygon fill=\"black\" stroke=\"black\" points=\"2191.87,-189.089 2185.99,-180.275 2185.09,-190.832 2191.87,-189.089\"/>\r\n",
       "</g>\r\n",
       "<!-- 0.4267609823294505 -->\r\n",
       "<g id=\"node43\" class=\"node\"><title>0.4267609823294505</title>\r\n",
       "<ellipse fill=\"none\" stroke=\"black\" cx=\"2268.55\" cy=\"-162\" rx=\"27\" ry=\"18\"/>\r\n",
       "<text text-anchor=\"middle\" x=\"2268.55\" y=\"-158.3\" font-family=\"Times New Roman,serif\" font-size=\"14.00\">high</text>\r\n",
       "</g>\r\n",
       "<!-- 0.9413365764234751&#45;&gt;0.4267609823294505 -->\r\n",
       "<g id=\"edge42\" class=\"edge\"><title>0.9413365764234751&#45;&gt;0.4267609823294505</title>\r\n",
       "<path fill=\"none\" stroke=\"black\" d=\"M2272.31,-215.697C2271.76,-207.983 2271.1,-198.712 2270.48,-190.112\"/>\r\n",
       "<polygon fill=\"black\" stroke=\"black\" points=\"2273.97,-189.83 2269.77,-180.104 2266.99,-190.328 2273.97,-189.83\"/>\r\n",
       "</g>\r\n",
       "<!-- 0.4859509225184835 -->\r\n",
       "<g id=\"node45\" class=\"node\"><title>0.4859509225184835</title>\r\n",
       "<ellipse fill=\"none\" stroke=\"black\" cx=\"2353.55\" cy=\"-162\" rx=\"39.7935\" ry=\"18\"/>\r\n",
       "<text text-anchor=\"middle\" x=\"2353.55\" y=\"-158.3\" font-family=\"Times New Roman,serif\" font-size=\"14.00\">medium</text>\r\n",
       "</g>\r\n",
       "<!-- 0.09966219277315214&#45;&gt;0.4859509225184835 -->\r\n",
       "<g id=\"edge44\" class=\"edge\"><title>0.09966219277315214&#45;&gt;0.4859509225184835</title>\r\n",
       "<path fill=\"none\" stroke=\"black\" d=\"M2353.55,-215.697C2353.55,-207.983 2353.55,-198.712 2353.55,-190.112\"/>\r\n",
       "<polygon fill=\"black\" stroke=\"black\" points=\"2357.05,-190.104 2353.55,-180.104 2350.05,-190.104 2357.05,-190.104\"/>\r\n",
       "</g>\r\n",
       "<!-- 0.23309184190900822 -->\r\n",
       "<g id=\"node47\" class=\"node\"><title>0.23309184190900822</title>\r\n",
       "<ellipse fill=\"none\" stroke=\"black\" cx=\"2453.55\" cy=\"-162\" rx=\"42.4939\" ry=\"18\"/>\r\n",
       "<text text-anchor=\"middle\" x=\"2453.55\" y=\"-158.3\" font-family=\"Times New Roman,serif\" font-size=\"14.00\">very low</text>\r\n",
       "</g>\r\n",
       "<!-- 0.9387802560212158&#45;&gt;0.23309184190900822 -->\r\n",
       "<g id=\"edge46\" class=\"edge\"><title>0.9387802560212158&#45;&gt;0.23309184190900822</title>\r\n",
       "<path fill=\"none\" stroke=\"black\" d=\"M2445.21,-216.055C2446.42,-208.346 2447.89,-199.027 2449.25,-190.364\"/>\r\n",
       "<polygon fill=\"black\" stroke=\"black\" points=\"2452.74,-190.697 2450.83,-180.275 2445.82,-189.611 2452.74,-190.697\"/>\r\n",
       "</g>\r\n",
       "<!-- 0.5436901867190854 -->\r\n",
       "<g id=\"node49\" class=\"node\"><title>0.5436901867190854</title>\r\n",
       "<ellipse fill=\"none\" stroke=\"black\" cx=\"2540.55\" cy=\"-162\" rx=\"27\" ry=\"18\"/>\r\n",
       "<text text-anchor=\"middle\" x=\"2540.55\" y=\"-158.3\" font-family=\"Times New Roman,serif\" font-size=\"14.00\">high</text>\r\n",
       "</g>\r\n",
       "<!-- 0.30416663433241864&#45;&gt;0.5436901867190854 -->\r\n",
       "<g id=\"edge48\" class=\"edge\"><title>0.30416663433241864&#45;&gt;0.5436901867190854</title>\r\n",
       "<path fill=\"none\" stroke=\"black\" d=\"M2529.94,-216.055C2531.48,-208.346 2533.34,-199.027 2535.07,-190.364\"/>\r\n",
       "<polygon fill=\"black\" stroke=\"black\" points=\"2538.56,-190.768 2537.09,-180.275 2531.7,-189.395 2538.56,-190.768\"/>\r\n",
       "</g>\r\n",
       "<!-- 0.7630065569680917 -->\r\n",
       "<g id=\"node51\" class=\"node\"><title>0.7630065569680917</title>\r\n",
       "<ellipse fill=\"none\" stroke=\"black\" cx=\"2627.55\" cy=\"-162\" rx=\"42.4939\" ry=\"18\"/>\r\n",
       "<text text-anchor=\"middle\" x=\"2627.55\" y=\"-158.3\" font-family=\"Times New Roman,serif\" font-size=\"14.00\">very low</text>\r\n",
       "</g>\r\n",
       "<!-- 0.07268972097853155&#45;&gt;0.7630065569680917 -->\r\n",
       "<g id=\"edge50\" class=\"edge\"><title>0.07268972097853155&#45;&gt;0.7630065569680917</title>\r\n",
       "<path fill=\"none\" stroke=\"black\" d=\"M2629.81,-215.697C2629.48,-207.983 2629.08,-198.712 2628.71,-190.112\"/>\r\n",
       "<polygon fill=\"black\" stroke=\"black\" points=\"2632.21,-189.945 2628.28,-180.104 2625.21,-190.245 2632.21,-189.945\"/>\r\n",
       "</g>\r\n",
       "<!-- 0.9341067795761175 -->\r\n",
       "<g id=\"node53\" class=\"node\"><title>0.9341067795761175</title>\r\n",
       "<ellipse fill=\"none\" stroke=\"black\" cx=\"2714.55\" cy=\"-162\" rx=\"27\" ry=\"18\"/>\r\n",
       "<text text-anchor=\"middle\" x=\"2714.55\" y=\"-158.3\" font-family=\"Times New Roman,serif\" font-size=\"14.00\">high</text>\r\n",
       "</g>\r\n",
       "<!-- 0.7435817023132233&#45;&gt;0.9341067795761175 -->\r\n",
       "<g id=\"edge52\" class=\"edge\"><title>0.7435817023132233&#45;&gt;0.9341067795761175</title>\r\n",
       "<path fill=\"none\" stroke=\"black\" d=\"M2716.05,-215.697C2715.83,-207.983 2715.57,-198.712 2715.32,-190.112\"/>\r\n",
       "<polygon fill=\"black\" stroke=\"black\" points=\"2718.82,-190 2715.04,-180.104 2711.82,-190.2 2718.82,-190\"/>\r\n",
       "</g>\r\n",
       "<!-- 0.6440223465266496 -->\r\n",
       "<g id=\"node55\" class=\"node\"><title>0.6440223465266496</title>\r\n",
       "<ellipse fill=\"none\" stroke=\"black\" cx=\"2786.55\" cy=\"-162\" rx=\"27\" ry=\"18\"/>\r\n",
       "<text text-anchor=\"middle\" x=\"2786.55\" y=\"-158.3\" font-family=\"Times New Roman,serif\" font-size=\"14.00\">high</text>\r\n",
       "</g>\r\n",
       "<!-- 0.9588028966748657&#45;&gt;0.6440223465266496 -->\r\n",
       "<g id=\"edge54\" class=\"edge\"><title>0.9588028966748657&#45;&gt;0.6440223465266496</title>\r\n",
       "<path fill=\"none\" stroke=\"black\" d=\"M2797.16,-216.055C2795.62,-208.346 2793.75,-199.027 2792.02,-190.364\"/>\r\n",
       "<polygon fill=\"black\" stroke=\"black\" points=\"2795.4,-189.395 2790,-180.275 2788.53,-190.768 2795.4,-189.395\"/>\r\n",
       "</g>\r\n",
       "<!-- 0.6062899542209604 -->\r\n",
       "<g id=\"node57\" class=\"node\"><title>0.6062899542209604</title>\r\n",
       "<ellipse fill=\"none\" stroke=\"black\" cx=\"2873.55\" cy=\"-162\" rx=\"42.4939\" ry=\"18\"/>\r\n",
       "<text text-anchor=\"middle\" x=\"2873.55\" y=\"-158.3\" font-family=\"Times New Roman,serif\" font-size=\"14.00\">very low</text>\r\n",
       "</g>\r\n",
       "<!-- 0.027607770708042767&#45;&gt;0.6062899542209604 -->\r\n",
       "<g id=\"edge56\" class=\"edge\"><title>0.027607770708042767&#45;&gt;0.6062899542209604</title>\r\n",
       "<path fill=\"none\" stroke=\"black\" d=\"M2874.3,-215.697C2874.19,-207.983 2874.06,-198.712 2873.93,-190.112\"/>\r\n",
       "<polygon fill=\"black\" stroke=\"black\" points=\"2877.43,-190.053 2873.79,-180.104 2870.43,-190.153 2877.43,-190.053\"/>\r\n",
       "</g>\r\n",
       "<!-- 0.8286255514644759 -->\r\n",
       "<g id=\"node59\" class=\"node\"><title>0.8286255514644759</title>\r\n",
       "<ellipse fill=\"none\" stroke=\"black\" cx=\"2975.55\" cy=\"-162\" rx=\"42.4939\" ry=\"18\"/>\r\n",
       "<text text-anchor=\"middle\" x=\"2975.55\" y=\"-158.3\" font-family=\"Times New Roman,serif\" font-size=\"14.00\">very low</text>\r\n",
       "</g>\r\n",
       "<!-- 0.030015464462751273&#45;&gt;0.8286255514644759 -->\r\n",
       "<g id=\"edge58\" class=\"edge\"><title>0.030015464462751273&#45;&gt;0.8286255514644759</title>\r\n",
       "<path fill=\"none\" stroke=\"black\" d=\"M2958.87,-216.055C2961.32,-208.261 2964.29,-198.822 2967.04,-190.079\"/>\r\n",
       "<polygon fill=\"black\" stroke=\"black\" points=\"2970.46,-190.865 2970.12,-180.275 2963.78,-188.766 2970.46,-190.865\"/>\r\n",
       "</g>\r\n",
       "<!-- 0.43288234015872484 -->\r\n",
       "<g id=\"node61\" class=\"node\"><title>0.43288234015872484</title>\r\n",
       "<ellipse fill=\"none\" stroke=\"black\" cx=\"3077.55\" cy=\"-162\" rx=\"42.4939\" ry=\"18\"/>\r\n",
       "<text text-anchor=\"middle\" x=\"3077.55\" y=\"-158.3\" font-family=\"Times New Roman,serif\" font-size=\"14.00\">very low</text>\r\n",
       "</g>\r\n",
       "<!-- 0.04233844639876905&#45;&gt;0.43288234015872484 -->\r\n",
       "<g id=\"edge60\" class=\"edge\"><title>0.04233844639876905&#45;&gt;0.43288234015872484</title>\r\n",
       "<path fill=\"none\" stroke=\"black\" d=\"M3044.3,-217.116C3049.49,-208.679 3055.98,-198.104 3061.85,-188.547\"/>\r\n",
       "<polygon fill=\"black\" stroke=\"black\" points=\"3064.98,-190.15 3067.23,-179.797 3059.01,-186.486 3064.98,-190.15\"/>\r\n",
       "</g>\r\n",
       "<!-- 0.7342660992122022 -->\r\n",
       "<g id=\"node63\" class=\"node\"><title>0.7342660992122022</title>\r\n",
       "<ellipse fill=\"none\" stroke=\"black\" cx=\"3177.55\" cy=\"-162\" rx=\"39.7935\" ry=\"18\"/>\r\n",
       "<text text-anchor=\"middle\" x=\"3177.55\" y=\"-158.3\" font-family=\"Times New Roman,serif\" font-size=\"14.00\">medium</text>\r\n",
       "</g>\r\n",
       "<!-- 0.20461785825231316&#45;&gt;0.7342660992122022 -->\r\n",
       "<g id=\"edge62\" class=\"edge\"><title>0.20461785825231316&#45;&gt;0.7342660992122022</title>\r\n",
       "<path fill=\"none\" stroke=\"black\" d=\"M3127.91,-218.155C3136.08,-209.072 3146.73,-197.243 3156.06,-186.87\"/>\r\n",
       "<polygon fill=\"black\" stroke=\"black\" points=\"3158.8,-189.065 3162.89,-179.29 3153.59,-184.382 3158.8,-189.065\"/>\r\n",
       "</g>\r\n",
       "<!-- 0.9271513615669714 -->\r\n",
       "<g id=\"node65\" class=\"node\"><title>0.9271513615669714</title>\r\n",
       "<ellipse fill=\"none\" stroke=\"black\" cx=\"3274.55\" cy=\"-162\" rx=\"39.7935\" ry=\"18\"/>\r\n",
       "<text text-anchor=\"middle\" x=\"3274.55\" y=\"-158.3\" font-family=\"Times New Roman,serif\" font-size=\"14.00\">medium</text>\r\n",
       "</g>\r\n",
       "<!-- 0.8283652360519668&#45;&gt;0.9271513615669714 -->\r\n",
       "<g id=\"edge64\" class=\"edge\"><title>0.8283652360519668&#45;&gt;0.9271513615669714</title>\r\n",
       "<path fill=\"none\" stroke=\"black\" d=\"M3225.84,-217.116C3233.98,-208.076 3244.32,-196.583 3253.38,-186.515\"/>\r\n",
       "<polygon fill=\"black\" stroke=\"black\" points=\"3256.22,-188.596 3260.31,-178.821 3251.02,-183.913 3256.22,-188.596\"/>\r\n",
       "</g>\r\n",
       "<!-- 0.7252529864969515 -->\r\n",
       "<g id=\"node67\" class=\"node\"><title>0.7252529864969515</title>\r\n",
       "<ellipse fill=\"none\" stroke=\"black\" cx=\"3359.55\" cy=\"-162\" rx=\"27\" ry=\"18\"/>\r\n",
       "<text text-anchor=\"middle\" x=\"3359.55\" y=\"-158.3\" font-family=\"Times New Roman,serif\" font-size=\"14.00\">high</text>\r\n",
       "</g>\r\n",
       "<!-- 0.854511468915909&#45;&gt;0.7252529864969515 -->\r\n",
       "<g id=\"edge66\" class=\"edge\"><title>0.854511468915909&#45;&gt;0.7252529864969515</title>\r\n",
       "<path fill=\"none\" stroke=\"black\" d=\"M3358.79,-215.697C3358.9,-207.983 3359.04,-198.712 3359.16,-190.112\"/>\r\n",
       "<polygon fill=\"black\" stroke=\"black\" points=\"3362.66,-190.153 3359.3,-180.104 3355.66,-190.053 3362.66,-190.153\"/>\r\n",
       "</g>\r\n",
       "<!-- 0.7941317050912796 -->\r\n",
       "<g id=\"node69\" class=\"node\"><title>0.7941317050912796</title>\r\n",
       "<ellipse fill=\"none\" stroke=\"black\" cx=\"30.5473\" cy=\"-18\" rx=\"27\" ry=\"18\"/>\r\n",
       "<text text-anchor=\"middle\" x=\"30.5473\" y=\"-14.3\" font-family=\"Times New Roman,serif\" font-size=\"14.00\">high</text>\r\n",
       "</g>\r\n",
       "<!-- 0.34427340584354116&#45;&gt;0.7941317050912796 -->\r\n",
       "<g id=\"edge68\" class=\"edge\"><title>0.34427340584354116&#45;&gt;0.7941317050912796</title>\r\n",
       "<path fill=\"none\" stroke=\"black\" d=\"M30.5473,-71.6966C30.5473,-63.9827 30.5473,-54.7125 30.5473,-46.1124\"/>\r\n",
       "<polygon fill=\"black\" stroke=\"black\" points=\"34.0474,-46.1043 30.5473,-36.1043 27.0474,-46.1044 34.0474,-46.1043\"/>\r\n",
       "</g>\r\n",
       "<!-- 0.3473640696930479 -->\r\n",
       "<g id=\"node71\" class=\"node\"><title>0.3473640696930479</title>\r\n",
       "<ellipse fill=\"none\" stroke=\"black\" cx=\"140.547\" cy=\"-18\" rx=\"42.4939\" ry=\"18\"/>\r\n",
       "<text text-anchor=\"middle\" x=\"140.547\" y=\"-14.3\" font-family=\"Times New Roman,serif\" font-size=\"14.00\">very low</text>\r\n",
       "</g>\r\n",
       "<!-- 0.027786564770252542&#45;&gt;0.3473640696930479 -->\r\n",
       "<g id=\"edge70\" class=\"edge\"><title>0.027786564770252542&#45;&gt;0.3473640696930479</title>\r\n",
       "<path fill=\"none\" stroke=\"black\" d=\"M140.547,-71.6966C140.547,-63.9827 140.547,-54.7125 140.547,-46.1124\"/>\r\n",
       "<polygon fill=\"black\" stroke=\"black\" points=\"144.047,-46.1043 140.547,-36.1043 137.047,-46.1044 144.047,-46.1043\"/>\r\n",
       "</g>\r\n",
       "<!-- 0.3122876174573104 -->\r\n",
       "<g id=\"node73\" class=\"node\"><title>0.3122876174573104</title>\r\n",
       "<ellipse fill=\"none\" stroke=\"black\" cx=\"280.547\" cy=\"-18\" rx=\"42.4939\" ry=\"18\"/>\r\n",
       "<text text-anchor=\"middle\" x=\"280.547\" y=\"-14.3\" font-family=\"Times New Roman,serif\" font-size=\"14.00\">very low</text>\r\n",
       "</g>\r\n",
       "<!-- 0.37906673661454093&#45;&gt;0.3122876174573104 -->\r\n",
       "<g id=\"edge72\" class=\"edge\"><title>0.37906673661454093&#45;&gt;0.3122876174573104</title>\r\n",
       "<path fill=\"none\" stroke=\"black\" d=\"M280.547,-71.6966C280.547,-63.9827 280.547,-54.7125 280.547,-46.1124\"/>\r\n",
       "<polygon fill=\"black\" stroke=\"black\" points=\"284.047,-46.1043 280.547,-36.1043 277.047,-46.1044 284.047,-46.1043\"/>\r\n",
       "</g>\r\n",
       "<!-- 0.2717672246532141 -->\r\n",
       "<g id=\"node75\" class=\"node\"><title>0.2717672246532141</title>\r\n",
       "<ellipse fill=\"none\" stroke=\"black\" cx=\"449.547\" cy=\"-18\" rx=\"42.4939\" ry=\"18\"/>\r\n",
       "<text text-anchor=\"middle\" x=\"449.547\" y=\"-14.3\" font-family=\"Times New Roman,serif\" font-size=\"14.00\">very low</text>\r\n",
       "</g>\r\n",
       "<!-- 0.41567323463557737&#45;&gt;0.2717672246532141 -->\r\n",
       "<g id=\"edge74\" class=\"edge\"><title>0.41567323463557737&#45;&gt;0.2717672246532141</title>\r\n",
       "<path fill=\"none\" stroke=\"black\" d=\"M449.547,-71.6966C449.547,-63.9827 449.547,-54.7125 449.547,-46.1124\"/>\r\n",
       "<polygon fill=\"black\" stroke=\"black\" points=\"453.047,-46.1043 449.547,-36.1043 446.047,-46.1044 453.047,-46.1043\"/>\r\n",
       "</g>\r\n",
       "<!-- 0.2740482833199177 -->\r\n",
       "<g id=\"node77\" class=\"node\"><title>0.2740482833199177</title>\r\n",
       "<ellipse fill=\"none\" stroke=\"black\" cx=\"589.547\" cy=\"-18\" rx=\"42.4939\" ry=\"18\"/>\r\n",
       "<text text-anchor=\"middle\" x=\"589.547\" y=\"-14.3\" font-family=\"Times New Roman,serif\" font-size=\"14.00\">very low</text>\r\n",
       "</g>\r\n",
       "<!-- 0.11116133513508686&#45;&gt;0.2740482833199177 -->\r\n",
       "<g id=\"edge76\" class=\"edge\"><title>0.11116133513508686&#45;&gt;0.2740482833199177</title>\r\n",
       "<path fill=\"none\" stroke=\"black\" d=\"M589.547,-71.6966C589.547,-63.9827 589.547,-54.7125 589.547,-46.1124\"/>\r\n",
       "<polygon fill=\"black\" stroke=\"black\" points=\"593.047,-46.1043 589.547,-36.1043 586.047,-46.1044 593.047,-46.1043\"/>\r\n",
       "</g>\r\n",
       "<!-- 0.6178384987429828 -->\r\n",
       "<g id=\"node79\" class=\"node\"><title>0.6178384987429828</title>\r\n",
       "<ellipse fill=\"none\" stroke=\"black\" cx=\"697.547\" cy=\"-18\" rx=\"42.4939\" ry=\"18\"/>\r\n",
       "<text text-anchor=\"middle\" x=\"697.547\" y=\"-14.3\" font-family=\"Times New Roman,serif\" font-size=\"14.00\">very low</text>\r\n",
       "</g>\r\n",
       "<!-- 0.8845173547080054&#45;&gt;0.6178384987429828 -->\r\n",
       "<g id=\"edge78\" class=\"edge\"><title>0.8845173547080054&#45;&gt;0.6178384987429828</title>\r\n",
       "<path fill=\"none\" stroke=\"black\" d=\"M697.547,-71.6966C697.547,-63.9827 697.547,-54.7125 697.547,-46.1124\"/>\r\n",
       "<polygon fill=\"black\" stroke=\"black\" points=\"701.047,-46.1043 697.547,-36.1043 694.047,-46.1044 701.047,-46.1043\"/>\r\n",
       "</g>\r\n",
       "<!-- 0.567374588031645 -->\r\n",
       "<g id=\"node81\" class=\"node\"><title>0.567374588031645</title>\r\n",
       "<ellipse fill=\"none\" stroke=\"black\" cx=\"853.547\" cy=\"-18\" rx=\"42.4939\" ry=\"18\"/>\r\n",
       "<text text-anchor=\"middle\" x=\"853.547\" y=\"-14.3\" font-family=\"Times New Roman,serif\" font-size=\"14.00\">very low</text>\r\n",
       "</g>\r\n",
       "<!-- 0.9613502674870404&#45;&gt;0.567374588031645 -->\r\n",
       "<g id=\"edge80\" class=\"edge\"><title>0.9613502674870404&#45;&gt;0.567374588031645</title>\r\n",
       "<path fill=\"none\" stroke=\"black\" d=\"M853.547,-71.6966C853.547,-63.9827 853.547,-54.7125 853.547,-46.1124\"/>\r\n",
       "<polygon fill=\"black\" stroke=\"black\" points=\"857.047,-46.1043 853.547,-36.1043 850.047,-46.1044 857.047,-46.1043\"/>\r\n",
       "</g>\r\n",
       "<!-- 0.3331004275328048 -->\r\n",
       "<g id=\"node83\" class=\"node\"><title>0.3331004275328048</title>\r\n",
       "<ellipse fill=\"none\" stroke=\"black\" cx=\"1000.55\" cy=\"-18\" rx=\"42.4939\" ry=\"18\"/>\r\n",
       "<text text-anchor=\"middle\" x=\"1000.55\" y=\"-14.3\" font-family=\"Times New Roman,serif\" font-size=\"14.00\">very low</text>\r\n",
       "</g>\r\n",
       "<!-- 0.5062553319750563&#45;&gt;0.3331004275328048 -->\r\n",
       "<g id=\"edge82\" class=\"edge\"><title>0.5062553319750563&#45;&gt;0.3331004275328048</title>\r\n",
       "<path fill=\"none\" stroke=\"black\" d=\"M1000.55,-71.6966C1000.55,-63.9827 1000.55,-54.7125 1000.55,-46.1124\"/>\r\n",
       "<polygon fill=\"black\" stroke=\"black\" points=\"1004.05,-46.1043 1000.55,-36.1043 997.047,-46.1044 1004.05,-46.1043\"/>\r\n",
       "</g>\r\n",
       "<!-- 0.6221129773184525 -->\r\n",
       "<g id=\"node85\" class=\"node\"><title>0.6221129773184525</title>\r\n",
       "<ellipse fill=\"none\" stroke=\"black\" cx=\"1134.55\" cy=\"-18\" rx=\"42.4939\" ry=\"18\"/>\r\n",
       "<text text-anchor=\"middle\" x=\"1134.55\" y=\"-14.3\" font-family=\"Times New Roman,serif\" font-size=\"14.00\">very low</text>\r\n",
       "</g>\r\n",
       "<!-- 0.139709987683162&#45;&gt;0.6221129773184525 -->\r\n",
       "<g id=\"edge84\" class=\"edge\"><title>0.139709987683162&#45;&gt;0.6221129773184525</title>\r\n",
       "<path fill=\"none\" stroke=\"black\" d=\"M1134.55,-71.6966C1134.55,-63.9827 1134.55,-54.7125 1134.55,-46.1124\"/>\r\n",
       "<polygon fill=\"black\" stroke=\"black\" points=\"1138.05,-46.1043 1134.55,-36.1043 1131.05,-46.1044 1138.05,-46.1043\"/>\r\n",
       "</g>\r\n",
       "<!-- 0.17771322185582394 -->\r\n",
       "<g id=\"node87\" class=\"node\"><title>0.17771322185582394</title>\r\n",
       "<ellipse fill=\"none\" stroke=\"black\" cx=\"1263.55\" cy=\"-18\" rx=\"42.4939\" ry=\"18\"/>\r\n",
       "<text text-anchor=\"middle\" x=\"1263.55\" y=\"-14.3\" font-family=\"Times New Roman,serif\" font-size=\"14.00\">very low</text>\r\n",
       "</g>\r\n",
       "<!-- 0.4893138162048358&#45;&gt;0.17771322185582394 -->\r\n",
       "<g id=\"edge86\" class=\"edge\"><title>0.4893138162048358&#45;&gt;0.17771322185582394</title>\r\n",
       "<path fill=\"none\" stroke=\"black\" d=\"M1263.55,-71.6966C1263.55,-63.9827 1263.55,-54.7125 1263.55,-46.1124\"/>\r\n",
       "<polygon fill=\"black\" stroke=\"black\" points=\"1267.05,-46.1043 1263.55,-36.1043 1260.05,-46.1044 1267.05,-46.1043\"/>\r\n",
       "</g>\r\n",
       "</g>\r\n",
       "</svg>\r\n"
      ],
      "text/plain": [
       "<graphviz.dot.Digraph at 0x264986eb390>"
      ]
     },
     "metadata": {},
     "output_type": "display_data"
    }
   ],
   "source": [
    "display(dot)"
   ]
  },
  {
   "cell_type": "code",
   "execution_count": 6,
   "metadata": {
    "colab": {
     "base_uri": "https://localhost:8080/",
     "height": 239
    },
    "colab_type": "code",
    "id": "NzQPVXhsjA8w",
    "outputId": "866f987b-b1a3-486b-ebd3-9f0433d901e5"
   },
   "outputs": [
    {
     "name": "stdout",
     "output_type": "stream",
     "text": [
      "43384\n",
      "[0, 1, 2]\n",
      "<p_decision_tree.DecisionTree.DecisionTree object at 0x0000026496338748>\n"
     ]
    }
   ],
   "source": [
    "sampleIds = [x for x in range(len(decisionTree.sample))]\n",
    "attributeIds = [x for x in range(len(decisionTree.attributes))]\n",
    "print(len(sampleIds))\n",
    "print(attributeIds)\n",
    "print(decisionTree)"
   ]
  },
  {
   "cell_type": "markdown",
   "metadata": {
    "colab_type": "text",
    "id": "ZkSM3_qZ0iDs"
   },
   "source": [
    "   (c) What is the best attribute (based on entropy) for splitting the tree in the second round of ID3?  "
   ]
  },
  {
   "cell_type": "markdown",
   "metadata": {
    "colab_type": "text",
    "id": "_t6rus-40iDs"
   },
   "source": [
    "Explanation:\n",
    "The best attribute is weather type.  \n",
    "As the information gain for the weather type attribute was the highest in the second iteration in comparison to the other attributes information gain. Entropy was used to measure the information gain, this measure gives us insight about the impurity found in a set of records. Thus the entropy of the set of records after the first interation will low if those set of records were divided using the weather type attribute, as a result the information gain will be highest.\n"
   ]
  },
  {
   "cell_type": "markdown",
   "metadata": {
    "colab_type": "text",
    "id": "a57qOHdM0iDt"
   },
   "source": [
    "## Question 3 - Regression (10 points):\n",
    "\n",
    "For this question (Q3), restrict your extracted data set to the columns *holiday, temperature, rain_1h, snow_1h, clouds_percentage, date_time* and *population_density*. Drop the information on the date for *date_time* and restrict the data to time values (hour) only.\n",
    "\n",
    "We define *population_density* to be our target feature, while all other features are considered descriptive."
   ]
  },
  {
   "cell_type": "code",
   "execution_count": 31,
   "metadata": {
    "colab": {
     "base_uri": "https://localhost:8080/",
     "height": 194
    },
    "colab_type": "code",
    "id": "77es_bWI0iDu",
    "outputId": "e694e138-0ca7-442c-98a1-54d18f411d1b"
   },
   "outputs": [
    {
     "data": {
      "text/html": [
       "<div>\n",
       "<style scoped>\n",
       "    .dataframe tbody tr th:only-of-type {\n",
       "        vertical-align: middle;\n",
       "    }\n",
       "\n",
       "    .dataframe tbody tr th {\n",
       "        vertical-align: top;\n",
       "    }\n",
       "\n",
       "    .dataframe thead th {\n",
       "        text-align: right;\n",
       "    }\n",
       "</style>\n",
       "<table border=\"1\" class=\"dataframe\">\n",
       "  <thead>\n",
       "    <tr style=\"text-align: right;\">\n",
       "      <th></th>\n",
       "      <th>holiday</th>\n",
       "      <th>temperature</th>\n",
       "      <th>rain_1h</th>\n",
       "      <th>snow_1h</th>\n",
       "      <th>clouds_percentage</th>\n",
       "      <th>date_time</th>\n",
       "      <th>population_density</th>\n",
       "    </tr>\n",
       "  </thead>\n",
       "  <tbody>\n",
       "    <tr>\n",
       "      <th>0</th>\n",
       "      <td>None</td>\n",
       "      <td>288.28</td>\n",
       "      <td>0.0</td>\n",
       "      <td>0.0</td>\n",
       "      <td>40</td>\n",
       "      <td>9</td>\n",
       "      <td>5545</td>\n",
       "    </tr>\n",
       "    <tr>\n",
       "      <th>1</th>\n",
       "      <td>None</td>\n",
       "      <td>289.36</td>\n",
       "      <td>0.0</td>\n",
       "      <td>0.0</td>\n",
       "      <td>75</td>\n",
       "      <td>10</td>\n",
       "      <td>4516</td>\n",
       "    </tr>\n",
       "    <tr>\n",
       "      <th>2</th>\n",
       "      <td>None</td>\n",
       "      <td>289.58</td>\n",
       "      <td>0.0</td>\n",
       "      <td>0.0</td>\n",
       "      <td>90</td>\n",
       "      <td>11</td>\n",
       "      <td>4767</td>\n",
       "    </tr>\n",
       "    <tr>\n",
       "      <th>3</th>\n",
       "      <td>None</td>\n",
       "      <td>290.13</td>\n",
       "      <td>0.0</td>\n",
       "      <td>0.0</td>\n",
       "      <td>90</td>\n",
       "      <td>12</td>\n",
       "      <td>5026</td>\n",
       "    </tr>\n",
       "    <tr>\n",
       "      <th>4</th>\n",
       "      <td>None</td>\n",
       "      <td>291.72</td>\n",
       "      <td>0.0</td>\n",
       "      <td>0.0</td>\n",
       "      <td>1</td>\n",
       "      <td>14</td>\n",
       "      <td>5181</td>\n",
       "    </tr>\n",
       "  </tbody>\n",
       "</table>\n",
       "</div>"
      ],
      "text/plain": [
       "  holiday  temperature  ...  date_time  population_density\n",
       "0    None       288.28  ...          9                5545\n",
       "1    None       289.36  ...         10                4516\n",
       "2    None       289.58  ...         11                4767\n",
       "3    None       290.13  ...         12                5026\n",
       "4    None       291.72  ...         14                5181\n",
       "\n",
       "[5 rows x 7 columns]"
      ]
     },
     "execution_count": 31,
     "metadata": {
      "tags": []
     },
     "output_type": "execute_result"
    }
   ],
   "source": [
    "# PreProcess Data for Regression Task\n",
    "\n",
    "def hr_func(ts):\n",
    "    return ts.hour\n",
    "\n",
    "population_density_categorical_reg = population_density_categorical[['holiday','temperature', 'rain_1h','snow_1h'\n",
    "                                                                     ,'clouds_percentage','date_time','population_density'\n",
    "                                                                    ]].copy()\n",
    "\n",
    "population_density_categorical_reg['datetime_col'] = pd.to_datetime(population_density_categorical_reg.date_time)\n",
    "population_density_categorical_reg['date_time'] = population_density_categorical_reg['datetime_col'].apply(hr_func)\n",
    "population_density_categorical_reg = population_density_categorical_reg[['holiday','temperature','rain_1h','snow_1h'\n",
    "                                                                         ,'clouds_percentage','date_time','population_density']]\n",
    "population_density_categorical_reg.head()\n"
   ]
  },
  {
   "cell_type": "code",
   "execution_count": 32,
   "metadata": {
    "colab": {
     "base_uri": "https://localhost:8080/",
     "height": 372
    },
    "colab_type": "code",
    "id": "6dQgEOdj0iDw",
    "outputId": "cd2a7a1e-2cae-4b4d-9720-af352afab48e"
   },
   "outputs": [
    {
     "data": {
      "text/plain": [
       "<matplotlib.axes._subplots.AxesSubplot at 0x7f46791cc780>"
      ]
     },
     "execution_count": 32,
     "metadata": {
      "tags": []
     },
     "output_type": "execute_result"
    },
    {
     "data": {
      "image/png": "[encoded data removed]",
      "text/plain": [
       "<Figure size 432x288 with 2 Axes>"
      ]
     },
     "metadata": {
      "tags": []
     },
     "output_type": "display_data"
    }
   ],
   "source": [
    "import statsmodels.api as sm\n",
    "\n",
    "#Target_Feature\n",
    "\n",
    "sns.heatmap(population_density_categorical_reg.corr())\n"
   ]
  },
  {
   "cell_type": "code",
   "execution_count": 33,
   "metadata": {
    "colab": {
     "base_uri": "https://localhost:8080/",
     "height": 223
    },
    "colab_type": "code",
    "id": "Y8cWk_Br0iDy",
    "outputId": "f7d59306-f491-491f-a391-994bb2143021"
   },
   "outputs": [
    {
     "data": {
      "text/html": [
       "<div>\n",
       "<style scoped>\n",
       "    .dataframe tbody tr th:only-of-type {\n",
       "        vertical-align: middle;\n",
       "    }\n",
       "\n",
       "    .dataframe tbody tr th {\n",
       "        vertical-align: top;\n",
       "    }\n",
       "\n",
       "    .dataframe thead th {\n",
       "        text-align: right;\n",
       "    }\n",
       "</style>\n",
       "<table border=\"1\" class=\"dataframe\">\n",
       "  <thead>\n",
       "    <tr style=\"text-align: right;\">\n",
       "      <th></th>\n",
       "      <th>temperature</th>\n",
       "      <th>rain_1h</th>\n",
       "      <th>snow_1h</th>\n",
       "      <th>clouds_percentage</th>\n",
       "      <th>date_time</th>\n",
       "      <th>population_density</th>\n",
       "    </tr>\n",
       "  </thead>\n",
       "  <tbody>\n",
       "    <tr>\n",
       "      <th>temperature</th>\n",
       "      <td>1.000000</td>\n",
       "      <td>0.084294</td>\n",
       "      <td>-0.020063</td>\n",
       "      <td>-0.104588</td>\n",
       "      <td>0.113305</td>\n",
       "      <td>0.131890</td>\n",
       "    </tr>\n",
       "    <tr>\n",
       "      <th>rain_1h</th>\n",
       "      <td>0.084294</td>\n",
       "      <td>1.000000</td>\n",
       "      <td>0.001937</td>\n",
       "      <td>0.082327</td>\n",
       "      <td>-0.011505</td>\n",
       "      <td>-0.022076</td>\n",
       "    </tr>\n",
       "    <tr>\n",
       "      <th>snow_1h</th>\n",
       "      <td>-0.020063</td>\n",
       "      <td>0.001937</td>\n",
       "      <td>1.000000</td>\n",
       "      <td>0.028213</td>\n",
       "      <td>0.011294</td>\n",
       "      <td>0.000824</td>\n",
       "    </tr>\n",
       "    <tr>\n",
       "      <th>clouds_percentage</th>\n",
       "      <td>-0.104588</td>\n",
       "      <td>0.082327</td>\n",
       "      <td>0.028213</td>\n",
       "      <td>1.000000</td>\n",
       "      <td>0.055334</td>\n",
       "      <td>0.067611</td>\n",
       "    </tr>\n",
       "    <tr>\n",
       "      <th>date_time</th>\n",
       "      <td>0.113305</td>\n",
       "      <td>-0.011505</td>\n",
       "      <td>0.011294</td>\n",
       "      <td>0.055334</td>\n",
       "      <td>1.000000</td>\n",
       "      <td>0.354846</td>\n",
       "    </tr>\n",
       "    <tr>\n",
       "      <th>population_density</th>\n",
       "      <td>0.131890</td>\n",
       "      <td>-0.022076</td>\n",
       "      <td>0.000824</td>\n",
       "      <td>0.067611</td>\n",
       "      <td>0.354846</td>\n",
       "      <td>1.000000</td>\n",
       "    </tr>\n",
       "  </tbody>\n",
       "</table>\n",
       "</div>"
      ],
      "text/plain": [
       "                    temperature   rain_1h  ...  date_time  population_density\n",
       "temperature            1.000000  0.084294  ...   0.113305            0.131890\n",
       "rain_1h                0.084294  1.000000  ...  -0.011505           -0.022076\n",
       "snow_1h               -0.020063  0.001937  ...   0.011294            0.000824\n",
       "clouds_percentage     -0.104588  0.082327  ...   0.055334            0.067611\n",
       "date_time              0.113305 -0.011505  ...   1.000000            0.354846\n",
       "population_density     0.131890 -0.022076  ...   0.354846            1.000000\n",
       "\n",
       "[6 rows x 6 columns]"
      ]
     },
     "execution_count": 33,
     "metadata": {
      "tags": []
     },
     "output_type": "execute_result"
    }
   ],
   "source": [
    "population_density_categorical_reg.corr()"
   ]
  },
  {
   "cell_type": "markdown",
   "metadata": {
    "colab_type": "text",
    "id": "3PmC9Hkq0iD1"
   },
   "source": [
    "   (a) Which features are suitable as an input for linear regression and which need to be modified first? Why?"
   ]
  },
  {
   "cell_type": "markdown",
   "metadata": {
    "colab_type": "text",
    "id": "SopYKCKC0iD3"
   },
   "source": [
    "<b>Explanation:</b> All Features are suitable to be an input for the linear regression model, Except for the \"Holiday\" column as it is a Categorical feature that first needs to be converted to numerical, because the linear regression model accepts only numerical values.\n"
   ]
  },
  {
   "cell_type": "markdown",
   "metadata": {
    "colab_type": "text",
    "id": "aVXs-95T0iD3"
   },
   "source": [
    "   (b) Implement and briefly motivate an adequate modification. Print the resulting data set limited to the first two data rows."
   ]
  },
  {
   "cell_type": "markdown",
   "metadata": {
    "colab_type": "text",
    "id": "4L7Bcjln0iD4"
   },
   "source": [
    "<b>Explanation:</b> For the Holiday Feature we will apply One Hot Encoding Technique, so it would be suitable for regression calculation, however it will be expesive processing because one feature will be dealt as twelve featrues.\n"
   ]
  },
  {
   "cell_type": "code",
   "execution_count": 34,
   "metadata": {
    "colab": {
     "base_uri": "https://localhost:8080/",
     "height": 160
    },
    "colab_type": "code",
    "id": "NvriTtBX0iD5",
    "outputId": "bdfbf3f0-ff69-45ae-9277-5e570f1d6bb2"
   },
   "outputs": [
    {
     "data": {
      "text/html": [
       "<div>\n",
       "<style scoped>\n",
       "    .dataframe tbody tr th:only-of-type {\n",
       "        vertical-align: middle;\n",
       "    }\n",
       "\n",
       "    .dataframe tbody tr th {\n",
       "        vertical-align: top;\n",
       "    }\n",
       "\n",
       "    .dataframe thead th {\n",
       "        text-align: right;\n",
       "    }\n",
       "</style>\n",
       "<table border=\"1\" class=\"dataframe\">\n",
       "  <thead>\n",
       "    <tr style=\"text-align: right;\">\n",
       "      <th></th>\n",
       "      <th>temperature</th>\n",
       "      <th>rain_1h</th>\n",
       "      <th>snow_1h</th>\n",
       "      <th>clouds_percentage</th>\n",
       "      <th>date_time</th>\n",
       "      <th>holiday_Christmas Day</th>\n",
       "      <th>holiday_Columbus Day</th>\n",
       "      <th>holiday_Independence Day</th>\n",
       "      <th>holiday_Labor Day</th>\n",
       "      <th>holiday_Martin Luther King Jr Day</th>\n",
       "      <th>holiday_Memorial Day</th>\n",
       "      <th>holiday_New Years Day</th>\n",
       "      <th>holiday_None</th>\n",
       "      <th>holiday_State Fair</th>\n",
       "      <th>holiday_Thanksgiving Day</th>\n",
       "      <th>holiday_Veterans Day</th>\n",
       "      <th>holiday_Washingtons Birthday</th>\n",
       "      <th>population_density</th>\n",
       "    </tr>\n",
       "  </thead>\n",
       "  <tbody>\n",
       "    <tr>\n",
       "      <th>0</th>\n",
       "      <td>288.28</td>\n",
       "      <td>0.0</td>\n",
       "      <td>0.0</td>\n",
       "      <td>40</td>\n",
       "      <td>9</td>\n",
       "      <td>0</td>\n",
       "      <td>0</td>\n",
       "      <td>0</td>\n",
       "      <td>0</td>\n",
       "      <td>0</td>\n",
       "      <td>0</td>\n",
       "      <td>0</td>\n",
       "      <td>1</td>\n",
       "      <td>0</td>\n",
       "      <td>0</td>\n",
       "      <td>0</td>\n",
       "      <td>0</td>\n",
       "      <td>5545</td>\n",
       "    </tr>\n",
       "    <tr>\n",
       "      <th>1</th>\n",
       "      <td>289.36</td>\n",
       "      <td>0.0</td>\n",
       "      <td>0.0</td>\n",
       "      <td>75</td>\n",
       "      <td>10</td>\n",
       "      <td>0</td>\n",
       "      <td>0</td>\n",
       "      <td>0</td>\n",
       "      <td>0</td>\n",
       "      <td>0</td>\n",
       "      <td>0</td>\n",
       "      <td>0</td>\n",
       "      <td>1</td>\n",
       "      <td>0</td>\n",
       "      <td>0</td>\n",
       "      <td>0</td>\n",
       "      <td>0</td>\n",
       "      <td>4516</td>\n",
       "    </tr>\n",
       "  </tbody>\n",
       "</table>\n",
       "</div>"
      ],
      "text/plain": [
       "   temperature  rain_1h  ...  holiday_Washingtons Birthday  population_density\n",
       "0       288.28      0.0  ...                             0                5545\n",
       "1       289.36      0.0  ...                             0                4516\n",
       "\n",
       "[2 rows x 18 columns]"
      ]
     },
     "execution_count": 34,
     "metadata": {
      "tags": []
     },
     "output_type": "execute_result"
    }
   ],
   "source": [
    "# Your code:\n",
    "population_density_categorical_reg = pd.get_dummies(population_density_categorical_reg, columns = [\"holiday\"])\n",
    "population_density_categorical_reg = population_density_categorical_reg[['temperature', 'rain_1h', 'snow_1h', 'clouds_percentage', 'date_time',\n",
    "        'holiday_Christmas Day', 'holiday_Columbus Day',\n",
    "       'holiday_Independence Day', 'holiday_Labor Day',\n",
    "       'holiday_Martin Luther King Jr Day', 'holiday_Memorial Day',\n",
    "       'holiday_New Years Day', 'holiday_None', 'holiday_State Fair',\n",
    "       'holiday_Thanksgiving Day', 'holiday_Veterans Day',\n",
    "       'holiday_Washingtons Birthday','population_density']]\n",
    "population_density_categorical_reg.head(2)"
   ]
  },
  {
   "cell_type": "markdown",
   "metadata": {
    "colab_type": "text",
    "id": "iYFr8-wD0iD6"
   },
   "source": [
    "(c) To get a first idea about our data, plot the behaviour of the target feature (population_density) over time (date_time)."
   ]
  },
  {
   "cell_type": "code",
   "execution_count": 35,
   "metadata": {
    "colab": {
     "base_uri": "https://localhost:8080/",
     "height": 499
    },
    "colab_type": "code",
    "id": "c_QMsds20iD7",
    "outputId": "8d3f3468-c1ad-4290-f515-40f887095182"
   },
   "outputs": [
    {
     "data": {
      "image/png": "[encoded data removed]",
      "text/plain": [
       "<Figure size 936x504 with 1 Axes>"
      ]
     },
     "metadata": {
      "tags": []
     },
     "output_type": "display_data"
    }
   ],
   "source": [
    "x_hours=population_density_categorical_reg.date_time.unique()\n",
    "fig, ax = plt.subplots(figsize=(13,7))\n",
    "population_density_categorical_reg.groupby(['date_time']).mean()['population_density'].plot(ax=ax,linewidth=5)\n",
    "ax.set_xlabel('Date_time (HH24 Hour Frmt)',size=15)\n",
    "ax.set_ylabel('population_density (no. of persn.)',size=15)\n",
    "fig.suptitle('Population Density Average Across the Day', fontsize=20)\n",
    "plt.xticks(x_hours)\n",
    "plt.grid(True)"
   ]
  },
  {
   "cell_type": "markdown",
   "metadata": {
    "colab_type": "text",
    "id": "m2Ao1k-c0iD_"
   },
   "source": [
    "<b>Graph Explanation : </b> from the graph above we can notice the population density is at its highest levels during peak hours, on the other hand it decline in the evening and reaching its lowest levels after midnight."
   ]
  },
  {
   "cell_type": "code",
   "execution_count": 36,
   "metadata": {
    "colab": {
     "base_uri": "https://localhost:8080/",
     "height": 295
    },
    "colab_type": "code",
    "id": "TnRvIcdd0iEA",
    "outputId": "593440a9-6939-472c-c043-bbcfa69eedaf"
   },
   "outputs": [
    {
     "data": {
      "image/png": "[encoded data removed]",
      "text/plain": [
       "<Figure size 432x288 with 1 Axes>"
      ]
     },
     "metadata": {
      "tags": []
     },
     "output_type": "display_data"
    }
   ],
   "source": [
    "#visualize data points\n",
    "plt.scatter(population_density_categorical_reg[['date_time']], population_density_categorical_reg[['population_density']])  \n",
    "plt.xlabel('x') \n",
    "plt.ylabel('y') \n",
    "plt.title('title')\n",
    "plt.show()"
   ]
  },
  {
   "cell_type": "markdown",
   "metadata": {
    "colab_type": "text",
    "id": "EISpIotk0iEC"
   },
   "source": [
    "   (d) Create two distinct subsets of the data. Use sampling methods as described in the lecture. You should end up with two DIFFERENT sample data sets *RegA, RegB*. Include these data sets in the submitted data set zip file. \n",
    "   \n",
    "   Which sampling methods did you choose and why? Which one do you expect to result in a better classifier?"
   ]
  },
  {
   "cell_type": "code",
   "execution_count": 38,
   "metadata": {
    "colab": {
     "base_uri": "https://localhost:8080/",
     "height": 248
    },
    "colab_type": "code",
    "id": "Oy7l6xaT0iEC",
    "outputId": "2f74f9ee-d95a-4c60-b323-3b3346d060df"
   },
   "outputs": [
    {
     "data": {
      "text/html": [
       "<div>\n",
       "<style scoped>\n",
       "    .dataframe tbody tr th:only-of-type {\n",
       "        vertical-align: middle;\n",
       "    }\n",
       "\n",
       "    .dataframe tbody tr th {\n",
       "        vertical-align: top;\n",
       "    }\n",
       "\n",
       "    .dataframe thead th {\n",
       "        text-align: right;\n",
       "    }\n",
       "</style>\n",
       "<table border=\"1\" class=\"dataframe\">\n",
       "  <thead>\n",
       "    <tr style=\"text-align: right;\">\n",
       "      <th></th>\n",
       "      <th>temperature</th>\n",
       "      <th>rain_1h</th>\n",
       "      <th>snow_1h</th>\n",
       "      <th>clouds_percentage</th>\n",
       "      <th>date_time</th>\n",
       "      <th>holiday_Christmas Day</th>\n",
       "      <th>holiday_Columbus Day</th>\n",
       "      <th>holiday_Independence Day</th>\n",
       "      <th>holiday_Labor Day</th>\n",
       "      <th>holiday_Martin Luther King Jr Day</th>\n",
       "      <th>holiday_Memorial Day</th>\n",
       "      <th>holiday_New Years Day</th>\n",
       "      <th>holiday_None</th>\n",
       "      <th>holiday_State Fair</th>\n",
       "      <th>holiday_Thanksgiving Day</th>\n",
       "      <th>holiday_Veterans Day</th>\n",
       "      <th>holiday_Washingtons Birthday</th>\n",
       "      <th>population_density</th>\n",
       "    </tr>\n",
       "  </thead>\n",
       "  <tbody>\n",
       "    <tr>\n",
       "      <th>0</th>\n",
       "      <td>288.28</td>\n",
       "      <td>0.0</td>\n",
       "      <td>0.0</td>\n",
       "      <td>40</td>\n",
       "      <td>9</td>\n",
       "      <td>0</td>\n",
       "      <td>0</td>\n",
       "      <td>0</td>\n",
       "      <td>0</td>\n",
       "      <td>0</td>\n",
       "      <td>0</td>\n",
       "      <td>0</td>\n",
       "      <td>1</td>\n",
       "      <td>0</td>\n",
       "      <td>0</td>\n",
       "      <td>0</td>\n",
       "      <td>0</td>\n",
       "      <td>5545</td>\n",
       "    </tr>\n",
       "    <tr>\n",
       "      <th>1</th>\n",
       "      <td>289.36</td>\n",
       "      <td>0.0</td>\n",
       "      <td>0.0</td>\n",
       "      <td>75</td>\n",
       "      <td>10</td>\n",
       "      <td>0</td>\n",
       "      <td>0</td>\n",
       "      <td>0</td>\n",
       "      <td>0</td>\n",
       "      <td>0</td>\n",
       "      <td>0</td>\n",
       "      <td>0</td>\n",
       "      <td>1</td>\n",
       "      <td>0</td>\n",
       "      <td>0</td>\n",
       "      <td>0</td>\n",
       "      <td>0</td>\n",
       "      <td>4516</td>\n",
       "    </tr>\n",
       "    <tr>\n",
       "      <th>2</th>\n",
       "      <td>289.58</td>\n",
       "      <td>0.0</td>\n",
       "      <td>0.0</td>\n",
       "      <td>90</td>\n",
       "      <td>11</td>\n",
       "      <td>0</td>\n",
       "      <td>0</td>\n",
       "      <td>0</td>\n",
       "      <td>0</td>\n",
       "      <td>0</td>\n",
       "      <td>0</td>\n",
       "      <td>0</td>\n",
       "      <td>1</td>\n",
       "      <td>0</td>\n",
       "      <td>0</td>\n",
       "      <td>0</td>\n",
       "      <td>0</td>\n",
       "      <td>4767</td>\n",
       "    </tr>\n",
       "    <tr>\n",
       "      <th>3</th>\n",
       "      <td>290.13</td>\n",
       "      <td>0.0</td>\n",
       "      <td>0.0</td>\n",
       "      <td>90</td>\n",
       "      <td>12</td>\n",
       "      <td>0</td>\n",
       "      <td>0</td>\n",
       "      <td>0</td>\n",
       "      <td>0</td>\n",
       "      <td>0</td>\n",
       "      <td>0</td>\n",
       "      <td>0</td>\n",
       "      <td>1</td>\n",
       "      <td>0</td>\n",
       "      <td>0</td>\n",
       "      <td>0</td>\n",
       "      <td>0</td>\n",
       "      <td>5026</td>\n",
       "    </tr>\n",
       "    <tr>\n",
       "      <th>4</th>\n",
       "      <td>291.72</td>\n",
       "      <td>0.0</td>\n",
       "      <td>0.0</td>\n",
       "      <td>1</td>\n",
       "      <td>14</td>\n",
       "      <td>0</td>\n",
       "      <td>0</td>\n",
       "      <td>0</td>\n",
       "      <td>0</td>\n",
       "      <td>0</td>\n",
       "      <td>0</td>\n",
       "      <td>0</td>\n",
       "      <td>1</td>\n",
       "      <td>0</td>\n",
       "      <td>0</td>\n",
       "      <td>0</td>\n",
       "      <td>0</td>\n",
       "      <td>5181</td>\n",
       "    </tr>\n",
       "  </tbody>\n",
       "</table>\n",
       "</div>"
      ],
      "text/plain": [
       "   temperature  rain_1h  ...  holiday_Washingtons Birthday  population_density\n",
       "0       288.28      0.0  ...                             0                5545\n",
       "1       289.36      0.0  ...                             0                4516\n",
       "2       289.58      0.0  ...                             0                4767\n",
       "3       290.13      0.0  ...                             0                5026\n",
       "4       291.72      0.0  ...                             0                5181\n",
       "\n",
       "[5 rows x 18 columns]"
      ]
     },
     "execution_count": 38,
     "metadata": {
      "tags": []
     },
     "output_type": "execute_result"
    }
   ],
   "source": [
    "RegA = population_density_categorical_reg.head(100) #Top Sampling\n",
    "RegB = population_density_categorical_reg.sample(n=100,random_state=403377) #Random Sampling\n",
    "\n",
    "RegA.to_csv(\"RegA.csv\",index=False)\n",
    "RegB.to_csv(\"RegB.csv\",index=False)\n",
    "\n",
    "#train, test = train_test_split(Descriptive_Variables,stratify=x_hours)\n",
    "\n",
    "#test.shape\n",
    "RegA.head()"
   ]
  },
  {
   "cell_type": "markdown",
   "metadata": {
    "colab_type": "text",
    "id": "16DQkGCE0iEE"
   },
   "source": [
    "<b>Explanation:</b> We chose \"Top Sampling\" & \"Random Sampling\", expect random sampling to result in better classification, as it will not be biased by the data ordering in the csv file provided.\n"
   ]
  },
  {
   "cell_type": "markdown",
   "metadata": {
    "colab_type": "text",
    "id": "dAsrVPfG0iEF"
   },
   "source": [
    "   (e) Train a linear regression classifier based on each of the two sample data sets *RegA, RegB* created before."
   ]
  },
  {
   "cell_type": "code",
   "execution_count": 0,
   "metadata": {
    "colab": {},
    "colab_type": "code",
    "id": "oqqi6jd90iEF"
   },
   "outputs": [],
   "source": [
    "from sklearn.linear_model import LinearRegression\n",
    "from sklearn.model_selection import train_test_split\n",
    "from sklearn.metrics import classification_report\n",
    "\n",
    "RegA_classifier = LinearRegression(normalize=True)\n",
    "RegB_classifier = LinearRegression(normalize=True)\n",
    "\n",
    "RegA_Descriptive_Variables = RegA.iloc[:,:-1].values\n",
    "RegA_Target_Feature = RegA.iloc[:,17].values\n",
    "\n",
    "RegB_Descriptive_Variables = RegB.iloc[:,:-1].values\n",
    "RegB_Target_Feature = RegB.iloc[:,17].values\n",
    "\n",
    "RegA_classifier.fit(RegA_Descriptive_Variables,RegA_Target_Feature)\n",
    "RegB_classifier.fit(RegB_Descriptive_Variables,RegB_Target_Feature)\n",
    "\n",
    "RegA_y_predict = RegA_classifier.predict(RegA_Descriptive_Variables)\n",
    "RegB_y_predict = RegB_classifier.predict(RegB_Descriptive_Variables)"
   ]
  },
  {
   "cell_type": "markdown",
   "metadata": {
    "colab_type": "text",
    "id": "WzJYECED0iEH"
   },
   "source": [
    "(f) Visualize both computed regression functions in one plot each, combined with the original data set. For example, you can show a plot similar to 3(c) and insert the regression functions result."
   ]
  },
  {
   "cell_type": "code",
   "execution_count": 40,
   "metadata": {
    "colab": {
     "base_uri": "https://localhost:8080/",
     "height": 516
    },
    "colab_type": "code",
    "id": "axfdhK270iEI",
    "outputId": "31a3b23c-2192-4179-a3e0-3a28b710689e"
   },
   "outputs": [
    {
     "data": {
      "text/plain": [
       "[<matplotlib.lines.Line2D at 0x7f4676f7a0f0>]"
      ]
     },
     "execution_count": 40,
     "metadata": {
      "tags": []
     },
     "output_type": "execute_result"
    },
    {
     "data": {
      "image/png": "[encoded data removed]",
      "text/plain": [
       "<Figure size 1080x504 with 2 Axes>"
      ]
     },
     "metadata": {
      "tags": []
     },
     "output_type": "display_data"
    }
   ],
   "source": [
    "# Your code:\n",
    "x_hours=population_density_categorical_reg.date_time.unique()\n",
    "fig, ax = plt.subplots(1,2,figsize=(15,7))\n",
    "fig.suptitle('A,B Regression Functions with Orig. Data.', fontsize=20)\n",
    "ax[0].set_xlabel('Date_time (HH24 Hour Frmt)',size=15)\n",
    "ax[0].set_ylabel('population_density (no. of persn.)',size=15)\n",
    "ax[1].set_xlabel('Date_time (HH24 Hour Frmt)',size=15)\n",
    "ax[1].set_ylabel('population_density (no. of persn.)',size=15)\n",
    "ax[0].set_title('RegA Regression Function with Original Data')\n",
    "ax[1].set_title('RegB Regression Function with Original Data')\n",
    "ax[0].plot(population_density_categorical_reg.groupby(['date_time']).mean()['population_density'],linewidth=4) \n",
    "ax[1].plot(population_density_categorical_reg.groupby(['date_time']).mean()['population_density'],linewidth=4) \n",
    "ax[0].plot(RegA[['date_time']], RegA_y_predict, color = \"g\") \n",
    "ax[1].plot(RegA[['date_time']], RegB_y_predict, color = \"g\") "
   ]
  },
  {
   "cell_type": "markdown",
   "metadata": {
    "colab_type": "text",
    "id": "B30SLjrA0iEK"
   },
   "source": [
    "   (g) For each of the two resulting models compute and print the mean squared error, mean absolute error and median squared error with respect to the original, non-sampled data set. Also, present plots showing the errors and squared errors."
   ]
  },
  {
   "cell_type": "code",
   "execution_count": 41,
   "metadata": {
    "colab": {
     "base_uri": "https://localhost:8080/",
     "height": 159
    },
    "colab_type": "code",
    "id": "Q3kkbCK-0iEL",
    "outputId": "7083ec14-945a-44d4-8159-592621ce1cfc"
   },
   "outputs": [
    {
     "name": "stdout",
     "output_type": "stream",
     "text": [
      "Reg A Mean squared error: 4064391.230635206\n",
      "Reg B Mean squared error: 3596753.3240336566\n",
      "--------\n",
      "Reg A Mean absolute error: 1689.1975940520674\n",
      "Reg B Mean absolute error: 1642.3288870454055\n",
      "--------\n",
      "Reg A median absolute error: 1605.4557509324914\n",
      "Reg B median absolute error: 1593.6747997636376\n"
     ]
    }
   ],
   "source": [
    "from sklearn.metrics import mean_squared_error, mean_absolute_error,median_absolute_error\n",
    "\n",
    "Original_Descriptive_Variables = population_density_categorical_reg.iloc[:,:-1].values\n",
    "Original_Target_Feature = population_density_categorical_reg.iloc[:,17].values\n",
    "\n",
    "RegA_y_predict_original = RegA_classifier.predict(Original_Descriptive_Variables)\n",
    "RegB_y_predict_original = RegB_classifier.predict(Original_Descriptive_Variables)\n",
    "\n",
    "print(\"Reg A Mean squared error: \"+ str(mean_squared_error(Original_Target_Feature, RegA_y_predict_original)))\n",
    "print(\"Reg B Mean squared error: \"+ str(mean_squared_error(Original_Target_Feature, RegB_y_predict_original)))\n",
    "print('--------')\n",
    "print(\"Reg A Mean absolute error: \"+ str(mean_absolute_error(Original_Target_Feature, RegA_y_predict_original)))\n",
    "print(\"Reg B Mean absolute error: \"+ str(mean_absolute_error(Original_Target_Feature, RegB_y_predict_original)))\n",
    "print('--------')\n",
    "print(\"Reg A median absolute error: \"+ str(median_absolute_error(Original_Target_Feature, RegA_y_predict_original)))\n",
    "print(\"Reg B median absolute error: \"+ str(median_absolute_error(Original_Target_Feature, RegB_y_predict_original)))"
   ]
  },
  {
   "cell_type": "code",
   "execution_count": 42,
   "metadata": {
    "colab": {
     "base_uri": "https://localhost:8080/",
     "height": 516
    },
    "colab_type": "code",
    "id": "78leeXGM0iEN",
    "outputId": "e106c378-4271-4104-e9fe-15a30186aaa7"
   },
   "outputs": [
    {
     "data": {
      "text/plain": [
       "Text(0, 0.5, 'squared error')"
      ]
     },
     "execution_count": 42,
     "metadata": {
      "tags": []
     },
     "output_type": "execute_result"
    },
    {
     "data": {
      "image/png": "[encoded data removed]",
      "text/plain": [
       "<Figure size 1080x504 with 2 Axes>"
      ]
     },
     "metadata": {
      "tags": []
     },
     "output_type": "display_data"
    }
   ],
   "source": [
    "fig, ax = plt.subplots(1,2,figsize=(15,7))\n",
    "fig.suptitle('A,B Regression Functions Squared Errors', fontsize=20)\n",
    "\n",
    "## plotting both models squared Errors \n",
    "ax[0].scatter(RegA_y_predict_original, (Original_Target_Feature - RegA_y_predict_original) ** 2, color = \"blue\")\n",
    "ax[1].scatter(RegB_y_predict_original, (Original_Target_Feature - RegB_y_predict_original) ** 2, color = \"blue\")\n",
    "ax[0].set_title('RegA Squared errors with Original Data')\n",
    "ax[1].set_title('RegB Squared errors with Original Data')\n",
    "\n",
    "## plotting line for zero error \n",
    "ax[0].hlines(y = 0, xmin = 0, xmax = 5000, linewidth = 2) \n",
    "ax[1].hlines(y = 0, xmin = 0, xmax = 7000, linewidth = 2) \n",
    "\n",
    "ax[0].set_xlabel('predicted values',size=15)\n",
    "ax[0].set_ylabel('squared error',size=15)\n",
    "ax[1].set_xlabel('predicted values',size=15)\n",
    "ax[1].set_ylabel('squared error',size=15)\n"
   ]
  },
  {
   "cell_type": "code",
   "execution_count": 43,
   "metadata": {
    "colab": {
     "base_uri": "https://localhost:8080/",
     "height": 516
    },
    "colab_type": "code",
    "id": "aPBYSMB_0iEP",
    "outputId": "df3542a0-527a-453a-deae-303a6987241a"
   },
   "outputs": [
    {
     "data": {
      "text/plain": [
       "Text(0, 0.5, 'absolute error')"
      ]
     },
     "execution_count": 43,
     "metadata": {
      "tags": []
     },
     "output_type": "execute_result"
    },
    {
     "data": {
      "image/png": "[encoded data removed]",
      "text/plain": [
       "<Figure size 1080x504 with 2 Axes>"
      ]
     },
     "metadata": {
      "tags": []
     },
     "output_type": "display_data"
    }
   ],
   "source": [
    "#plot\n",
    "fig, ax = plt.subplots(1,2,figsize=(15,7))\n",
    "fig.suptitle('A,B Regression Functions absolute Errors', fontsize=20)\n",
    "\n",
    "## plotting both models squared Errors \n",
    "ax[0].scatter(RegA_y_predict_original, (Original_Target_Feature - RegA_y_predict_original), color = \"blue\")\n",
    "ax[1].scatter(RegB_y_predict_original, (Original_Target_Feature - RegB_y_predict_original), color = \"blue\")\n",
    "ax[0].set_title('RegA absolute errors with Original Data')\n",
    "ax[1].set_title('RegB absolute errors with Original Data')\n",
    "\n",
    "## plotting line for zero error \n",
    "ax[0].hlines(y = 0, xmin = -20000, xmax = 5000, linewidth = 2) \n",
    "ax[1].hlines(y = 0, xmin = -15000, xmax = 7000, linewidth = 2) \n",
    "\n",
    "ax[0].set_xlabel('predicted values',size=15)\n",
    "ax[0].set_ylabel('absolute error',size=15)\n",
    "ax[1].set_xlabel('predicted values',size=15)\n",
    "ax[1].set_ylabel('absolute error',size=15)\n"
   ]
  },
  {
   "cell_type": "markdown",
   "metadata": {
    "colab_type": "text",
    "id": "SgzU0izF0iER"
   },
   "source": [
    "   (h) Interpret and evaluate the two models and compare them. Why are they similar/different? Which model do you recommend and why? How do you think the applied methods could be improved to get better results?"
   ]
  },
  {
   "cell_type": "markdown",
   "metadata": {
    "colab_type": "text",
    "id": "H6NtTK5c0iES"
   },
   "source": [
    "<b>Explanation: </b> <br> <b>*Interpretation*</b> the two Regression models depends on different Training set of sample size=100, as the RegA is a biased model due to its sampling technique that depends on records ordering of the file, and that elaborates why it has much higher error rate. on the other hand RegB that was Random sample had much variety of the data and more representative that RegA, and that also elaborates why it has lower error rate.\n",
    "<br><b>Recommended Model</b> we would recommend RegB Model as it has more representation of the data.\n",
    "<br><b>Better Results</b>\n",
    "<br><b>1</b>- Include More Significant Features(weather Type).\n",
    "<br><b>2</b>- Derive New Features and use it, ex: Season to be derived out of date_time to get months then seasons.\n",
    "<br>Weekend or Weekday Attribute, can also be derived of Date_time.\n",
    "<br><b>3</b>- binning&then coding of (Hours) to be (early morning/morning/afternoon/evenning).\n",
    "<br><b>4</b>- Increase Sample Size.\n",
    "<br><b>5</b>- Normalize data, such as Temprature.\n",
    "\n"
   ]
  },
  {
   "cell_type": "markdown",
   "metadata": {
    "colab_type": "text",
    "id": "QBLQZVYC0iES"
   },
   "source": [
    "## Question 4 - Support Vector Machines (10 points):\n",
    "\n",
    "For this question (Q4), restrict your extracted data set to the columns *holiday, temperature, rain_1h, snow_1h, clouds_percentage, date_time* and *population_density_categorical*. For *date_time*, drop the information on the date and restrict the data to time values only.\n",
    "We define *population_density_categorical* to be our target feature, while all other features are considered descriptive.\n"
   ]
  },
  {
   "cell_type": "code",
   "execution_count": 1,
   "metadata": {
    "colab": {},
    "colab_type": "code",
    "id": "0a6_RUsF0iES"
   },
   "outputs": [],
   "source": [
    "# PreProcess Data for SVM Task\n",
    "import pandas as pd \n",
    "population_density_categorical_SVM = pd.read_csv(\"population_density_categorical.csv\",usecols=['holiday','temperature','rain_1h','snow_1h','clouds_percentage','date_time','population_density_categorical'])"
   ]
  },
  {
   "cell_type": "code",
   "execution_count": 2,
   "metadata": {
    "colab": {
     "base_uri": "https://localhost:8080/",
     "height": 194
    },
    "colab_type": "code",
    "id": "ew5uiyI1aH9P",
    "outputId": "7d5d161d-a368-4a9a-8c72-772b2a277078"
   },
   "outputs": [
    {
     "data": {
      "text/html": [
       "<div>\n",
       "<style scoped>\n",
       "    .dataframe tbody tr th:only-of-type {\n",
       "        vertical-align: middle;\n",
       "    }\n",
       "\n",
       "    .dataframe tbody tr th {\n",
       "        vertical-align: top;\n",
       "    }\n",
       "\n",
       "    .dataframe thead th {\n",
       "        text-align: right;\n",
       "    }\n",
       "</style>\n",
       "<table border=\"1\" class=\"dataframe\">\n",
       "  <thead>\n",
       "    <tr style=\"text-align: right;\">\n",
       "      <th></th>\n",
       "      <th>holiday</th>\n",
       "      <th>temperature</th>\n",
       "      <th>rain_1h</th>\n",
       "      <th>snow_1h</th>\n",
       "      <th>clouds_percentage</th>\n",
       "      <th>date_time</th>\n",
       "      <th>population_density_categorical</th>\n",
       "    </tr>\n",
       "  </thead>\n",
       "  <tbody>\n",
       "    <tr>\n",
       "      <th>0</th>\n",
       "      <td>None</td>\n",
       "      <td>288.28</td>\n",
       "      <td>0.0</td>\n",
       "      <td>0.0</td>\n",
       "      <td>40</td>\n",
       "      <td>9</td>\n",
       "      <td>high</td>\n",
       "    </tr>\n",
       "    <tr>\n",
       "      <th>1</th>\n",
       "      <td>None</td>\n",
       "      <td>289.36</td>\n",
       "      <td>0.0</td>\n",
       "      <td>0.0</td>\n",
       "      <td>75</td>\n",
       "      <td>10</td>\n",
       "      <td>high</td>\n",
       "    </tr>\n",
       "    <tr>\n",
       "      <th>2</th>\n",
       "      <td>None</td>\n",
       "      <td>289.58</td>\n",
       "      <td>0.0</td>\n",
       "      <td>0.0</td>\n",
       "      <td>90</td>\n",
       "      <td>11</td>\n",
       "      <td>high</td>\n",
       "    </tr>\n",
       "    <tr>\n",
       "      <th>3</th>\n",
       "      <td>None</td>\n",
       "      <td>290.13</td>\n",
       "      <td>0.0</td>\n",
       "      <td>0.0</td>\n",
       "      <td>90</td>\n",
       "      <td>12</td>\n",
       "      <td>high</td>\n",
       "    </tr>\n",
       "    <tr>\n",
       "      <th>4</th>\n",
       "      <td>None</td>\n",
       "      <td>291.72</td>\n",
       "      <td>0.0</td>\n",
       "      <td>0.0</td>\n",
       "      <td>1</td>\n",
       "      <td>14</td>\n",
       "      <td>high</td>\n",
       "    </tr>\n",
       "  </tbody>\n",
       "</table>\n",
       "</div>"
      ],
      "text/plain": [
       "  holiday  temperature  rain_1h  snow_1h  clouds_percentage  date_time  \\\n",
       "0    None       288.28      0.0      0.0                 40          9   \n",
       "1    None       289.36      0.0      0.0                 75         10   \n",
       "2    None       289.58      0.0      0.0                 90         11   \n",
       "3    None       290.13      0.0      0.0                 90         12   \n",
       "4    None       291.72      0.0      0.0                  1         14   \n",
       "\n",
       "  population_density_categorical  \n",
       "0                           high  \n",
       "1                           high  \n",
       "2                           high  \n",
       "3                           high  \n",
       "4                           high  "
      ]
     },
     "execution_count": 2,
     "metadata": {},
     "output_type": "execute_result"
    }
   ],
   "source": [
    "def hr_func(ts):\n",
    "    return ts.hour\n",
    "\n",
    "#pd.read_csv(\"population_density_categorical.csv\",usecols=['holiday','temperature','rain_1h','snow_1h','clouds_percentage','date_time','population_density_categorical'])\n",
    "\n",
    "population_density_categorical_SVM['datetime_col'] = pd.to_datetime(population_density_categorical_SVM.date_time)\n",
    "population_density_categorical_SVM['date_time'] = population_density_categorical_SVM['datetime_col'].apply(hr_func)\n",
    "\n",
    "population_density_categorical_SVM = population_density_categorical_SVM[['holiday','temperature','rain_1h','snow_1h'\n",
    "                                                                         ,'clouds_percentage','date_time','population_density_categorical']]\n",
    "population_density_categorical_SVM.head()\n"
   ]
  },
  {
   "cell_type": "code",
   "execution_count": 3,
   "metadata": {
    "colab": {},
    "colab_type": "code",
    "id": "9F1bxQjEjzrv"
   },
   "outputs": [],
   "source": [
    "target_feature = population_density_categorical_SVM['population_density_categorical']\n",
    "columns_SVM = population_density_categorical_SVM.columns\n",
    "columns_SVM = list(columns_SVM)\n",
    "columns_SVM.remove('population_density_categorical')\n",
    "descriptive_features = population_density_categorical_SVM[columns_SVM]"
   ]
  },
  {
   "cell_type": "markdown",
   "metadata": {
    "colab_type": "text",
    "id": "8aJfDpb20iEU"
   },
   "source": [
    "   (a) Which features are suitable as an input for SVM and which need to be modified first? Modify the data as needed and provide a brief explanation."
   ]
  },
  {
   "cell_type": "code",
   "execution_count": 4,
   "metadata": {
    "colab": {
     "base_uri": "https://localhost:8080/",
     "height": 106
    },
    "colab_type": "code",
    "id": "meZAfLBWaw-o",
    "outputId": "9dfb19fa-dd71-4623-8e1e-094dd0cad72e"
   },
   "outputs": [
    {
     "name": "stderr",
     "output_type": "stream",
     "text": [
      "C:\\Users\\Eng.Ahmed\\Anaconda3\\lib\\site-packages\\pandas\\core\\frame.py:3940: SettingWithCopyWarning: \n",
      "A value is trying to be set on a copy of a slice from a DataFrame\n",
      "\n",
      "See the caveats in the documentation: http://pandas.pydata.org/pandas-docs/stable/indexing.html#indexing-view-versus-copy\n",
      "  errors=errors)\n"
     ]
    }
   ],
   "source": [
    "# Your code:\n",
    "\n",
    "holiday_one_hot = pd.get_dummies(descriptive_features['holiday'])\n",
    "descriptive_features.drop('holiday', axis=1, inplace=True)\n",
    "descriptive_features=descriptive_features.join(holiday_one_hot)"
   ]
  },
  {
   "cell_type": "code",
   "execution_count": 5,
   "metadata": {
    "colab": {},
    "colab_type": "code",
    "id": "pD5fRNizkgN-"
   },
   "outputs": [],
   "source": [
    "from sklearn import preprocessing\n",
    "normalized_descriptive_features =  preprocessing.normalize(descriptive_features)"
   ]
  },
  {
   "cell_type": "markdown",
   "metadata": {
    "colab_type": "text",
    "id": "_vcm-LC80iEW"
   },
   "source": [
    "Explanation: For the Holiday column the data is categorical (nominal) thus we first need to perform one-hot encoding, to be able to perform SVM classification. Furthermore, we need to normalize the data in order to map the values between the range from 0 to 1 \n"
   ]
  },
  {
   "cell_type": "markdown",
   "metadata": {
    "colab_type": "text",
    "id": "bdVnF4UO0iEW"
   },
   "source": [
    "   (b) Divide the data set into a training set *svmTrain* and a test set *svmTest* and briefly motivate your division      strategy. Include these data sets in the data set zip file you submit. \n",
    "   \n",
    "   Hint: Training the SVMs will take longer for a large training set!"
   ]
  },
  {
   "cell_type": "code",
   "execution_count": 6,
   "metadata": {
    "colab": {
     "base_uri": "https://localhost:8080/",
     "height": 52
    },
    "colab_type": "code",
    "id": "ugbeGtZM0iEX",
    "outputId": "6ea522e4-5817-4d7e-8b13-a1e75863cf35"
   },
   "outputs": [],
   "source": [
    "# Your code:\n",
    "from sklearn.model_selection import train_test_split\n",
    "svmTrain, svmTest, y_svmTrain, y_svmTest = train_test_split(descriptive_features, target_feature, test_size=0.2, stratify=target_feature)\n",
    "#svmTrain_csv = pd.DataFrame(data=svmTrain.flatten())\n",
    "#svmTest_csv = pd.DataFrame(data=svmTest.flatten())\n",
    "svmTrain.to_csv(\"svmTrain.csv\",index=False)\n",
    "svmTest.to_csv(\"svmTest.csv\",index=False)"
   ]
  },
  {
   "cell_type": "markdown",
   "metadata": {
    "colab_type": "text",
    "id": "gAejfQ520iEY"
   },
   "source": [
    "Explanation: in the above sampling method we have chose stratify inorder to ensure a balanced representation for each class.\n"
   ]
  },
  {
   "cell_type": "markdown",
   "metadata": {
    "colab_type": "text",
    "id": "GOoq5FLQ0iEZ"
   },
   "source": [
    "   (c) Use the training set to train 3 different SVMs with different combinations of the parameters. Use at least two distinct values for the parameters *kernel* and *C*."
   ]
  },
  {
   "cell_type": "code",
   "execution_count": 7,
   "metadata": {},
   "outputs": [],
   "source": [
    "svmTrain = svmTrain.sample(n=1000)\n",
    "y_svmTrain = target_feature[svmTrain.index]"
   ]
  },
  {
   "cell_type": "code",
   "execution_count": 9,
   "metadata": {
    "colab": {
     "base_uri": "https://localhost:8080/",
     "height": 179
    },
    "colab_type": "code",
    "id": "ieRhH6U50iEZ",
    "outputId": "7b2763ee-bfd9-4a51-f088-c4d3b3eea5b7"
   },
   "outputs": [
    {
     "name": "stderr",
     "output_type": "stream",
     "text": [
      "C:\\Users\\Eng.Ahmed\\Anaconda3\\lib\\site-packages\\sklearn\\svm\\base.py:193: FutureWarning: The default value of gamma will change from 'auto' to 'scale' in version 0.22 to account better for unscaled features. Set gamma explicitly to 'auto' or 'scale' to avoid this warning.\n",
      "  \"avoid this warning.\", FutureWarning)\n",
      "C:\\Users\\Eng.Ahmed\\Anaconda3\\lib\\site-packages\\sklearn\\svm\\base.py:193: FutureWarning: The default value of gamma will change from 'auto' to 'scale' in version 0.22 to account better for unscaled features. Set gamma explicitly to 'auto' or 'scale' to avoid this warning.\n",
      "  \"avoid this warning.\", FutureWarning)\n"
     ]
    },
    {
     "data": {
      "text/plain": [
       "SVC(C=1, cache_size=200, class_weight=None, coef0=0.0,\n",
       "    decision_function_shape='ovr', degree=3, gamma='auto_deprecated',\n",
       "    kernel='rbf', max_iter=-1, probability=False, random_state=None,\n",
       "    shrinking=True, tol=0.001, verbose=False)"
      ]
     },
     "execution_count": 9,
     "metadata": {},
     "output_type": "execute_result"
    }
   ],
   "source": [
    "from sklearn.svm import SVC\n",
    "\n",
    "#prepare input data\n",
    "features = descriptive_features\n",
    "X = svmTrain\n",
    "y = y_svmTrain\n",
    "\n",
    "Svmclassifier1 = SVC(C=1, kernel='linear')\n",
    "Svmclassifier1.fit(X, y)\n",
    "\n",
    "Svmclassifier2 = SVC(C=2, kernel='poly')\n",
    "Svmclassifier2.fit(X, y)\n",
    "\n",
    "\n",
    "Svmclassifier3 = SVC(C=1, kernel='rbf')\n",
    "Svmclassifier3.fit(X, y)\n"
   ]
  },
  {
   "cell_type": "markdown",
   "metadata": {
    "colab_type": "text",
    "id": "Kt5OEXBU0iEb"
   },
   "source": [
    "   (d) Compute and print the mean accurracy and classification report of the trained SVMs with respect to the test set (as shown in instruction)."
   ]
  },
  {
   "cell_type": "code",
   "execution_count": 10,
   "metadata": {
    "colab": {
     "base_uri": "https://localhost:8080/",
     "height": 979
    },
    "colab_type": "code",
    "id": "FAvdBU3i0iEc",
    "outputId": "dafd6541-8393-4e1a-ba1d-cee03bed376e"
   },
   "outputs": [
    {
     "name": "stdout",
     "output_type": "stream",
     "text": [
      "SVM1 Accuracy: \n",
      " 1.0 \n",
      "\n",
      "SVM2 Accuracy: \n",
      " 1.0 \n",
      "\n",
      "SVM3 Accuracy: \n",
      " 1.0 \n",
      "\n",
      "SVM1 Classification Report: \n",
      "               precision    recall  f1-score   support\n",
      "\n",
      "        high       0.61      0.72      0.66      2446\n",
      "         low       0.65      0.01      0.02      1357\n",
      "      medium       0.32      0.53      0.40      1641\n",
      "   very high       0.00      0.00      0.00       860\n",
      "    very low       0.69      0.88      0.77      2373\n",
      "\n",
      "    accuracy                           0.55      8677\n",
      "   macro avg       0.45      0.43      0.37      8677\n",
      "weighted avg       0.52      0.55      0.48      8677\n",
      " \n",
      "\n"
     ]
    },
    {
     "name": "stderr",
     "output_type": "stream",
     "text": [
      "C:\\Users\\Eng.Ahmed\\Anaconda3\\lib\\site-packages\\sklearn\\metrics\\classification.py:1437: UndefinedMetricWarning: Precision and F-score are ill-defined and being set to 0.0 in labels with no predicted samples.\n",
      "  'precision', 'predicted', average, warn_for)\n"
     ]
    },
    {
     "name": "stdout",
     "output_type": "stream",
     "text": [
      "SVM2 Classification Report: \n",
      "               precision    recall  f1-score   support\n",
      "\n",
      "        high       0.56      0.81      0.66      2446\n",
      "         low       0.48      0.39      0.43      1357\n",
      "      medium       0.48      0.38      0.43      1641\n",
      "   very high       0.58      0.10      0.17       860\n",
      "    very low       0.81      0.87      0.84      2373\n",
      "\n",
      "    accuracy                           0.61      8677\n",
      "   macro avg       0.58      0.51      0.51      8677\n",
      "weighted avg       0.60      0.61      0.58      8677\n",
      " \n",
      "\n",
      "SVM3 Classification Report: \n",
      "               precision    recall  f1-score   support\n",
      "\n",
      "        high       0.56      0.74      0.64      2446\n",
      "         low       0.50      0.40      0.44      1357\n",
      "      medium       0.43      0.41      0.42      1641\n",
      "   very high       0.42      0.14      0.21       860\n",
      "    very low       0.78      0.82      0.80      2373\n",
      "\n",
      "    accuracy                           0.59      8677\n",
      "   macro avg       0.54      0.50      0.50      8677\n",
      "weighted avg       0.57      0.59      0.57      8677\n",
      " \n",
      "\n"
     ]
    }
   ],
   "source": [
    "from sklearn.metrics import classification_report\n",
    "\n",
    "pred1 = Svmclassifier1.predict(svmTest)\n",
    "pred2 = Svmclassifier2.predict(svmTest)\n",
    "pred3 = Svmclassifier3.predict(svmTest)\n",
    "\n",
    "print('SVM1 Accuracy: \\n', Svmclassifier1.score(svmTest,pred1), '\\n')\n",
    "print('SVM2 Accuracy: \\n', Svmclassifier2.score(svmTest,pred2), '\\n')\n",
    "print('SVM3 Accuracy: \\n', Svmclassifier3.score(svmTest,pred3), '\\n')\n",
    "\n",
    "print('SVM1 Classification Report: \\n', classification_report(y_svmTest, pred1), '\\n')\n",
    "print('SVM2 Classification Report: \\n', classification_report(y_svmTest, pred2), '\\n')\n",
    "print('SVM3 Classification Report: \\n', classification_report(y_svmTest, pred3), '\\n')"
   ]
  },
  {
   "cell_type": "markdown",
   "metadata": {
    "colab_type": "text",
    "id": "L8XOQkdr0iEd"
   },
   "source": [
    "   (e) Interpret and evaluate the 3 SVMs and compare them. Why are they similar/different? Which SVM do you recommend and why?"
   ]
  },
  {
   "cell_type": "markdown",
   "metadata": {
    "colab_type": "text",
    "id": "ZiuAVqOs0iEe"
   },
   "source": [
    "**Explanation:** comparing the kernel types of the SVM, as are trying to map from 6 dimensional space to a higher dimensional space as we are trying to seperate the non-linear spearable data in the low dimensional space, thus the kernel type which is linear separate the data in the higher dimensional using a linear hyperplane. While kernel type 'ploynomial' which can fit polynomial hyperplane separating the data in the higher dimensional space, and from the above results we can conclude that the best kernel type which fits our data is the poly kernel as the hyperplane used to separate the classes is of degree N. we would recommend using poly as it is a generalization of the linear model.\n",
    "\n"
   ]
  },
  {
   "cell_type": "markdown",
   "metadata": {
    "colab_type": "text",
    "id": "9rbDxee80iEe"
   },
   "source": [
    "## Question 5 - Neural Networks (20 points)\n",
    "In this question consider the whole dataset that you have created in the *Preprocessing of Dataset* section. The target feature is *population_density_categorical*. \n",
    "\n",
    "To avoid performance problems, use the first 4000 rows of your dataset (you will need 2000 for training and 2000 for testing)."
   ]
  },
  {
   "cell_type": "markdown",
   "metadata": {
    "colab_type": "text",
    "id": "O1fP4j4A0iEf"
   },
   "source": [
    "   (a) What are the possible inputs of your network?\n",
    "     - Show the possible extracted features.\n",
    "     - Show the number of possible patterns of inputs for the categorical data."
   ]
  },
  {
   "cell_type": "code",
   "execution_count": 22,
   "metadata": {
    "colab": {
     "base_uri": "https://localhost:8080/",
     "height": 278
    },
    "colab_type": "code",
    "id": "9ebxUVLq0iEf",
    "outputId": "6abbc961-37e9-472b-8cd1-93720ca3d28f"
   },
   "outputs": [
    {
     "data": {
      "text/html": [
       "<div>\n",
       "<style scoped>\n",
       "    .dataframe tbody tr th:only-of-type {\n",
       "        vertical-align: middle;\n",
       "    }\n",
       "\n",
       "    .dataframe tbody tr th {\n",
       "        vertical-align: top;\n",
       "    }\n",
       "\n",
       "    .dataframe thead th {\n",
       "        text-align: right;\n",
       "    }\n",
       "</style>\n",
       "<table border=\"1\" class=\"dataframe\">\n",
       "  <thead>\n",
       "    <tr style=\"text-align: right;\">\n",
       "      <th></th>\n",
       "      <th>holiday</th>\n",
       "      <th>temperature</th>\n",
       "      <th>rain_1h</th>\n",
       "      <th>snow_1h</th>\n",
       "      <th>clouds_percentage</th>\n",
       "      <th>weather_type</th>\n",
       "      <th>weather_type_details</th>\n",
       "      <th>date_time</th>\n",
       "      <th>population_density</th>\n",
       "      <th>population_density_categorical</th>\n",
       "    </tr>\n",
       "  </thead>\n",
       "  <tbody>\n",
       "    <tr>\n",
       "      <th>0</th>\n",
       "      <td>None</td>\n",
       "      <td>288.28</td>\n",
       "      <td>0.0</td>\n",
       "      <td>0.0</td>\n",
       "      <td>40</td>\n",
       "      <td>Clouds</td>\n",
       "      <td>scattered clouds</td>\n",
       "      <td>10/2/2012 9:00</td>\n",
       "      <td>5545</td>\n",
       "      <td>high</td>\n",
       "    </tr>\n",
       "    <tr>\n",
       "      <th>1</th>\n",
       "      <td>None</td>\n",
       "      <td>289.36</td>\n",
       "      <td>0.0</td>\n",
       "      <td>0.0</td>\n",
       "      <td>75</td>\n",
       "      <td>Clouds</td>\n",
       "      <td>broken clouds</td>\n",
       "      <td>10/2/2012 10:00</td>\n",
       "      <td>4516</td>\n",
       "      <td>high</td>\n",
       "    </tr>\n",
       "    <tr>\n",
       "      <th>2</th>\n",
       "      <td>None</td>\n",
       "      <td>289.58</td>\n",
       "      <td>0.0</td>\n",
       "      <td>0.0</td>\n",
       "      <td>90</td>\n",
       "      <td>Clouds</td>\n",
       "      <td>overcast clouds</td>\n",
       "      <td>10/2/2012 11:00</td>\n",
       "      <td>4767</td>\n",
       "      <td>high</td>\n",
       "    </tr>\n",
       "    <tr>\n",
       "      <th>3</th>\n",
       "      <td>None</td>\n",
       "      <td>290.13</td>\n",
       "      <td>0.0</td>\n",
       "      <td>0.0</td>\n",
       "      <td>90</td>\n",
       "      <td>Clouds</td>\n",
       "      <td>overcast clouds</td>\n",
       "      <td>10/2/2012 12:00</td>\n",
       "      <td>5026</td>\n",
       "      <td>high</td>\n",
       "    </tr>\n",
       "    <tr>\n",
       "      <th>4</th>\n",
       "      <td>None</td>\n",
       "      <td>291.72</td>\n",
       "      <td>0.0</td>\n",
       "      <td>0.0</td>\n",
       "      <td>1</td>\n",
       "      <td>Clear</td>\n",
       "      <td>sky is clear</td>\n",
       "      <td>10/2/2012 14:00</td>\n",
       "      <td>5181</td>\n",
       "      <td>high</td>\n",
       "    </tr>\n",
       "  </tbody>\n",
       "</table>\n",
       "</div>"
      ],
      "text/plain": [
       "  holiday  temperature  ...  population_density  population_density_categorical\n",
       "0    None       288.28  ...                5545                            high\n",
       "1    None       289.36  ...                4516                            high\n",
       "2    None       289.58  ...                4767                            high\n",
       "3    None       290.13  ...                5026                            high\n",
       "4    None       291.72  ...                5181                            high\n",
       "\n",
       "[5 rows x 10 columns]"
      ]
     },
     "execution_count": 22,
     "metadata": {
      "tags": []
     },
     "output_type": "execute_result"
    }
   ],
   "source": [
    "# Your code:\n",
    "df_nn = population_density_categorical_no_outliers[:4000]  # select the first 4000 rows for training/testing.\n",
    "df_nn.head()"
   ]
  },
  {
   "cell_type": "markdown",
   "metadata": {
    "colab_type": "text",
    "id": "SA3kVd1jJtFy"
   },
   "source": [
    "Explanation: Here are the reasons why we drop these below categorical data:\n",
    "\n",
    "*   **holiday**: This is the distribution of holiday throughout the training points and if we include it in training, the network will be always biased toward `None` and we will add big feature spaces without getting the benefit we need.Even if the test data have holidays, the network couldnot recognize it as it is not trained on it.\n",
    "                None                1998\n",
    "                Thanksgiving Day       1\n",
    "                Veterans Day           1\n",
    "              \n",
    "*  **Weather-Type**: I think weather_type_details will give more information with respect to clouds_percentage and temperature however for weather_type it will be vague, as for example Clouds there are multiple levels of `Clouds` that are not specified.\n",
    "\n",
    "while the others will be features for the inputs:\n",
    "\n",
    "1.    **date_time**: it is only reference to the time that the data is collected so it is better to split it into years and months to get some insghits if the population denisty relates to any time of the year or not while for day and hour, in my opinion, do not make any senses because they are just indicators to the time of collecting data and we need the network to be more general not specific to exact day or hour. So, we will extract months and then split it into four 4 quartiles and then do one hot encoding.\n",
    "\n",
    "2.   **Weather-Type-details**: In order to build a robust model, we need some features that could help model in training some specific characteristics of the input. We will do use one integer encoding becuase there is such ordinal relationship exists.\n",
    "\n",
    "3. **population_density_categorical** : Since `population_density_categorical` is an ordinal feature so we can have  integer values that have a natural ordered relationship between each other and neural network algorithms could understand and harness this relationship. \n",
    "\n",
    "\n",
    "\n",
    "\n",
    "**I will do onehot/Integer encoding in part c**\n",
    "\n",
    "\n",
    "\n"
   ]
  },
  {
   "cell_type": "code",
   "execution_count": 23,
   "metadata": {
    "colab": {
     "base_uri": "https://localhost:8080/",
     "height": 300
    },
    "colab_type": "code",
    "id": "avVu8378Khgi",
    "outputId": "c5435e96-11c7-4de8-8bef-f90cad31eebf"
   },
   "outputs": [
    {
     "name": "stderr",
     "output_type": "stream",
     "text": [
      "/usr/local/lib/python3.6/dist-packages/ipykernel_launcher.py:1: SettingWithCopyWarning: \n",
      "A value is trying to be set on a copy of a slice from a DataFrame.\n",
      "Try using .loc[row_indexer,col_indexer] = value instead\n",
      "\n",
      "See the caveats in the documentation: http://pandas.pydata.org/pandas-docs/stable/user_guide/indexing.html#returning-a-view-versus-a-copy\n",
      "  \"\"\"Entry point for launching an IPython kernel.\n"
     ]
    },
    {
     "data": {
      "text/html": [
       "<div>\n",
       "<style scoped>\n",
       "    .dataframe tbody tr th:only-of-type {\n",
       "        vertical-align: middle;\n",
       "    }\n",
       "\n",
       "    .dataframe tbody tr th {\n",
       "        vertical-align: top;\n",
       "    }\n",
       "\n",
       "    .dataframe thead th {\n",
       "        text-align: right;\n",
       "    }\n",
       "</style>\n",
       "<table border=\"1\" class=\"dataframe\">\n",
       "  <thead>\n",
       "    <tr style=\"text-align: right;\">\n",
       "      <th></th>\n",
       "      <th>temperature</th>\n",
       "      <th>rain_1h</th>\n",
       "      <th>snow_1h</th>\n",
       "      <th>clouds_percentage</th>\n",
       "      <th>weather_type_details</th>\n",
       "      <th>population_density_categorical</th>\n",
       "      <th>month</th>\n",
       "    </tr>\n",
       "  </thead>\n",
       "  <tbody>\n",
       "    <tr>\n",
       "      <th>0</th>\n",
       "      <td>288.28</td>\n",
       "      <td>0.0</td>\n",
       "      <td>0.0</td>\n",
       "      <td>40</td>\n",
       "      <td>scattered clouds</td>\n",
       "      <td>high</td>\n",
       "      <td>Autumn</td>\n",
       "    </tr>\n",
       "    <tr>\n",
       "      <th>1</th>\n",
       "      <td>289.36</td>\n",
       "      <td>0.0</td>\n",
       "      <td>0.0</td>\n",
       "      <td>75</td>\n",
       "      <td>broken clouds</td>\n",
       "      <td>high</td>\n",
       "      <td>Autumn</td>\n",
       "    </tr>\n",
       "    <tr>\n",
       "      <th>2</th>\n",
       "      <td>289.58</td>\n",
       "      <td>0.0</td>\n",
       "      <td>0.0</td>\n",
       "      <td>90</td>\n",
       "      <td>overcast clouds</td>\n",
       "      <td>high</td>\n",
       "      <td>Autumn</td>\n",
       "    </tr>\n",
       "    <tr>\n",
       "      <th>3</th>\n",
       "      <td>290.13</td>\n",
       "      <td>0.0</td>\n",
       "      <td>0.0</td>\n",
       "      <td>90</td>\n",
       "      <td>overcast clouds</td>\n",
       "      <td>high</td>\n",
       "      <td>Autumn</td>\n",
       "    </tr>\n",
       "    <tr>\n",
       "      <th>4</th>\n",
       "      <td>291.72</td>\n",
       "      <td>0.0</td>\n",
       "      <td>0.0</td>\n",
       "      <td>1</td>\n",
       "      <td>sky is clear</td>\n",
       "      <td>high</td>\n",
       "      <td>Autumn</td>\n",
       "    </tr>\n",
       "  </tbody>\n",
       "</table>\n",
       "</div>"
      ],
      "text/plain": [
       "   temperature  rain_1h  ...  population_density_categorical   month\n",
       "0       288.28      0.0  ...                            high  Autumn\n",
       "1       289.36      0.0  ...                            high  Autumn\n",
       "2       289.58      0.0  ...                            high  Autumn\n",
       "3       290.13      0.0  ...                            high  Autumn\n",
       "4       291.72      0.0  ...                            high  Autumn\n",
       "\n",
       "[5 rows x 7 columns]"
      ]
     },
     "execution_count": 23,
     "metadata": {
      "tags": []
     },
     "output_type": "execute_result"
    }
   ],
   "source": [
    "# Your code:\n",
    "\n",
    "# Extracting date_time\n",
    "df_nn['month'] = pd.DatetimeIndex(df_nn['date_time']).month\n",
    "\n",
    "# drop un-needed columns\n",
    "df_nn = df_nn.drop(columns=['holiday','date_time','population_density', 'weather_type'])\n",
    "\n",
    "# map months into 4 quartiles.\n",
    "# this quartiles are assumpotion, it is not an exact time\n",
    "df_nn.loc[ df_nn['month'] <= 3, 'month'] = 0\n",
    "df_nn.loc[(df_nn['month'] > 3) & (df_nn['month'] <= 6), 'month'] = 1\n",
    "df_nn.loc[(df_nn['month'] > 6) & (df_nn['month'] <= 9), 'month'] = 2\n",
    "df_nn.loc[(df_nn['month'] > 9) & (df_nn['month'] <= 12), 'month'] = 3\n",
    "\n",
    "\n",
    "month_map = {0: 'Winter', 1: 'Spring', 2:'Summer',3: 'Autumn'}\n",
    "\n",
    "# apply this map on df\n",
    "df_nn['month'] = df_nn['month'].map(month_map)\n",
    "\n",
    "df_nn.head()\n"
   ]
  },
  {
   "cell_type": "markdown",
   "metadata": {
    "colab_type": "text",
    "id": "IJtZE8tR0iEi"
   },
   "source": [
    "   (b) Before using the Neural Network algorithm, do you think it provides an accurate result? Why? \n",
    "     - Your explanation should be supported by data."
   ]
  },
  {
   "cell_type": "markdown",
   "metadata": {
    "colab_type": "text",
    "id": "v3VR3Cmc0iEj"
   },
   "source": [
    "Explanation: **No**. \n",
    "\n",
    "\n",
    "*  Because, as it is required, we need to the **FIRST** train only on 2000 training points without doing any randomized shuffle so it will not give a robust model and these training points do not sufficiently cover all the data features that are given to us as `rain_1h` and `snow_1h` as both are equal to **ZERO** and many other features not covered too. What i am trying to do is to remove all the features that will not make help the model in prediction.\n",
    "*  Neraual network needs such a huge data to be trained on,however, in our problem we have only 2000 training points and these could not in anyway influence the model to be a well trained model while regarding the features, the nerual network could extract the complex relation between them but only if they are suffucient while in our case we will use only 4 features with small number of dataset.\n",
    "\n",
    "* I try to avoid the problem of for high cardinality as the feature space can really blow up quickly and we have to fight with the curse of dimensionality. "
   ]
  },
  {
   "cell_type": "code",
   "execution_count": 24,
   "metadata": {
    "colab": {
     "base_uri": "https://localhost:8080/",
     "height": 388
    },
    "colab_type": "code",
    "id": "8GtSZ9F9MIZ6",
    "outputId": "678f5031-b78a-48b1-c878-dce2c309ee09"
   },
   "outputs": [
    {
     "data": {
      "image/png": "[encoded data removed]",
      "text/plain": [
       "<Figure size 720x360 with 1 Axes>"
      ]
     },
     "metadata": {
      "tags": []
     },
     "output_type": "display_data"
    }
   ],
   "source": [
    "df_nn[:2000].groupby('population_density_categorical')['population_density_categorical'].count().sort_values(ascending=False)\\\n",
    "    .plot(kind='bar', figsize=(10, 5), title='Weather-type-details count')\n",
    "plt.show()\n"
   ]
  },
  {
   "cell_type": "code",
   "execution_count": 25,
   "metadata": {
    "colab": {
     "base_uri": "https://localhost:8080/",
     "height": 778
    },
    "colab_type": "code",
    "id": "Z_K_Dw-q0iEj",
    "outputId": "9fa8bad3-2fbf-4a5b-8c14-7afc6df30e4d"
   },
   "outputs": [
    {
     "data": {
      "image/png": "[encoded data removed]",
      "text/plain": [
       "<Figure size 1440x720 with 1 Axes>"
      ]
     },
     "metadata": {
      "tags": []
     },
     "output_type": "display_data"
    }
   ],
   "source": [
    "# Your code:\n",
    "df_nn.groupby('weather_type_details')['weather_type_details'].count().sort_values(ascending=False)\\\n",
    "    .plot(kind='bar', figsize=(20, 10), title='Weather-type-details count')\n",
    "plt.show()\n"
   ]
  },
  {
   "cell_type": "markdown",
   "metadata": {
    "colab_type": "text",
    "id": "S4_Lt5uxeVaP"
   },
   "source": [
    "* Here, there are one class that contains over 800 points and the nearest ones are around 600 and 8 of the classes far less than 100. We can easily conclude that even we have 2000 points, they don't cover all the classes in a well distributed way so the neural network will either overfit or can not classifiy well, in accuracy perspective."
   ]
  },
  {
   "cell_type": "code",
   "execution_count": 28,
   "metadata": {
    "colab": {
     "base_uri": "https://localhost:8080/",
     "height": 225
    },
    "colab_type": "code",
    "id": "Z2Xya_DzeT36",
    "outputId": "162418aa-5f68-496c-99d5-7f2d0ffb7b5b"
   },
   "outputs": [
    {
     "data": {
      "image/png": "[encoded data removed]",
      "text/plain": [
       "<Figure size 1080x216 with 5 Axes>"
      ]
     },
     "metadata": {
      "tags": []
     },
     "output_type": "display_data"
    }
   ],
   "source": [
    "g = sns.FacetGrid(df_nn, col='population_density_categorical')\n",
    "g.map(plt.hist, 'temperature', bins=20);"
   ]
  },
  {
   "cell_type": "markdown",
   "metadata": {
    "colab_type": "text",
    "id": "auzvcuFVeUPe"
   },
   "source": [
    "* As here, The first graph and the fourth one show that in the same temperature range, the popularity denisty could be 1 & 4 and that is contradicted result."
   ]
  },
  {
   "cell_type": "markdown",
   "metadata": {
    "colab_type": "text",
    "id": "4clmYq_z0iEk"
   },
   "source": [
    "   (c) Which features can be used for designing your network as inputs? Why?\n",
    "       - Which features should be changed (example: from categorical to numerical or numerical to categorical)? Why? \n",
    "       - Convert the features. "
   ]
  },
  {
   "cell_type": "markdown",
   "metadata": {
    "colab_type": "text",
    "id": "1d5ccH-10iEl"
   },
   "source": [
    "Explanation:\n",
    "\n",
    "In general, we need encoding categorical qualtative features into some numerical values because these qualtative values are mostly constraint of the efficient implementation of machine learning algorithms rather than hard limitations on the algorithms themselves.\n"
   ]
  },
  {
   "cell_type": "markdown",
   "metadata": {
    "colab_type": "text",
    "id": "tv6oHY7TOyiS"
   },
   "source": [
    "> Encoding categorical features"
   ]
  },
  {
   "cell_type": "code",
   "execution_count": 29,
   "metadata": {
    "colab": {
     "base_uri": "https://localhost:8080/",
     "height": 194
    },
    "colab_type": "code",
    "id": "r5LCd2QkOvje",
    "outputId": "8954f1b8-a3ee-432c-cbd6-89ec0904be18"
   },
   "outputs": [
    {
     "data": {
      "text/html": [
       "<div>\n",
       "<style scoped>\n",
       "    .dataframe tbody tr th:only-of-type {\n",
       "        vertical-align: middle;\n",
       "    }\n",
       "\n",
       "    .dataframe tbody tr th {\n",
       "        vertical-align: top;\n",
       "    }\n",
       "\n",
       "    .dataframe thead th {\n",
       "        text-align: right;\n",
       "    }\n",
       "</style>\n",
       "<table border=\"1\" class=\"dataframe\">\n",
       "  <thead>\n",
       "    <tr style=\"text-align: right;\">\n",
       "      <th></th>\n",
       "      <th>temperature</th>\n",
       "      <th>rain_1h</th>\n",
       "      <th>snow_1h</th>\n",
       "      <th>clouds_percentage</th>\n",
       "      <th>weather_type_details</th>\n",
       "      <th>population_density_categorical</th>\n",
       "      <th>month</th>\n",
       "    </tr>\n",
       "  </thead>\n",
       "  <tbody>\n",
       "    <tr>\n",
       "      <th>0</th>\n",
       "      <td>288.28</td>\n",
       "      <td>0.0</td>\n",
       "      <td>0.0</td>\n",
       "      <td>40</td>\n",
       "      <td>scattered clouds</td>\n",
       "      <td>4</td>\n",
       "      <td>Autumn</td>\n",
       "    </tr>\n",
       "    <tr>\n",
       "      <th>1</th>\n",
       "      <td>289.36</td>\n",
       "      <td>0.0</td>\n",
       "      <td>0.0</td>\n",
       "      <td>75</td>\n",
       "      <td>broken clouds</td>\n",
       "      <td>4</td>\n",
       "      <td>Autumn</td>\n",
       "    </tr>\n",
       "    <tr>\n",
       "      <th>2</th>\n",
       "      <td>289.58</td>\n",
       "      <td>0.0</td>\n",
       "      <td>0.0</td>\n",
       "      <td>90</td>\n",
       "      <td>overcast clouds</td>\n",
       "      <td>4</td>\n",
       "      <td>Autumn</td>\n",
       "    </tr>\n",
       "    <tr>\n",
       "      <th>3</th>\n",
       "      <td>290.13</td>\n",
       "      <td>0.0</td>\n",
       "      <td>0.0</td>\n",
       "      <td>90</td>\n",
       "      <td>overcast clouds</td>\n",
       "      <td>4</td>\n",
       "      <td>Autumn</td>\n",
       "    </tr>\n",
       "    <tr>\n",
       "      <th>4</th>\n",
       "      <td>291.72</td>\n",
       "      <td>0.0</td>\n",
       "      <td>0.0</td>\n",
       "      <td>1</td>\n",
       "      <td>sky is clear</td>\n",
       "      <td>4</td>\n",
       "      <td>Autumn</td>\n",
       "    </tr>\n",
       "  </tbody>\n",
       "</table>\n",
       "</div>"
      ],
      "text/plain": [
       "   temperature  rain_1h  ...  population_density_categorical   month\n",
       "0       288.28      0.0  ...                               4  Autumn\n",
       "1       289.36      0.0  ...                               4  Autumn\n",
       "2       289.58      0.0  ...                               4  Autumn\n",
       "3       290.13      0.0  ...                               4  Autumn\n",
       "4       291.72      0.0  ...                               4  Autumn\n",
       "\n",
       "[5 rows x 7 columns]"
      ]
     },
     "execution_count": 29,
     "metadata": {
      "tags": []
     },
     "output_type": "execute_result"
    }
   ],
   "source": [
    "# Integer Encoding for population denisty\n",
    "# Create a map.\n",
    "pop_density_cat_ord_map = {'very low': 1, 'low': 2, 'medium': 3, \n",
    "               'high': 4, 'very high': 5}\n",
    "\n",
    "# apply this map on df\n",
    "df_nn['population_density_categorical'] = df_nn['population_density_categorical'].map(pop_density_cat_ord_map)\n",
    "\n",
    "df_nn.head()"
   ]
  },
  {
   "cell_type": "code",
   "execution_count": 30,
   "metadata": {
    "colab": {
     "base_uri": "https://localhost:8080/",
     "height": 194
    },
    "colab_type": "code",
    "id": "FIDVRWFzO2WH",
    "outputId": "5d6bfde6-94b3-4bc5-e8ec-9376042348a3"
   },
   "outputs": [
    {
     "data": {
      "text/html": [
       "<div>\n",
       "<style scoped>\n",
       "    .dataframe tbody tr th:only-of-type {\n",
       "        vertical-align: middle;\n",
       "    }\n",
       "\n",
       "    .dataframe tbody tr th {\n",
       "        vertical-align: top;\n",
       "    }\n",
       "\n",
       "    .dataframe thead th {\n",
       "        text-align: right;\n",
       "    }\n",
       "</style>\n",
       "<table border=\"1\" class=\"dataframe\">\n",
       "  <thead>\n",
       "    <tr style=\"text-align: right;\">\n",
       "      <th></th>\n",
       "      <th>temperature</th>\n",
       "      <th>rain_1h</th>\n",
       "      <th>snow_1h</th>\n",
       "      <th>clouds_percentage</th>\n",
       "      <th>weather_type_details</th>\n",
       "      <th>population_density_categorical</th>\n",
       "      <th>Autumn</th>\n",
       "      <th>Winter</th>\n",
       "    </tr>\n",
       "  </thead>\n",
       "  <tbody>\n",
       "    <tr>\n",
       "      <th>0</th>\n",
       "      <td>288.28</td>\n",
       "      <td>0.0</td>\n",
       "      <td>0.0</td>\n",
       "      <td>40</td>\n",
       "      <td>scattered clouds</td>\n",
       "      <td>4</td>\n",
       "      <td>1</td>\n",
       "      <td>0</td>\n",
       "    </tr>\n",
       "    <tr>\n",
       "      <th>1</th>\n",
       "      <td>289.36</td>\n",
       "      <td>0.0</td>\n",
       "      <td>0.0</td>\n",
       "      <td>75</td>\n",
       "      <td>broken clouds</td>\n",
       "      <td>4</td>\n",
       "      <td>1</td>\n",
       "      <td>0</td>\n",
       "    </tr>\n",
       "    <tr>\n",
       "      <th>2</th>\n",
       "      <td>289.58</td>\n",
       "      <td>0.0</td>\n",
       "      <td>0.0</td>\n",
       "      <td>90</td>\n",
       "      <td>overcast clouds</td>\n",
       "      <td>4</td>\n",
       "      <td>1</td>\n",
       "      <td>0</td>\n",
       "    </tr>\n",
       "    <tr>\n",
       "      <th>3</th>\n",
       "      <td>290.13</td>\n",
       "      <td>0.0</td>\n",
       "      <td>0.0</td>\n",
       "      <td>90</td>\n",
       "      <td>overcast clouds</td>\n",
       "      <td>4</td>\n",
       "      <td>1</td>\n",
       "      <td>0</td>\n",
       "    </tr>\n",
       "    <tr>\n",
       "      <th>4</th>\n",
       "      <td>291.72</td>\n",
       "      <td>0.0</td>\n",
       "      <td>0.0</td>\n",
       "      <td>1</td>\n",
       "      <td>sky is clear</td>\n",
       "      <td>4</td>\n",
       "      <td>1</td>\n",
       "      <td>0</td>\n",
       "    </tr>\n",
       "  </tbody>\n",
       "</table>\n",
       "</div>"
      ],
      "text/plain": [
       "   temperature  rain_1h  ...  Autumn  Winter\n",
       "0       288.28      0.0  ...       1       0\n",
       "1       289.36      0.0  ...       1       0\n",
       "2       289.58      0.0  ...       1       0\n",
       "3       290.13      0.0  ...       1       0\n",
       "4       291.72      0.0  ...       1       0\n",
       "\n",
       "[5 rows x 8 columns]"
      ]
     },
     "execution_count": 30,
     "metadata": {
      "tags": []
     },
     "output_type": "execute_result"
    }
   ],
   "source": [
    "# One hot encoding for months\n",
    "month_encode = pd.get_dummies(df_nn['month'])\n",
    "df_nn[month_encode.columns]=month_encode[month_encode.columns]\n",
    "del df_nn['month'] # delete month column as it is not needed any more.\n",
    "df_nn.head()"
   ]
  },
  {
   "cell_type": "code",
   "execution_count": 31,
   "metadata": {
    "colab": {
     "base_uri": "https://localhost:8080/",
     "height": 248
    },
    "colab_type": "code",
    "id": "EGwjUelDO-R6",
    "outputId": "b15b702a-4dca-42c0-b21a-df22e0cdab54"
   },
   "outputs": [
    {
     "data": {
      "text/html": [
       "<div>\n",
       "<style scoped>\n",
       "    .dataframe tbody tr th:only-of-type {\n",
       "        vertical-align: middle;\n",
       "    }\n",
       "\n",
       "    .dataframe tbody tr th {\n",
       "        vertical-align: top;\n",
       "    }\n",
       "\n",
       "    .dataframe thead th {\n",
       "        text-align: right;\n",
       "    }\n",
       "</style>\n",
       "<table border=\"1\" class=\"dataframe\">\n",
       "  <thead>\n",
       "    <tr style=\"text-align: right;\">\n",
       "      <th></th>\n",
       "      <th>temperature</th>\n",
       "      <th>rain_1h</th>\n",
       "      <th>snow_1h</th>\n",
       "      <th>clouds_percentage</th>\n",
       "      <th>population_density_categorical</th>\n",
       "      <th>Autumn</th>\n",
       "      <th>Winter</th>\n",
       "      <th>broken clouds</th>\n",
       "      <th>drizzle</th>\n",
       "      <th>few clouds</th>\n",
       "      <th>fog</th>\n",
       "      <th>freezing rain</th>\n",
       "      <th>haze</th>\n",
       "      <th>heavy intensity rain</th>\n",
       "      <th>heavy snow</th>\n",
       "      <th>light intensity drizzle</th>\n",
       "      <th>light rain</th>\n",
       "      <th>mist</th>\n",
       "      <th>moderate rain</th>\n",
       "      <th>overcast clouds</th>\n",
       "      <th>proximity shower rain</th>\n",
       "      <th>proximity thunderstorm</th>\n",
       "      <th>proximity thunderstorm with rain</th>\n",
       "      <th>scattered clouds</th>\n",
       "      <th>shower snow</th>\n",
       "      <th>sky is clear</th>\n",
       "      <th>snow</th>\n",
       "      <th>thunderstorm with heavy rain</th>\n",
       "      <th>thunderstorm with light rain</th>\n",
       "    </tr>\n",
       "  </thead>\n",
       "  <tbody>\n",
       "    <tr>\n",
       "      <th>0</th>\n",
       "      <td>288.28</td>\n",
       "      <td>0.0</td>\n",
       "      <td>0.0</td>\n",
       "      <td>40</td>\n",
       "      <td>4</td>\n",
       "      <td>1</td>\n",
       "      <td>0</td>\n",
       "      <td>0</td>\n",
       "      <td>0</td>\n",
       "      <td>0</td>\n",
       "      <td>0</td>\n",
       "      <td>0</td>\n",
       "      <td>0</td>\n",
       "      <td>0</td>\n",
       "      <td>0</td>\n",
       "      <td>0</td>\n",
       "      <td>0</td>\n",
       "      <td>0</td>\n",
       "      <td>0</td>\n",
       "      <td>0</td>\n",
       "      <td>0</td>\n",
       "      <td>0</td>\n",
       "      <td>0</td>\n",
       "      <td>1</td>\n",
       "      <td>0</td>\n",
       "      <td>0</td>\n",
       "      <td>0</td>\n",
       "      <td>0</td>\n",
       "      <td>0</td>\n",
       "    </tr>\n",
       "    <tr>\n",
       "      <th>1</th>\n",
       "      <td>289.36</td>\n",
       "      <td>0.0</td>\n",
       "      <td>0.0</td>\n",
       "      <td>75</td>\n",
       "      <td>4</td>\n",
       "      <td>1</td>\n",
       "      <td>0</td>\n",
       "      <td>1</td>\n",
       "      <td>0</td>\n",
       "      <td>0</td>\n",
       "      <td>0</td>\n",
       "      <td>0</td>\n",
       "      <td>0</td>\n",
       "      <td>0</td>\n",
       "      <td>0</td>\n",
       "      <td>0</td>\n",
       "      <td>0</td>\n",
       "      <td>0</td>\n",
       "      <td>0</td>\n",
       "      <td>0</td>\n",
       "      <td>0</td>\n",
       "      <td>0</td>\n",
       "      <td>0</td>\n",
       "      <td>0</td>\n",
       "      <td>0</td>\n",
       "      <td>0</td>\n",
       "      <td>0</td>\n",
       "      <td>0</td>\n",
       "      <td>0</td>\n",
       "    </tr>\n",
       "    <tr>\n",
       "      <th>2</th>\n",
       "      <td>289.58</td>\n",
       "      <td>0.0</td>\n",
       "      <td>0.0</td>\n",
       "      <td>90</td>\n",
       "      <td>4</td>\n",
       "      <td>1</td>\n",
       "      <td>0</td>\n",
       "      <td>0</td>\n",
       "      <td>0</td>\n",
       "      <td>0</td>\n",
       "      <td>0</td>\n",
       "      <td>0</td>\n",
       "      <td>0</td>\n",
       "      <td>0</td>\n",
       "      <td>0</td>\n",
       "      <td>0</td>\n",
       "      <td>0</td>\n",
       "      <td>0</td>\n",
       "      <td>0</td>\n",
       "      <td>1</td>\n",
       "      <td>0</td>\n",
       "      <td>0</td>\n",
       "      <td>0</td>\n",
       "      <td>0</td>\n",
       "      <td>0</td>\n",
       "      <td>0</td>\n",
       "      <td>0</td>\n",
       "      <td>0</td>\n",
       "      <td>0</td>\n",
       "    </tr>\n",
       "    <tr>\n",
       "      <th>3</th>\n",
       "      <td>290.13</td>\n",
       "      <td>0.0</td>\n",
       "      <td>0.0</td>\n",
       "      <td>90</td>\n",
       "      <td>4</td>\n",
       "      <td>1</td>\n",
       "      <td>0</td>\n",
       "      <td>0</td>\n",
       "      <td>0</td>\n",
       "      <td>0</td>\n",
       "      <td>0</td>\n",
       "      <td>0</td>\n",
       "      <td>0</td>\n",
       "      <td>0</td>\n",
       "      <td>0</td>\n",
       "      <td>0</td>\n",
       "      <td>0</td>\n",
       "      <td>0</td>\n",
       "      <td>0</td>\n",
       "      <td>1</td>\n",
       "      <td>0</td>\n",
       "      <td>0</td>\n",
       "      <td>0</td>\n",
       "      <td>0</td>\n",
       "      <td>0</td>\n",
       "      <td>0</td>\n",
       "      <td>0</td>\n",
       "      <td>0</td>\n",
       "      <td>0</td>\n",
       "    </tr>\n",
       "    <tr>\n",
       "      <th>4</th>\n",
       "      <td>291.72</td>\n",
       "      <td>0.0</td>\n",
       "      <td>0.0</td>\n",
       "      <td>1</td>\n",
       "      <td>4</td>\n",
       "      <td>1</td>\n",
       "      <td>0</td>\n",
       "      <td>0</td>\n",
       "      <td>0</td>\n",
       "      <td>0</td>\n",
       "      <td>0</td>\n",
       "      <td>0</td>\n",
       "      <td>0</td>\n",
       "      <td>0</td>\n",
       "      <td>0</td>\n",
       "      <td>0</td>\n",
       "      <td>0</td>\n",
       "      <td>0</td>\n",
       "      <td>0</td>\n",
       "      <td>0</td>\n",
       "      <td>0</td>\n",
       "      <td>0</td>\n",
       "      <td>0</td>\n",
       "      <td>0</td>\n",
       "      <td>0</td>\n",
       "      <td>1</td>\n",
       "      <td>0</td>\n",
       "      <td>0</td>\n",
       "      <td>0</td>\n",
       "    </tr>\n",
       "  </tbody>\n",
       "</table>\n",
       "</div>"
      ],
      "text/plain": [
       "   temperature  ...  thunderstorm with light rain\n",
       "0       288.28  ...                             0\n",
       "1       289.36  ...                             0\n",
       "2       289.58  ...                             0\n",
       "3       290.13  ...                             0\n",
       "4       291.72  ...                             0\n",
       "\n",
       "[5 rows x 29 columns]"
      ]
     },
     "execution_count": 31,
     "metadata": {
      "tags": []
     },
     "output_type": "execute_result"
    }
   ],
   "source": [
    "# One hot encoding for weather_type_details\n",
    "weather_type_details_encode = pd.get_dummies(df_nn['weather_type_details'])\n",
    "df_nn[weather_type_details_encode.columns]=weather_type_details_encode[weather_type_details_encode.columns] \n",
    "del df_nn['weather_type_details'] #drop the weather_type_details as it is not needed for now.\n",
    "\n",
    "df_nn.head()"
   ]
  },
  {
   "cell_type": "markdown",
   "metadata": {
    "colab_type": "text",
    "id": "oOGLt568PQgT"
   },
   "source": [
    ">  Normalizing Data\n",
    "\n",
    "\n",
    "A target variable with a large spread of values for inputs, in turn, may result in large error gradient values causing weight values to change dramatically, making both the learning process and the model unstable.\n",
    "\n",
    "So, we will normalize temperature, rain_1h, snow_1h, and clouds_percentage. "
   ]
  },
  {
   "cell_type": "code",
   "execution_count": 32,
   "metadata": {
    "colab": {
     "base_uri": "https://localhost:8080/",
     "height": 453
    },
    "colab_type": "code",
    "id": "yetnPt8pPUDb",
    "outputId": "4c3d40cd-8f5d-45a6-ec5a-5239ae1ee20c"
   },
   "outputs": [
    {
     "data": {
      "text/html": [
       "<div>\n",
       "<style scoped>\n",
       "    .dataframe tbody tr th:only-of-type {\n",
       "        vertical-align: middle;\n",
       "    }\n",
       "\n",
       "    .dataframe tbody tr th {\n",
       "        vertical-align: top;\n",
       "    }\n",
       "\n",
       "    .dataframe thead th {\n",
       "        text-align: right;\n",
       "    }\n",
       "</style>\n",
       "<table border=\"1\" class=\"dataframe\">\n",
       "  <thead>\n",
       "    <tr style=\"text-align: right;\">\n",
       "      <th></th>\n",
       "      <th>temperature</th>\n",
       "      <th>rain_1h</th>\n",
       "      <th>snow_1h</th>\n",
       "      <th>clouds_percentage</th>\n",
       "      <th>population_density_categorical</th>\n",
       "      <th>Autumn</th>\n",
       "      <th>Winter</th>\n",
       "      <th>broken clouds</th>\n",
       "      <th>drizzle</th>\n",
       "      <th>few clouds</th>\n",
       "      <th>fog</th>\n",
       "      <th>freezing rain</th>\n",
       "      <th>haze</th>\n",
       "      <th>heavy intensity rain</th>\n",
       "      <th>heavy snow</th>\n",
       "      <th>light intensity drizzle</th>\n",
       "      <th>light rain</th>\n",
       "      <th>mist</th>\n",
       "      <th>moderate rain</th>\n",
       "      <th>overcast clouds</th>\n",
       "      <th>proximity shower rain</th>\n",
       "      <th>proximity thunderstorm</th>\n",
       "      <th>proximity thunderstorm with rain</th>\n",
       "      <th>scattered clouds</th>\n",
       "      <th>shower snow</th>\n",
       "      <th>sky is clear</th>\n",
       "      <th>snow</th>\n",
       "      <th>thunderstorm with heavy rain</th>\n",
       "      <th>thunderstorm with light rain</th>\n",
       "    </tr>\n",
       "  </thead>\n",
       "  <tbody>\n",
       "    <tr>\n",
       "      <th>0</th>\n",
       "      <td>0.814620</td>\n",
       "      <td>0.0</td>\n",
       "      <td>0.0</td>\n",
       "      <td>0.40</td>\n",
       "      <td>4</td>\n",
       "      <td>1</td>\n",
       "      <td>0</td>\n",
       "      <td>0</td>\n",
       "      <td>0</td>\n",
       "      <td>0</td>\n",
       "      <td>0</td>\n",
       "      <td>0</td>\n",
       "      <td>0</td>\n",
       "      <td>0</td>\n",
       "      <td>0</td>\n",
       "      <td>0</td>\n",
       "      <td>0</td>\n",
       "      <td>0</td>\n",
       "      <td>0</td>\n",
       "      <td>0</td>\n",
       "      <td>0</td>\n",
       "      <td>0</td>\n",
       "      <td>0</td>\n",
       "      <td>1</td>\n",
       "      <td>0</td>\n",
       "      <td>0</td>\n",
       "      <td>0</td>\n",
       "      <td>0</td>\n",
       "      <td>0</td>\n",
       "    </tr>\n",
       "    <tr>\n",
       "      <th>1</th>\n",
       "      <td>0.834864</td>\n",
       "      <td>0.0</td>\n",
       "      <td>0.0</td>\n",
       "      <td>0.75</td>\n",
       "      <td>4</td>\n",
       "      <td>1</td>\n",
       "      <td>0</td>\n",
       "      <td>1</td>\n",
       "      <td>0</td>\n",
       "      <td>0</td>\n",
       "      <td>0</td>\n",
       "      <td>0</td>\n",
       "      <td>0</td>\n",
       "      <td>0</td>\n",
       "      <td>0</td>\n",
       "      <td>0</td>\n",
       "      <td>0</td>\n",
       "      <td>0</td>\n",
       "      <td>0</td>\n",
       "      <td>0</td>\n",
       "      <td>0</td>\n",
       "      <td>0</td>\n",
       "      <td>0</td>\n",
       "      <td>0</td>\n",
       "      <td>0</td>\n",
       "      <td>0</td>\n",
       "      <td>0</td>\n",
       "      <td>0</td>\n",
       "      <td>0</td>\n",
       "    </tr>\n",
       "    <tr>\n",
       "      <th>2</th>\n",
       "      <td>0.838988</td>\n",
       "      <td>0.0</td>\n",
       "      <td>0.0</td>\n",
       "      <td>0.90</td>\n",
       "      <td>4</td>\n",
       "      <td>1</td>\n",
       "      <td>0</td>\n",
       "      <td>0</td>\n",
       "      <td>0</td>\n",
       "      <td>0</td>\n",
       "      <td>0</td>\n",
       "      <td>0</td>\n",
       "      <td>0</td>\n",
       "      <td>0</td>\n",
       "      <td>0</td>\n",
       "      <td>0</td>\n",
       "      <td>0</td>\n",
       "      <td>0</td>\n",
       "      <td>0</td>\n",
       "      <td>1</td>\n",
       "      <td>0</td>\n",
       "      <td>0</td>\n",
       "      <td>0</td>\n",
       "      <td>0</td>\n",
       "      <td>0</td>\n",
       "      <td>0</td>\n",
       "      <td>0</td>\n",
       "      <td>0</td>\n",
       "      <td>0</td>\n",
       "    </tr>\n",
       "    <tr>\n",
       "      <th>3</th>\n",
       "      <td>0.849297</td>\n",
       "      <td>0.0</td>\n",
       "      <td>0.0</td>\n",
       "      <td>0.90</td>\n",
       "      <td>4</td>\n",
       "      <td>1</td>\n",
       "      <td>0</td>\n",
       "      <td>0</td>\n",
       "      <td>0</td>\n",
       "      <td>0</td>\n",
       "      <td>0</td>\n",
       "      <td>0</td>\n",
       "      <td>0</td>\n",
       "      <td>0</td>\n",
       "      <td>0</td>\n",
       "      <td>0</td>\n",
       "      <td>0</td>\n",
       "      <td>0</td>\n",
       "      <td>0</td>\n",
       "      <td>1</td>\n",
       "      <td>0</td>\n",
       "      <td>0</td>\n",
       "      <td>0</td>\n",
       "      <td>0</td>\n",
       "      <td>0</td>\n",
       "      <td>0</td>\n",
       "      <td>0</td>\n",
       "      <td>0</td>\n",
       "      <td>0</td>\n",
       "    </tr>\n",
       "    <tr>\n",
       "      <th>4</th>\n",
       "      <td>0.879100</td>\n",
       "      <td>0.0</td>\n",
       "      <td>0.0</td>\n",
       "      <td>0.01</td>\n",
       "      <td>4</td>\n",
       "      <td>1</td>\n",
       "      <td>0</td>\n",
       "      <td>0</td>\n",
       "      <td>0</td>\n",
       "      <td>0</td>\n",
       "      <td>0</td>\n",
       "      <td>0</td>\n",
       "      <td>0</td>\n",
       "      <td>0</td>\n",
       "      <td>0</td>\n",
       "      <td>0</td>\n",
       "      <td>0</td>\n",
       "      <td>0</td>\n",
       "      <td>0</td>\n",
       "      <td>0</td>\n",
       "      <td>0</td>\n",
       "      <td>0</td>\n",
       "      <td>0</td>\n",
       "      <td>0</td>\n",
       "      <td>0</td>\n",
       "      <td>1</td>\n",
       "      <td>0</td>\n",
       "      <td>0</td>\n",
       "      <td>0</td>\n",
       "    </tr>\n",
       "    <tr>\n",
       "      <th>...</th>\n",
       "      <td>...</td>\n",
       "      <td>...</td>\n",
       "      <td>...</td>\n",
       "      <td>...</td>\n",
       "      <td>...</td>\n",
       "      <td>...</td>\n",
       "      <td>...</td>\n",
       "      <td>...</td>\n",
       "      <td>...</td>\n",
       "      <td>...</td>\n",
       "      <td>...</td>\n",
       "      <td>...</td>\n",
       "      <td>...</td>\n",
       "      <td>...</td>\n",
       "      <td>...</td>\n",
       "      <td>...</td>\n",
       "      <td>...</td>\n",
       "      <td>...</td>\n",
       "      <td>...</td>\n",
       "      <td>...</td>\n",
       "      <td>...</td>\n",
       "      <td>...</td>\n",
       "      <td>...</td>\n",
       "      <td>...</td>\n",
       "      <td>...</td>\n",
       "      <td>...</td>\n",
       "      <td>...</td>\n",
       "      <td>...</td>\n",
       "      <td>...</td>\n",
       "    </tr>\n",
       "    <tr>\n",
       "      <th>3995</th>\n",
       "      <td>0.328772</td>\n",
       "      <td>0.0</td>\n",
       "      <td>0.0</td>\n",
       "      <td>0.01</td>\n",
       "      <td>4</td>\n",
       "      <td>0</td>\n",
       "      <td>1</td>\n",
       "      <td>0</td>\n",
       "      <td>0</td>\n",
       "      <td>0</td>\n",
       "      <td>0</td>\n",
       "      <td>0</td>\n",
       "      <td>0</td>\n",
       "      <td>0</td>\n",
       "      <td>1</td>\n",
       "      <td>0</td>\n",
       "      <td>0</td>\n",
       "      <td>0</td>\n",
       "      <td>0</td>\n",
       "      <td>0</td>\n",
       "      <td>0</td>\n",
       "      <td>0</td>\n",
       "      <td>0</td>\n",
       "      <td>0</td>\n",
       "      <td>0</td>\n",
       "      <td>0</td>\n",
       "      <td>0</td>\n",
       "      <td>0</td>\n",
       "      <td>0</td>\n",
       "    </tr>\n",
       "    <tr>\n",
       "      <th>3996</th>\n",
       "      <td>0.352765</td>\n",
       "      <td>0.0</td>\n",
       "      <td>0.0</td>\n",
       "      <td>0.01</td>\n",
       "      <td>4</td>\n",
       "      <td>0</td>\n",
       "      <td>1</td>\n",
       "      <td>0</td>\n",
       "      <td>0</td>\n",
       "      <td>0</td>\n",
       "      <td>0</td>\n",
       "      <td>0</td>\n",
       "      <td>0</td>\n",
       "      <td>0</td>\n",
       "      <td>1</td>\n",
       "      <td>0</td>\n",
       "      <td>0</td>\n",
       "      <td>0</td>\n",
       "      <td>0</td>\n",
       "      <td>0</td>\n",
       "      <td>0</td>\n",
       "      <td>0</td>\n",
       "      <td>0</td>\n",
       "      <td>0</td>\n",
       "      <td>0</td>\n",
       "      <td>0</td>\n",
       "      <td>0</td>\n",
       "      <td>0</td>\n",
       "      <td>0</td>\n",
       "    </tr>\n",
       "    <tr>\n",
       "      <th>3997</th>\n",
       "      <td>0.374321</td>\n",
       "      <td>0.0</td>\n",
       "      <td>0.0</td>\n",
       "      <td>0.01</td>\n",
       "      <td>4</td>\n",
       "      <td>0</td>\n",
       "      <td>1</td>\n",
       "      <td>0</td>\n",
       "      <td>0</td>\n",
       "      <td>0</td>\n",
       "      <td>0</td>\n",
       "      <td>0</td>\n",
       "      <td>1</td>\n",
       "      <td>0</td>\n",
       "      <td>0</td>\n",
       "      <td>0</td>\n",
       "      <td>0</td>\n",
       "      <td>0</td>\n",
       "      <td>0</td>\n",
       "      <td>0</td>\n",
       "      <td>0</td>\n",
       "      <td>0</td>\n",
       "      <td>0</td>\n",
       "      <td>0</td>\n",
       "      <td>0</td>\n",
       "      <td>0</td>\n",
       "      <td>0</td>\n",
       "      <td>0</td>\n",
       "      <td>0</td>\n",
       "    </tr>\n",
       "    <tr>\n",
       "      <th>3998</th>\n",
       "      <td>0.396439</td>\n",
       "      <td>0.0</td>\n",
       "      <td>0.0</td>\n",
       "      <td>0.01</td>\n",
       "      <td>4</td>\n",
       "      <td>0</td>\n",
       "      <td>1</td>\n",
       "      <td>0</td>\n",
       "      <td>0</td>\n",
       "      <td>0</td>\n",
       "      <td>0</td>\n",
       "      <td>0</td>\n",
       "      <td>0</td>\n",
       "      <td>0</td>\n",
       "      <td>0</td>\n",
       "      <td>0</td>\n",
       "      <td>0</td>\n",
       "      <td>0</td>\n",
       "      <td>0</td>\n",
       "      <td>0</td>\n",
       "      <td>0</td>\n",
       "      <td>0</td>\n",
       "      <td>0</td>\n",
       "      <td>0</td>\n",
       "      <td>0</td>\n",
       "      <td>1</td>\n",
       "      <td>0</td>\n",
       "      <td>0</td>\n",
       "      <td>0</td>\n",
       "    </tr>\n",
       "    <tr>\n",
       "      <th>3999</th>\n",
       "      <td>0.404499</td>\n",
       "      <td>0.0</td>\n",
       "      <td>0.0</td>\n",
       "      <td>0.01</td>\n",
       "      <td>5</td>\n",
       "      <td>0</td>\n",
       "      <td>1</td>\n",
       "      <td>0</td>\n",
       "      <td>0</td>\n",
       "      <td>0</td>\n",
       "      <td>0</td>\n",
       "      <td>0</td>\n",
       "      <td>0</td>\n",
       "      <td>0</td>\n",
       "      <td>1</td>\n",
       "      <td>0</td>\n",
       "      <td>0</td>\n",
       "      <td>0</td>\n",
       "      <td>0</td>\n",
       "      <td>0</td>\n",
       "      <td>0</td>\n",
       "      <td>0</td>\n",
       "      <td>0</td>\n",
       "      <td>0</td>\n",
       "      <td>0</td>\n",
       "      <td>0</td>\n",
       "      <td>0</td>\n",
       "      <td>0</td>\n",
       "      <td>0</td>\n",
       "    </tr>\n",
       "  </tbody>\n",
       "</table>\n",
       "<p>4000 rows × 29 columns</p>\n",
       "</div>"
      ],
      "text/plain": [
       "      temperature  ...  thunderstorm with light rain\n",
       "0        0.814620  ...                             0\n",
       "1        0.834864  ...                             0\n",
       "2        0.838988  ...                             0\n",
       "3        0.849297  ...                             0\n",
       "4        0.879100  ...                             0\n",
       "...           ...  ...                           ...\n",
       "3995     0.328772  ...                             0\n",
       "3996     0.352765  ...                             0\n",
       "3997     0.374321  ...                             0\n",
       "3998     0.396439  ...                             0\n",
       "3999     0.404499  ...                             0\n",
       "\n",
       "[4000 rows x 29 columns]"
      ]
     },
     "execution_count": 32,
     "metadata": {
      "tags": []
     },
     "output_type": "execute_result"
    }
   ],
   "source": [
    "from sklearn import preprocessing\n",
    "x_nn = df_nn\n",
    "# Why do we do drop to rain\n",
    "min_max_scaler = preprocessing.MinMaxScaler() # class for normalizing\n",
    "df_nn[['temperature','rain_1h' ,'snow_1h' , 'clouds_percentage'] ] = min_max_scaler.fit_transform(df_nn[['temperature','rain_1h' ,'snow_1h' , 'clouds_percentage'] ])\n",
    "df_nn"
   ]
  },
  {
   "cell_type": "markdown",
   "metadata": {
    "colab_type": "text",
    "id": "6zjwYuiNPldz"
   },
   "source": [
    " Both **rain_1** and **snowh_1**: becuase both of them for the 2000 training points are all equal to zeros and that do not affect neural network learning."
   ]
  },
  {
   "cell_type": "code",
   "execution_count": 33,
   "metadata": {
    "colab": {
     "base_uri": "https://localhost:8080/",
     "height": 35
    },
    "colab_type": "code",
    "id": "u6M5rjDJPnsx",
    "outputId": "ee04b1d1-a6c6-4827-f8e7-f0ec8d9c7758"
   },
   "outputs": [
    {
     "data": {
      "text/plain": [
       "(array([0.]), array([0.]))"
      ]
     },
     "execution_count": 33,
     "metadata": {
      "tags": []
     },
     "output_type": "execute_result"
    }
   ],
   "source": [
    "df_nn['rain_1h'].unique(),df_nn['snow_1h'].unique()"
   ]
  },
  {
   "cell_type": "code",
   "execution_count": 34,
   "metadata": {
    "colab": {
     "base_uri": "https://localhost:8080/",
     "height": 177
    },
    "colab_type": "code",
    "id": "utCMuj-IPtQ9",
    "outputId": "180eb9de-58b9-41ce-a521-05be122bebef"
   },
   "outputs": [
    {
     "name": "stdout",
     "output_type": "stream",
     "text": [
      "27 columns will shape our network which are Index(['temperature', 'clouds_percentage', 'population_density_categorical',\n",
      "       'Autumn', 'Winter', 'broken clouds', 'drizzle', 'few clouds', 'fog',\n",
      "       'freezing rain', 'haze', 'heavy intensity rain', 'heavy snow',\n",
      "       'light intensity drizzle', 'light rain', 'mist', 'moderate rain',\n",
      "       'overcast clouds', 'proximity shower rain', 'proximity thunderstorm',\n",
      "       'proximity thunderstorm with rain', 'scattered clouds', 'shower snow',\n",
      "       'sky is clear', 'snow', 'thunderstorm with heavy rain',\n",
      "       'thunderstorm with light rain'],\n",
      "      dtype='object')\n"
     ]
    }
   ],
   "source": [
    "df_nn = df_nn.drop(columns=['rain_1h','snow_1h'])\n",
    "\n",
    "print('{} columns will shape our network which are {}'.format(len(df_nn.columns),df_nn.columns))"
   ]
  },
  {
   "cell_type": "code",
   "execution_count": 35,
   "metadata": {
    "colab": {
     "base_uri": "https://localhost:8080/",
     "height": 248
    },
    "colab_type": "code",
    "id": "kHqq6J2FPvlr",
    "outputId": "bb0bfebc-9f88-481f-8145-369dae32492a"
   },
   "outputs": [
    {
     "data": {
      "text/html": [
       "<div>\n",
       "<style scoped>\n",
       "    .dataframe tbody tr th:only-of-type {\n",
       "        vertical-align: middle;\n",
       "    }\n",
       "\n",
       "    .dataframe tbody tr th {\n",
       "        vertical-align: top;\n",
       "    }\n",
       "\n",
       "    .dataframe thead th {\n",
       "        text-align: right;\n",
       "    }\n",
       "</style>\n",
       "<table border=\"1\" class=\"dataframe\">\n",
       "  <thead>\n",
       "    <tr style=\"text-align: right;\">\n",
       "      <th></th>\n",
       "      <th>temperature</th>\n",
       "      <th>clouds_percentage</th>\n",
       "      <th>population_density_categorical</th>\n",
       "      <th>Autumn</th>\n",
       "      <th>Winter</th>\n",
       "      <th>broken clouds</th>\n",
       "      <th>drizzle</th>\n",
       "      <th>few clouds</th>\n",
       "      <th>fog</th>\n",
       "      <th>freezing rain</th>\n",
       "      <th>haze</th>\n",
       "      <th>heavy intensity rain</th>\n",
       "      <th>heavy snow</th>\n",
       "      <th>light intensity drizzle</th>\n",
       "      <th>light rain</th>\n",
       "      <th>mist</th>\n",
       "      <th>moderate rain</th>\n",
       "      <th>overcast clouds</th>\n",
       "      <th>proximity shower rain</th>\n",
       "      <th>proximity thunderstorm</th>\n",
       "      <th>proximity thunderstorm with rain</th>\n",
       "      <th>scattered clouds</th>\n",
       "      <th>shower snow</th>\n",
       "      <th>sky is clear</th>\n",
       "      <th>snow</th>\n",
       "      <th>thunderstorm with heavy rain</th>\n",
       "      <th>thunderstorm with light rain</th>\n",
       "    </tr>\n",
       "  </thead>\n",
       "  <tbody>\n",
       "    <tr>\n",
       "      <th>0</th>\n",
       "      <td>0.814620</td>\n",
       "      <td>0.40</td>\n",
       "      <td>4</td>\n",
       "      <td>1</td>\n",
       "      <td>0</td>\n",
       "      <td>0</td>\n",
       "      <td>0</td>\n",
       "      <td>0</td>\n",
       "      <td>0</td>\n",
       "      <td>0</td>\n",
       "      <td>0</td>\n",
       "      <td>0</td>\n",
       "      <td>0</td>\n",
       "      <td>0</td>\n",
       "      <td>0</td>\n",
       "      <td>0</td>\n",
       "      <td>0</td>\n",
       "      <td>0</td>\n",
       "      <td>0</td>\n",
       "      <td>0</td>\n",
       "      <td>0</td>\n",
       "      <td>1</td>\n",
       "      <td>0</td>\n",
       "      <td>0</td>\n",
       "      <td>0</td>\n",
       "      <td>0</td>\n",
       "      <td>0</td>\n",
       "    </tr>\n",
       "    <tr>\n",
       "      <th>1</th>\n",
       "      <td>0.834864</td>\n",
       "      <td>0.75</td>\n",
       "      <td>4</td>\n",
       "      <td>1</td>\n",
       "      <td>0</td>\n",
       "      <td>1</td>\n",
       "      <td>0</td>\n",
       "      <td>0</td>\n",
       "      <td>0</td>\n",
       "      <td>0</td>\n",
       "      <td>0</td>\n",
       "      <td>0</td>\n",
       "      <td>0</td>\n",
       "      <td>0</td>\n",
       "      <td>0</td>\n",
       "      <td>0</td>\n",
       "      <td>0</td>\n",
       "      <td>0</td>\n",
       "      <td>0</td>\n",
       "      <td>0</td>\n",
       "      <td>0</td>\n",
       "      <td>0</td>\n",
       "      <td>0</td>\n",
       "      <td>0</td>\n",
       "      <td>0</td>\n",
       "      <td>0</td>\n",
       "      <td>0</td>\n",
       "    </tr>\n",
       "    <tr>\n",
       "      <th>2</th>\n",
       "      <td>0.838988</td>\n",
       "      <td>0.90</td>\n",
       "      <td>4</td>\n",
       "      <td>1</td>\n",
       "      <td>0</td>\n",
       "      <td>0</td>\n",
       "      <td>0</td>\n",
       "      <td>0</td>\n",
       "      <td>0</td>\n",
       "      <td>0</td>\n",
       "      <td>0</td>\n",
       "      <td>0</td>\n",
       "      <td>0</td>\n",
       "      <td>0</td>\n",
       "      <td>0</td>\n",
       "      <td>0</td>\n",
       "      <td>0</td>\n",
       "      <td>1</td>\n",
       "      <td>0</td>\n",
       "      <td>0</td>\n",
       "      <td>0</td>\n",
       "      <td>0</td>\n",
       "      <td>0</td>\n",
       "      <td>0</td>\n",
       "      <td>0</td>\n",
       "      <td>0</td>\n",
       "      <td>0</td>\n",
       "    </tr>\n",
       "    <tr>\n",
       "      <th>3</th>\n",
       "      <td>0.849297</td>\n",
       "      <td>0.90</td>\n",
       "      <td>4</td>\n",
       "      <td>1</td>\n",
       "      <td>0</td>\n",
       "      <td>0</td>\n",
       "      <td>0</td>\n",
       "      <td>0</td>\n",
       "      <td>0</td>\n",
       "      <td>0</td>\n",
       "      <td>0</td>\n",
       "      <td>0</td>\n",
       "      <td>0</td>\n",
       "      <td>0</td>\n",
       "      <td>0</td>\n",
       "      <td>0</td>\n",
       "      <td>0</td>\n",
       "      <td>1</td>\n",
       "      <td>0</td>\n",
       "      <td>0</td>\n",
       "      <td>0</td>\n",
       "      <td>0</td>\n",
       "      <td>0</td>\n",
       "      <td>0</td>\n",
       "      <td>0</td>\n",
       "      <td>0</td>\n",
       "      <td>0</td>\n",
       "    </tr>\n",
       "    <tr>\n",
       "      <th>4</th>\n",
       "      <td>0.879100</td>\n",
       "      <td>0.01</td>\n",
       "      <td>4</td>\n",
       "      <td>1</td>\n",
       "      <td>0</td>\n",
       "      <td>0</td>\n",
       "      <td>0</td>\n",
       "      <td>0</td>\n",
       "      <td>0</td>\n",
       "      <td>0</td>\n",
       "      <td>0</td>\n",
       "      <td>0</td>\n",
       "      <td>0</td>\n",
       "      <td>0</td>\n",
       "      <td>0</td>\n",
       "      <td>0</td>\n",
       "      <td>0</td>\n",
       "      <td>0</td>\n",
       "      <td>0</td>\n",
       "      <td>0</td>\n",
       "      <td>0</td>\n",
       "      <td>0</td>\n",
       "      <td>0</td>\n",
       "      <td>1</td>\n",
       "      <td>0</td>\n",
       "      <td>0</td>\n",
       "      <td>0</td>\n",
       "    </tr>\n",
       "  </tbody>\n",
       "</table>\n",
       "</div>"
      ],
      "text/plain": [
       "   temperature  ...  thunderstorm with light rain\n",
       "0     0.814620  ...                             0\n",
       "1     0.834864  ...                             0\n",
       "2     0.838988  ...                             0\n",
       "3     0.849297  ...                             0\n",
       "4     0.879100  ...                             0\n",
       "\n",
       "[5 rows x 27 columns]"
      ]
     },
     "execution_count": 35,
     "metadata": {
      "tags": []
     },
     "output_type": "execute_result"
    }
   ],
   "source": [
    "# The final \n",
    "df_nn.head()"
   ]
  },
  {
   "cell_type": "markdown",
   "metadata": {
    "colab_type": "text",
    "id": "4fkDMfxZ0iEn"
   },
   "source": [
    "   (d) Train your network with default hyperparameters and return the parameters."
   ]
  },
  {
   "cell_type": "code",
   "execution_count": 0,
   "metadata": {
    "colab": {},
    "colab_type": "code",
    "id": "6yHenKSkO1a2"
   },
   "outputs": [],
   "source": [
    "# Now it is time to split data into training and testing examples\n",
    "\n",
    "import pandas as pd\n",
    "from sklearn.neural_network import MLPClassifier\n",
    "from sklearn.model_selection import train_test_split\n",
    "\n",
    "# extract population_density_categorical as to be our target value\n",
    "Y = df_nn['population_density_categorical']\n",
    "X = df_nn.drop(columns=['population_density_categorical']) #X will be all other features."
   ]
  },
  {
   "cell_type": "code",
   "execution_count": 0,
   "metadata": {
    "colab": {},
    "colab_type": "code",
    "id": "zbvTNMajkDGT"
   },
   "outputs": [],
   "source": [
    "# This replaces the order of columns as this order acheieves \n",
    "# the best accuracy i could reach.\n",
    "new_order = ['overcast clouds',\n",
    " 'broken clouds',\n",
    " 'Autumn',\n",
    " 'heavy intensity rain',\n",
    " 'light intensity drizzle',\n",
    " 'thunderstorm with light rain',\n",
    " 'scattered clouds',\n",
    " 'mist',\n",
    " 'Winter',\n",
    " 'heavy snow',\n",
    " 'light rain',\n",
    " 'sky is clear',\n",
    " 'snow',\n",
    " 'haze',\n",
    " 'temperature',\n",
    " 'moderate rain',\n",
    " 'few clouds',\n",
    " 'shower snow',\n",
    " 'thunderstorm with heavy rain',\n",
    " 'proximity thunderstorm with rain',\n",
    " 'drizzle',\n",
    " 'clouds_percentage',\n",
    " 'proximity thunderstorm',\n",
    " 'proximity shower rain',\n",
    " 'freezing rain',\n",
    " 'fog']"
   ]
  },
  {
   "cell_type": "code",
   "execution_count": 38,
   "metadata": {
    "colab": {
     "base_uri": "https://localhost:8080/",
     "height": 248
    },
    "colab_type": "code",
    "id": "JuKcP_dxkXW8",
    "outputId": "536ad453-9b9b-49f9-d2d2-55336cb628b5"
   },
   "outputs": [
    {
     "data": {
      "text/html": [
       "<div>\n",
       "<style scoped>\n",
       "    .dataframe tbody tr th:only-of-type {\n",
       "        vertical-align: middle;\n",
       "    }\n",
       "\n",
       "    .dataframe tbody tr th {\n",
       "        vertical-align: top;\n",
       "    }\n",
       "\n",
       "    .dataframe thead th {\n",
       "        text-align: right;\n",
       "    }\n",
       "</style>\n",
       "<table border=\"1\" class=\"dataframe\">\n",
       "  <thead>\n",
       "    <tr style=\"text-align: right;\">\n",
       "      <th></th>\n",
       "      <th>overcast clouds</th>\n",
       "      <th>broken clouds</th>\n",
       "      <th>Autumn</th>\n",
       "      <th>heavy intensity rain</th>\n",
       "      <th>light intensity drizzle</th>\n",
       "      <th>thunderstorm with light rain</th>\n",
       "      <th>scattered clouds</th>\n",
       "      <th>mist</th>\n",
       "      <th>Winter</th>\n",
       "      <th>heavy snow</th>\n",
       "      <th>light rain</th>\n",
       "      <th>sky is clear</th>\n",
       "      <th>snow</th>\n",
       "      <th>haze</th>\n",
       "      <th>temperature</th>\n",
       "      <th>moderate rain</th>\n",
       "      <th>few clouds</th>\n",
       "      <th>shower snow</th>\n",
       "      <th>thunderstorm with heavy rain</th>\n",
       "      <th>proximity thunderstorm with rain</th>\n",
       "      <th>drizzle</th>\n",
       "      <th>clouds_percentage</th>\n",
       "      <th>proximity thunderstorm</th>\n",
       "      <th>proximity shower rain</th>\n",
       "      <th>freezing rain</th>\n",
       "      <th>fog</th>\n",
       "    </tr>\n",
       "  </thead>\n",
       "  <tbody>\n",
       "    <tr>\n",
       "      <th>0</th>\n",
       "      <td>0</td>\n",
       "      <td>0</td>\n",
       "      <td>1</td>\n",
       "      <td>0</td>\n",
       "      <td>0</td>\n",
       "      <td>0</td>\n",
       "      <td>1</td>\n",
       "      <td>0</td>\n",
       "      <td>0</td>\n",
       "      <td>0</td>\n",
       "      <td>0</td>\n",
       "      <td>0</td>\n",
       "      <td>0</td>\n",
       "      <td>0</td>\n",
       "      <td>0.814620</td>\n",
       "      <td>0</td>\n",
       "      <td>0</td>\n",
       "      <td>0</td>\n",
       "      <td>0</td>\n",
       "      <td>0</td>\n",
       "      <td>0</td>\n",
       "      <td>0.40</td>\n",
       "      <td>0</td>\n",
       "      <td>0</td>\n",
       "      <td>0</td>\n",
       "      <td>0</td>\n",
       "    </tr>\n",
       "    <tr>\n",
       "      <th>1</th>\n",
       "      <td>0</td>\n",
       "      <td>1</td>\n",
       "      <td>1</td>\n",
       "      <td>0</td>\n",
       "      <td>0</td>\n",
       "      <td>0</td>\n",
       "      <td>0</td>\n",
       "      <td>0</td>\n",
       "      <td>0</td>\n",
       "      <td>0</td>\n",
       "      <td>0</td>\n",
       "      <td>0</td>\n",
       "      <td>0</td>\n",
       "      <td>0</td>\n",
       "      <td>0.834864</td>\n",
       "      <td>0</td>\n",
       "      <td>0</td>\n",
       "      <td>0</td>\n",
       "      <td>0</td>\n",
       "      <td>0</td>\n",
       "      <td>0</td>\n",
       "      <td>0.75</td>\n",
       "      <td>0</td>\n",
       "      <td>0</td>\n",
       "      <td>0</td>\n",
       "      <td>0</td>\n",
       "    </tr>\n",
       "    <tr>\n",
       "      <th>2</th>\n",
       "      <td>1</td>\n",
       "      <td>0</td>\n",
       "      <td>1</td>\n",
       "      <td>0</td>\n",
       "      <td>0</td>\n",
       "      <td>0</td>\n",
       "      <td>0</td>\n",
       "      <td>0</td>\n",
       "      <td>0</td>\n",
       "      <td>0</td>\n",
       "      <td>0</td>\n",
       "      <td>0</td>\n",
       "      <td>0</td>\n",
       "      <td>0</td>\n",
       "      <td>0.838988</td>\n",
       "      <td>0</td>\n",
       "      <td>0</td>\n",
       "      <td>0</td>\n",
       "      <td>0</td>\n",
       "      <td>0</td>\n",
       "      <td>0</td>\n",
       "      <td>0.90</td>\n",
       "      <td>0</td>\n",
       "      <td>0</td>\n",
       "      <td>0</td>\n",
       "      <td>0</td>\n",
       "    </tr>\n",
       "    <tr>\n",
       "      <th>3</th>\n",
       "      <td>1</td>\n",
       "      <td>0</td>\n",
       "      <td>1</td>\n",
       "      <td>0</td>\n",
       "      <td>0</td>\n",
       "      <td>0</td>\n",
       "      <td>0</td>\n",
       "      <td>0</td>\n",
       "      <td>0</td>\n",
       "      <td>0</td>\n",
       "      <td>0</td>\n",
       "      <td>0</td>\n",
       "      <td>0</td>\n",
       "      <td>0</td>\n",
       "      <td>0.849297</td>\n",
       "      <td>0</td>\n",
       "      <td>0</td>\n",
       "      <td>0</td>\n",
       "      <td>0</td>\n",
       "      <td>0</td>\n",
       "      <td>0</td>\n",
       "      <td>0.90</td>\n",
       "      <td>0</td>\n",
       "      <td>0</td>\n",
       "      <td>0</td>\n",
       "      <td>0</td>\n",
       "    </tr>\n",
       "    <tr>\n",
       "      <th>4</th>\n",
       "      <td>0</td>\n",
       "      <td>0</td>\n",
       "      <td>1</td>\n",
       "      <td>0</td>\n",
       "      <td>0</td>\n",
       "      <td>0</td>\n",
       "      <td>0</td>\n",
       "      <td>0</td>\n",
       "      <td>0</td>\n",
       "      <td>0</td>\n",
       "      <td>0</td>\n",
       "      <td>1</td>\n",
       "      <td>0</td>\n",
       "      <td>0</td>\n",
       "      <td>0.879100</td>\n",
       "      <td>0</td>\n",
       "      <td>0</td>\n",
       "      <td>0</td>\n",
       "      <td>0</td>\n",
       "      <td>0</td>\n",
       "      <td>0</td>\n",
       "      <td>0.01</td>\n",
       "      <td>0</td>\n",
       "      <td>0</td>\n",
       "      <td>0</td>\n",
       "      <td>0</td>\n",
       "    </tr>\n",
       "  </tbody>\n",
       "</table>\n",
       "</div>"
      ],
      "text/plain": [
       "   overcast clouds  broken clouds  ...  freezing rain  fog\n",
       "0                0              0  ...              0    0\n",
       "1                0              1  ...              0    0\n",
       "2                1              0  ...              0    0\n",
       "3                1              0  ...              0    0\n",
       "4                0              0  ...              0    0\n",
       "\n",
       "[5 rows x 26 columns]"
      ]
     },
     "execution_count": 38,
     "metadata": {
      "tags": []
     },
     "output_type": "execute_result"
    }
   ],
   "source": [
    "X = X[new_order]\n",
    "X.head()"
   ]
  },
  {
   "cell_type": "code",
   "execution_count": 0,
   "metadata": {
    "colab": {},
    "colab_type": "code",
    "id": "8dmya9qvkd8i"
   },
   "outputs": [],
   "source": [
    "# split data to 50% train data (2000 rows) and 50% test data (2000 rows) \n",
    "X_train, X_test, y_train, y_test = train_test_split(X, Y, test_size=0.5, random_state=42)"
   ]
  },
  {
   "cell_type": "code",
   "execution_count": 40,
   "metadata": {
    "colab": {
     "base_uri": "https://localhost:8080/",
     "height": 90
    },
    "colab_type": "code",
    "id": "GNAXPnd5UjYL",
    "outputId": "c0f5a6be-0a44-40ed-ded2-67cf1b65e6a1"
   },
   "outputs": [
    {
     "name": "stdout",
     "output_type": "stream",
     "text": [
      "0.313\n"
     ]
    },
    {
     "name": "stderr",
     "output_type": "stream",
     "text": [
      "/usr/local/lib/python3.6/dist-packages/sklearn/neural_network/multilayer_perceptron.py:566: ConvergenceWarning: Stochastic Optimizer: Maximum iterations (200) reached and the optimization hasn't converged yet.\n",
      "  % self.max_iter, ConvergenceWarning)\n"
     ]
    }
   ],
   "source": [
    "# Your code:\n",
    "from sklearn.neural_network import MLPClassifier\n",
    "\n",
    "default_MLP = MLPClassifier()\n",
    "default_MLP.fit(X_train,y_train)\n",
    "\n",
    "# Returns the mean accuracy on the given test data and labels. \n",
    "print(default_MLP.score(X_test,y_test))"
   ]
  },
  {
   "cell_type": "code",
   "execution_count": 41,
   "metadata": {
    "colab": {
     "base_uri": "https://localhost:8080/",
     "height": 1000
    },
    "colab_type": "code",
    "id": "GjgqIF0wknvl",
    "outputId": "28363e57-8b49-4a77-9239-35be323e9531"
   },
   "outputs": [
    {
     "name": "stdout",
     "output_type": "stream",
     "text": [
      "[(26, 100), (100, 5)]\n",
      "[array([[-1.66535464e-01,  1.20922794e-01, -9.33786246e-02, ...,\n",
      "         1.59849042e-01,  1.02065674e-01,  1.78387540e-01],\n",
      "       [-1.94257908e-01, -4.03905545e-02, -1.70014922e-01, ...,\n",
      "         9.52039728e-02,  9.15022765e-02, -2.96278956e-01],\n",
      "       [ 1.32986619e-01, -1.62743933e-01, -2.30441230e-01, ...,\n",
      "         1.14333326e-01,  1.45242917e-01, -2.82853415e-01],\n",
      "       ...,\n",
      "       [-4.28448810e-36, -2.38986724e-15, -5.53529509e-16, ...,\n",
      "         3.64070428e-42,  4.11049660e-13, -5.91757698e-19],\n",
      "       [-5.19783934e-38,  3.89023618e-28, -6.60938833e-41, ...,\n",
      "         4.90514978e-15, -1.07732374e-34,  4.00463621e-13],\n",
      "       [-1.38809108e-01, -1.28554456e-01, -3.07505937e-02, ...,\n",
      "         5.35491429e-03,  1.93097931e-01,  2.10471124e-01]]), array([[ 1.83926557e-01,  3.82619622e-02, -2.12829431e-01,\n",
      "         8.38072034e-02,  2.73956929e-01],\n",
      "       [ 2.85432911e-03, -8.48745043e-02, -1.31477093e-01,\n",
      "         1.02062816e-01,  1.17242547e-01],\n",
      "       [-2.60735742e-01, -8.14879961e-02,  2.39524870e-01,\n",
      "        -1.61964213e-01,  7.14733611e-02],\n",
      "       [-5.86683434e-02,  5.03446192e-02, -9.73834346e-02,\n",
      "         8.08064358e-02, -3.22779184e-01],\n",
      "       [-2.59308019e-02, -1.73944867e-01, -1.52757472e-01,\n",
      "        -2.12021645e-02,  1.67281567e-01],\n",
      "       [ 2.78685936e-01, -2.04127706e-01, -5.57118893e-01,\n",
      "         3.88624610e-01, -3.49631127e-01],\n",
      "       [-1.00810777e-01, -2.02314121e-01,  7.19532455e-02,\n",
      "        -2.43942717e-01, -2.74974482e-02],\n",
      "       [-5.86175007e-02, -2.60993488e-01,  4.09249497e-01,\n",
      "        -2.16236538e-01, -2.74784467e-01],\n",
      "       [ 3.11110394e-01, -4.59524554e-01,  3.59424433e-01,\n",
      "        -5.61556900e-02, -1.63633820e-01],\n",
      "       [-1.22305860e-01, -1.49000805e-01, -3.64131798e-01,\n",
      "        -7.65560933e-02,  3.13297918e-01],\n",
      "       [ 1.86173319e-01, -3.28735294e-02, -2.40439913e-01,\n",
      "         1.13310508e-01, -1.86121644e-01],\n",
      "       [ 3.10090262e-01, -7.53170572e-02, -1.02635617e-01,\n",
      "         2.41651217e-03,  1.43105496e-01],\n",
      "       [ 3.84720325e-01,  1.79496141e-02,  1.00943375e-01,\n",
      "        -3.85132602e-01, -1.10982804e-01],\n",
      "       [-9.99882986e-13,  1.52941285e-26, -3.54138628e-17,\n",
      "         3.50750574e-14, -2.77080764e-12],\n",
      "       [-1.69991145e-01, -2.26150575e-01, -1.55145721e-01,\n",
      "        -3.91088783e-02, -2.01255910e-01],\n",
      "       [ 5.90452702e-02, -2.54095649e-02, -6.95859074e-02,\n",
      "         2.46896870e-01,  1.27719420e-01],\n",
      "       [ 1.70655479e-01,  1.91711428e-01,  3.52054819e-01,\n",
      "        -2.22708694e-01, -1.92699095e-01],\n",
      "       [ 1.74511959e-01, -1.76719472e-02,  2.53381530e-02,\n",
      "         1.09089401e-01, -1.78616510e-01],\n",
      "       [ 3.08262879e-19,  3.94175431e-18,  4.49590110e-12,\n",
      "        -1.23433062e-14,  3.11651649e-17],\n",
      "       [ 3.87444882e-01,  5.12173234e-01, -1.58309246e+00,\n",
      "        -1.79772834e-02,  1.47007316e-01],\n",
      "       [ 2.33412828e-01,  5.64135560e-02,  9.34664634e-02,\n",
      "         2.57137754e-01, -9.35659514e-02],\n",
      "       [ 3.78383504e-01,  7.75153135e-02,  4.73546928e-01,\n",
      "        -7.88067111e-01,  5.58932861e-02],\n",
      "       [-1.59694578e-01, -3.84772576e-01, -3.25479628e-01,\n",
      "         1.69850515e-01,  4.01690484e-01],\n",
      "       [-1.01928081e-01,  1.44906587e-01,  3.05702202e-01,\n",
      "         9.36812479e-02, -3.34347531e-01],\n",
      "       [ 6.93576779e-03,  2.00619209e-01, -2.03061499e-01,\n",
      "         1.50095330e-01, -1.87013437e-01],\n",
      "       [-2.95912350e-01, -2.08263591e-01,  2.28711515e-01,\n",
      "         3.51428283e-01, -1.24599067e-01],\n",
      "       [-1.80676960e-01, -3.52900312e-01, -1.53372155e-01,\n",
      "         2.84208946e-01, -1.12830820e-01],\n",
      "       [-1.87790939e-01, -3.12334597e-01,  2.00704676e-01,\n",
      "         2.44252933e-01,  3.06868741e-01],\n",
      "       [-3.49604100e-01, -2.77303234e-01,  5.25117832e-01,\n",
      "        -2.44786882e-01,  3.02571583e-01],\n",
      "       [ 1.82836820e-01,  2.06586920e-01,  8.16361870e-02,\n",
      "        -2.09634354e-01, -2.00291681e-01],\n",
      "       [ 9.02036081e-01, -4.16145928e-01, -6.81211212e-01,\n",
      "        -5.88704539e-02,  1.03394817e-01],\n",
      "       [-1.17874581e-01,  1.33279082e-01,  5.37974989e-01,\n",
      "        -3.94618444e-01, -3.54422345e-01],\n",
      "       [-1.13178832e+00,  6.87291303e-01,  1.94848816e-01,\n",
      "         1.63084881e-01, -3.74141054e-01],\n",
      "       [ 2.59199613e-01, -3.83011698e-01,  2.24959050e-01,\n",
      "         3.61173780e-01, -5.26623839e-01],\n",
      "       [-8.21827844e-02, -1.14454038e-01, -1.94582236e-02,\n",
      "         5.66778336e-02, -2.21587345e-01],\n",
      "       [-7.86325427e-02,  4.51630726e-02,  1.67127435e-02,\n",
      "         1.50108371e-01, -3.12987045e-01],\n",
      "       [-3.01368264e-02,  2.15551755e-01,  6.59416146e-02,\n",
      "         1.22520154e-01, -4.82385387e-01],\n",
      "       [ 2.60769121e-01,  9.32575491e-02,  4.45800285e-01,\n",
      "        -3.40012050e-01,  1.41974724e-01],\n",
      "       [-6.34278927e-02,  3.57963815e-01,  3.36404458e-01,\n",
      "        -1.74157424e-01, -4.25936270e-01],\n",
      "       [-7.23803157e-01, -3.99200160e-01,  2.35868208e-01,\n",
      "         6.62781431e-01,  6.56637790e-01],\n",
      "       [ 2.67152209e-01,  2.32183497e-01,  2.42393429e-01,\n",
      "        -3.25988501e-02,  2.51563700e-02],\n",
      "       [-1.84921483e-01, -1.67642440e-02,  4.81385281e-02,\n",
      "        -2.13876495e-02,  5.82433534e-02],\n",
      "       [ 1.18862539e-01, -2.32539576e-02, -2.50642992e-01,\n",
      "        -1.07387891e-01, -2.11812581e-01],\n",
      "       [ 1.68801585e-01, -4.07951054e-01, -8.84460873e-02,\n",
      "         2.07553907e-01, -4.20731526e-02],\n",
      "       [-1.81154196e-33, -4.96901833e-24, -4.24346619e-26,\n",
      "         2.58708182e-26, -2.90980770e-45],\n",
      "       [-3.56497353e-01,  2.02343097e-02,  3.63687803e-01,\n",
      "         4.07066267e-01, -2.67886804e-01],\n",
      "       [ 1.66807506e-02,  1.30998673e-01, -3.20114654e-01,\n",
      "         8.02988049e-02, -3.31865948e-02],\n",
      "       [-2.72382172e-01,  4.08046199e-02, -4.94121126e-02,\n",
      "        -2.28522288e-01, -9.42902720e-04],\n",
      "       [ 3.90962969e-02,  3.68456521e-01,  2.40953515e-01,\n",
      "        -2.32915834e-01, -1.42639870e-01],\n",
      "       [ 1.40329159e-01,  3.00569531e-01,  3.09525342e-02,\n",
      "         5.84250589e-02, -1.03915455e-01],\n",
      "       [ 4.05527096e-01, -1.30261580e+00,  4.31306487e-01,\n",
      "        -6.48627769e-02,  9.67094060e-02],\n",
      "       [ 1.93089908e-01,  3.15155294e-01,  1.75582124e-01,\n",
      "        -1.38069886e-01, -4.24304772e-01],\n",
      "       [ 3.81418080e-01,  2.51249351e-01, -2.40723025e-01,\n",
      "        -3.03048785e-01, -2.14105611e-01],\n",
      "       [-8.02541797e-02, -9.30711717e-02,  2.71383210e-01,\n",
      "         1.65474555e-01, -2.61432925e-02],\n",
      "       [-1.41276242e-01,  7.04068927e-02,  2.35152370e-01,\n",
      "         1.02172490e-01,  1.95813573e-01],\n",
      "       [-1.41839544e-01, -2.85339805e-01, -1.68714951e-01,\n",
      "         9.57520338e-01, -8.60660294e-01],\n",
      "       [ 2.15734961e-01, -1.51810305e-01,  3.30857052e-01,\n",
      "         3.11823205e-01, -2.71636233e-01],\n",
      "       [ 2.74303608e-02, -1.55556457e-01,  4.00124808e-02,\n",
      "        -1.69696199e-01, -3.53029486e-01],\n",
      "       [-1.51381578e-01, -5.44076437e-02,  2.02727935e-01,\n",
      "        -2.65470000e-01, -1.82039146e-01],\n",
      "       [ 4.48967496e-01,  1.47597689e-01,  2.32621458e-01,\n",
      "        -4.35770854e-01, -2.30609272e-01],\n",
      "       [ 5.52799230e-02, -2.96858842e-01,  2.46258807e-01,\n",
      "        -1.89316533e-01, -2.76958849e-01],\n",
      "       [ 3.84189114e-01,  3.25845825e-01, -3.17070487e-01,\n",
      "        -3.31757689e-01,  1.80301678e-01],\n",
      "       [-3.24335501e-01,  5.76172555e-02,  7.88970737e-01,\n",
      "        -4.29643894e-01, -2.68253783e-01],\n",
      "       [-1.40905281e-01,  1.68797429e-01, -9.67702956e-02,\n",
      "        -2.19166533e-01,  1.11491255e-01],\n",
      "       [-6.49837993e-01, -7.13978459e-01,  2.77925942e-01,\n",
      "         3.28087575e-01,  6.77248992e-01],\n",
      "       [ 6.94536483e-01, -8.87472214e-01, -9.98071080e-01,\n",
      "        -5.02085266e-03,  1.21917704e-01],\n",
      "       [ 5.27915034e-01,  1.01046629e-01, -1.37176005e-01,\n",
      "        -1.88013522e-01, -1.95543269e-01],\n",
      "       [ 2.16448466e-01, -2.89910238e-01,  1.01943248e-01,\n",
      "         2.21490662e-01, -3.69282406e-01],\n",
      "       [-1.66783592e-01, -3.83631107e-01,  1.79392495e-02,\n",
      "         1.67589270e-01, -2.54027377e-01],\n",
      "       [ 3.09658294e-01, -5.45815024e-01,  6.66050003e-01,\n",
      "        -2.94363921e-01,  4.23123661e-01],\n",
      "       [-2.74663207e-01, -3.95562089e-02, -2.39330247e-02,\n",
      "         1.96296785e-01, -2.44799838e-01],\n",
      "       [ 1.12749981e-01, -6.75280708e-02, -2.38554041e-01,\n",
      "         2.39601679e-01, -6.42506145e-02],\n",
      "       [-2.24995863e-01,  1.90135579e-01,  1.36698159e-01,\n",
      "        -2.87338892e-02, -3.11335542e-02],\n",
      "       [ 3.34293132e-01, -2.13568219e-01, -5.46306204e-01,\n",
      "         4.19346047e-02,  1.16592238e-01],\n",
      "       [ 7.16751619e-01, -3.71358098e-02, -4.92054249e-01,\n",
      "        -1.32280173e-01,  1.08321791e-01],\n",
      "       [ 2.49005094e-01, -3.64930488e-01, -1.00246374e-01,\n",
      "         6.10580523e-02,  1.44170082e-01],\n",
      "       [-3.63034113e-01, -1.80552481e-01, -3.25845640e-01,\n",
      "         3.65536026e-01,  4.61292701e-01],\n",
      "       [ 1.30359930e-01,  7.06851016e-02, -2.01021141e-01,\n",
      "         1.31766148e-01,  1.15938283e-01],\n",
      "       [-5.24825515e-01, -1.24595696e-01, -3.62974804e-01,\n",
      "         5.33199062e-01,  5.49908514e-01],\n",
      "       [ 2.39225247e-01, -6.13245150e-02, -1.37200608e-01,\n",
      "         1.20748425e-01, -3.16234204e-01],\n",
      "       [-5.53221812e-01,  2.75772467e-01,  2.98062405e-01,\n",
      "         2.32604340e-01, -2.02474972e-01],\n",
      "       [ 7.86266925e-02, -1.98970464e-01,  3.12911646e-01,\n",
      "         1.87281090e-01,  1.62748646e-01],\n",
      "       [-1.67647644e-01,  5.21582311e-01, -4.29463676e-01,\n",
      "        -1.54513843e-01,  3.02215515e-01],\n",
      "       [ 1.17778920e-01,  1.70836318e-01, -1.71566071e-01,\n",
      "         2.47014553e-01, -2.45186644e-01],\n",
      "       [ 2.81372392e-01, -4.94374553e-02, -5.10331674e-01,\n",
      "         2.31281454e-01, -7.19954283e-01],\n",
      "       [ 1.15268556e-01, -1.83073991e-01,  7.23040247e-02,\n",
      "         2.12375246e-01,  2.96639715e-01],\n",
      "       [ 4.94876596e-02, -1.28738232e-01, -1.30449806e-01,\n",
      "         2.81769481e-01,  3.22625786e-01],\n",
      "       [-4.86096307e-02,  1.66719336e-01, -5.24792605e-02,\n",
      "        -2.42506430e-01, -1.48183281e-01],\n",
      "       [-3.16534109e-01,  2.17473586e-02, -1.13716321e-01,\n",
      "         5.68782760e-02, -1.86645813e-04],\n",
      "       [ 2.81326532e-01, -8.05617876e-02, -2.40892434e-01,\n",
      "         2.39917434e-01,  2.85629886e-01],\n",
      "       [ 8.84893493e-01,  5.80727238e-01, -9.52206060e-01,\n",
      "        -6.28065219e-01, -1.43084609e+00],\n",
      "       [-8.19316878e-02, -2.61976387e-01,  3.09587776e-01,\n",
      "        -1.28874604e-02, -4.72973761e-01],\n",
      "       [-2.19380165e-01,  6.98571611e-01, -1.64200511e-02,\n",
      "        -4.80547346e-01,  5.50639844e-02],\n",
      "       [ 2.74353667e-01,  1.26605883e-01, -2.01447465e-01,\n",
      "         8.27224779e-02,  2.37456166e-01],\n",
      "       [-1.38279991e-01,  4.11849668e-01,  2.64652882e-01,\n",
      "        -1.75633679e-01, -1.05701475e-01],\n",
      "       [-1.53469645e-01, -3.94835205e-02,  2.56584750e-01,\n",
      "        -7.93904727e-02, -1.05630553e-01],\n",
      "       [-8.09815379e-17, -7.99458046e-20, -3.24654080e-12,\n",
      "        -1.56008251e-41, -4.94545646e-38],\n",
      "       [ 1.01307436e-01,  1.68543769e-01,  2.74644663e-02,\n",
      "        -2.58207576e-01, -1.60710698e-01],\n",
      "       [ 6.20523371e-01,  3.93994269e-01, -8.28807329e-01,\n",
      "        -2.66150473e-01, -1.33685911e-01],\n",
      "       [ 3.34580166e-02,  2.68532516e-01,  3.91611179e-02,\n",
      "         2.82572998e-03, -1.78653591e-01]])]\n"
     ]
    }
   ],
   "source": [
    "print([coef.shape for coef in default_MLP.coefs_])  # size of synapsis weights\n",
    "print(default_MLP.coefs_)                                 # synapsis weights"
   ]
  },
  {
   "cell_type": "markdown",
   "metadata": {
    "colab_type": "text",
    "id": "akMuSalG0iEp"
   },
   "source": [
    "   (e) Try to find an optimized number of hidden layers and nodes. \n",
    "      - Start with default numbers and then at least go with one number above and one number below the default.\n",
    "      - Use the 2000 rows of the data for training.\n",
    "      - What are the optimized numbers of hidden layers and nodes that you have found?"
   ]
  },
  {
   "cell_type": "code",
   "execution_count": 42,
   "metadata": {
    "colab": {
     "base_uri": "https://localhost:8080/",
     "height": 748
    },
    "colab_type": "code",
    "id": "Rvb8rXNlifAu",
    "outputId": "f980ef0e-57a1-4c80-dfbc-85032a3816ca"
   },
   "outputs": [
    {
     "name": "stderr",
     "output_type": "stream",
     "text": [
      "/usr/local/lib/python3.6/dist-packages/sklearn/model_selection/_split.py:1978: FutureWarning: The default value of cv will change from 3 to 5 in version 0.22. Specify it explicitly to silence this warning.\n",
      "  warnings.warn(CV_WARNING, FutureWarning)\n",
      "/usr/local/lib/python3.6/dist-packages/sklearn/neural_network/multilayer_perceptron.py:566: ConvergenceWarning: Stochastic Optimizer: Maximum iterations (200) reached and the optimization hasn't converged yet.\n",
      "  % self.max_iter, ConvergenceWarning)\n",
      "/usr/local/lib/python3.6/dist-packages/sklearn/neural_network/multilayer_perceptron.py:566: ConvergenceWarning: Stochastic Optimizer: Maximum iterations (200) reached and the optimization hasn't converged yet.\n",
      "  % self.max_iter, ConvergenceWarning)\n",
      "/usr/local/lib/python3.6/dist-packages/sklearn/neural_network/multilayer_perceptron.py:566: ConvergenceWarning: Stochastic Optimizer: Maximum iterations (200) reached and the optimization hasn't converged yet.\n",
      "  % self.max_iter, ConvergenceWarning)\n",
      "/usr/local/lib/python3.6/dist-packages/sklearn/neural_network/multilayer_perceptron.py:566: ConvergenceWarning: Stochastic Optimizer: Maximum iterations (200) reached and the optimization hasn't converged yet.\n",
      "  % self.max_iter, ConvergenceWarning)\n",
      "/usr/local/lib/python3.6/dist-packages/sklearn/neural_network/multilayer_perceptron.py:566: ConvergenceWarning: Stochastic Optimizer: Maximum iterations (200) reached and the optimization hasn't converged yet.\n",
      "  % self.max_iter, ConvergenceWarning)\n",
      "/usr/local/lib/python3.6/dist-packages/sklearn/neural_network/multilayer_perceptron.py:566: ConvergenceWarning: Stochastic Optimizer: Maximum iterations (200) reached and the optimization hasn't converged yet.\n",
      "  % self.max_iter, ConvergenceWarning)\n",
      "/usr/local/lib/python3.6/dist-packages/sklearn/neural_network/multilayer_perceptron.py:566: ConvergenceWarning: Stochastic Optimizer: Maximum iterations (200) reached and the optimization hasn't converged yet.\n",
      "  % self.max_iter, ConvergenceWarning)\n",
      "/usr/local/lib/python3.6/dist-packages/sklearn/neural_network/multilayer_perceptron.py:566: ConvergenceWarning: Stochastic Optimizer: Maximum iterations (200) reached and the optimization hasn't converged yet.\n",
      "  % self.max_iter, ConvergenceWarning)\n",
      "/usr/local/lib/python3.6/dist-packages/sklearn/neural_network/multilayer_perceptron.py:566: ConvergenceWarning: Stochastic Optimizer: Maximum iterations (200) reached and the optimization hasn't converged yet.\n",
      "  % self.max_iter, ConvergenceWarning)\n",
      "/usr/local/lib/python3.6/dist-packages/sklearn/neural_network/multilayer_perceptron.py:566: ConvergenceWarning: Stochastic Optimizer: Maximum iterations (200) reached and the optimization hasn't converged yet.\n",
      "  % self.max_iter, ConvergenceWarning)\n"
     ]
    },
    {
     "data": {
      "text/plain": [
       "GridSearchCV(cv='warn', error_score='raise-deprecating',\n",
       "             estimator=MLPClassifier(activation='relu', alpha=0.0001,\n",
       "                                     batch_size='auto', beta_1=0.9,\n",
       "                                     beta_2=0.999, early_stopping=False,\n",
       "                                     epsilon=1e-08, hidden_layer_sizes=(100,),\n",
       "                                     learning_rate='constant',\n",
       "                                     learning_rate_init=0.001, max_iter=200,\n",
       "                                     momentum=0.9, n_iter_no_change=10,\n",
       "                                     nesterovs_momentum=True, power_t=0.5,\n",
       "                                     random_state=1, shuffle=True,\n",
       "                                     solver='adam', tol=0.0001,\n",
       "                                     validation_fraction=0.1, verbose=False,\n",
       "                                     warm_start=False),\n",
       "             iid='warn', n_jobs=None,\n",
       "             param_grid={'hidden_layer_sizes': [(30, 30, 30, 30, 40, 50),\n",
       "                                                (30, 30, 50, 40), (50, 50)]},\n",
       "             pre_dispatch='2*n_jobs', refit=True, return_train_score=False,\n",
       "             scoring=None, verbose=0)"
      ]
     },
     "execution_count": 42,
     "metadata": {
      "tags": []
     },
     "output_type": "execute_result"
    }
   ],
   "source": [
    "from sklearn.model_selection import GridSearchCV\n",
    "parameter_space = {\n",
    "    'hidden_layer_sizes': [(30,30,30,30,40,50),(30, 30, 50, 40),(50,50)]\n",
    "}\n",
    "grid_mlp = MLPClassifier(random_state=1)\n",
    "clf = GridSearchCV(grid_mlp, parameter_space)\n",
    "clf.fit(X_train, y_train)\n",
    "\n"
   ]
  },
  {
   "cell_type": "code",
   "execution_count": 43,
   "metadata": {
    "colab": {
     "base_uri": "https://localhost:8080/",
     "height": 106
    },
    "colab_type": "code",
    "id": "pyof68qCihCO",
    "outputId": "39d7484d-ebc6-4005-91ee-a6ddb8826d6b"
   },
   "outputs": [
    {
     "name": "stdout",
     "output_type": "stream",
     "text": [
      "Best parameters found:\n",
      " {'hidden_layer_sizes': (30, 30, 50, 40)}\n",
      "0.327 (+/-0.047) for {'hidden_layer_sizes': (30, 30, 30, 30, 40, 50)}\n",
      "0.329 (+/-0.062) for {'hidden_layer_sizes': (30, 30, 50, 40)}\n",
      "0.324 (+/-0.047) for {'hidden_layer_sizes': (50, 50)}\n"
     ]
    }
   ],
   "source": [
    "# Your code: (number of hidden layers)\n",
    "\n",
    "# Best paramete set\n",
    "print('Best parameters found:\\n', clf.best_params_)\n",
    "means = clf.cv_results_['mean_test_score']\n",
    "stds = clf.cv_results_['std_test_score']\n",
    "for mean, std, params in zip(means, stds, clf.cv_results_['params']):\n",
    "    print(\"%0.3f (+/-%0.03f) for %r\" % (mean, std * 2, params))"
   ]
  },
  {
   "cell_type": "code",
   "execution_count": 44,
   "metadata": {
    "colab": {
     "base_uri": "https://localhost:8080/",
     "height": 141
    },
    "colab_type": "code",
    "id": "X6mMooKSiisT",
    "outputId": "7fe4caa4-acc5-4b4a-b415-c49005359126"
   },
   "outputs": [
    {
     "data": {
      "text/plain": [
       "MLPClassifier(activation='relu', alpha=0.0001, batch_size='auto', beta_1=0.9,\n",
       "              beta_2=0.999, early_stopping=False, epsilon=1e-08,\n",
       "              hidden_layer_sizes=(30, 30, 50, 40), learning_rate='constant',\n",
       "              learning_rate_init=0.001, max_iter=200, momentum=0.9,\n",
       "              n_iter_no_change=10, nesterovs_momentum=True, power_t=0.5,\n",
       "              random_state=None, shuffle=True, solver='adam', tol=0.0001,\n",
       "              validation_fraction=0.1, verbose=False, warm_start=False)"
      ]
     },
     "execution_count": 44,
     "metadata": {
      "tags": []
     },
     "output_type": "execute_result"
    }
   ],
   "source": [
    "# Your code: (number of nodes in the hidden layer)\n",
    "clf_best = MLPClassifier(clf.best_params_['hidden_layer_sizes'])\n",
    "clf_best"
   ]
  },
  {
   "cell_type": "markdown",
   "metadata": {
    "colab_type": "text",
    "id": "tA7vl3wZ0iEv"
   },
   "source": [
    "Explanation:\n",
    "I just tried a lot of variations of features in different order but unfortunately i could not find a good permutation of features however the network predicted bad as for the reasons that i stated at first. Also, i didnot want to try more deep network in order to avoid the overfitting problem.\n"
   ]
  },
  {
   "cell_type": "markdown",
   "metadata": {
    "colab_type": "text",
    "id": "OqurM9gT0iEw"
   },
   "source": [
    "   (f) Try to train your model with one linear activation function and one non-linear activation function. Use the default number of hidden layers and nodes.\n",
    "     - Name the functions and explain how the results are different and why. \n",
    "     - You can use evaluation metrics to show which activation function works better for this data set.\n",
    "     - Use the 2000 rows of the data for training."
   ]
  },
  {
   "cell_type": "code",
   "execution_count": 45,
   "metadata": {
    "colab": {
     "base_uri": "https://localhost:8080/",
     "height": 35
    },
    "colab_type": "code",
    "id": "jZkngh4u0iEw",
    "outputId": "f3d62955-9f76-402e-c1bc-86f4096e43be"
   },
   "outputs": [
    {
     "name": "stdout",
     "output_type": "stream",
     "text": [
      "0.3125\n"
     ]
    }
   ],
   "source": [
    "# Your code: (linear activation function):\n",
    "\n",
    "clf_linear = MLPClassifier(activation='identity', random_state=1)\n",
    "clf_linear.fit(X_train,y_train)\n",
    "print(clf_linear.score(X_test,y_test))\n"
   ]
  },
  {
   "cell_type": "code",
   "execution_count": 46,
   "metadata": {
    "colab": {
     "base_uri": "https://localhost:8080/",
     "height": 90
    },
    "colab_type": "code",
    "id": "sSIpGhQA0iE0",
    "outputId": "6dd0196a-60ce-4817-e5d6-01574ef9f16c"
   },
   "outputs": [
    {
     "name": "stdout",
     "output_type": "stream",
     "text": [
      "0.3135\n"
     ]
    },
    {
     "name": "stderr",
     "output_type": "stream",
     "text": [
      "/usr/local/lib/python3.6/dist-packages/sklearn/neural_network/multilayer_perceptron.py:566: ConvergenceWarning: Stochastic Optimizer: Maximum iterations (200) reached and the optimization hasn't converged yet.\n",
      "  % self.max_iter, ConvergenceWarning)\n"
     ]
    }
   ],
   "source": [
    "# Your code: (non-linear activation function):\n",
    "\n",
    "clf_non_linear = MLPClassifier(activation='relu', random_state=1)\n",
    "clf_non_linear.fit(X_train,y_train)\n",
    "print(clf_non_linear.score(X_test,y_test))"
   ]
  },
  {
   "cell_type": "markdown",
   "metadata": {
    "colab_type": "text",
    "id": "cPY1o8zJ0iE2"
   },
   "source": [
    "Explanation: Non-linear activation function will perform better as it could easily extract complex features however it would not so it proper way due to the reason that is stated before\n"
   ]
  },
  {
   "cell_type": "markdown",
   "metadata": {
    "colab_type": "text",
    "id": "ts8Wzeb-0iE2"
   },
   "source": [
    "## Question 6 - Evaluation (10 Points)"
   ]
  },
  {
   "cell_type": "markdown",
   "metadata": {
    "colab_type": "text",
    "id": "zXBi1XJB0iE3"
   },
   "source": [
    "   (a) Consider one of the models in question 4 (c) of your choice, one neural network with optimized number of hidden layers and nodes from question 5 (e), and the neural network with non-linear activation function from question 5 (f), for a total of *three* models, together with their respective datasets. Compute the following metrics for a 3-fold cross validation performed on each model:"
   ]
  },
  {
   "cell_type": "code",
   "execution_count": 0,
   "metadata": {
    "colab": {},
    "colab_type": "code",
    "id": "rDNdP7wo0iE4"
   },
   "outputs": [],
   "source": [
    "# split data into 3-fold cross validation\n",
    "from sklearn.model_selection import KFold\n",
    "from sklearn.metrics import accuracy_score, precision_score, recall_score, f1_score, confusion_matrix\n",
    "\n",
    "kf = KFold(n_splits=3)"
   ]
  },
  {
   "cell_type": "code",
   "execution_count": 0,
   "metadata": {
    "colab": {},
    "colab_type": "code",
    "id": "7E5nXrWWKfJu"
   },
   "outputs": [],
   "source": [
    "# SVM\n",
    "from sklearn.model_selection import train_test_split\n",
    "import numpy as np\n",
    "\n",
    "svmTrain, svmTest, y_svmTrain, y_svmTest = train_test_split(descriptive_features, target_feature, test_size=0.90, stratify=target_feature)\n",
    "y_svmTrain=y_svmTrain.to_frame()"
   ]
  },
  {
   "cell_type": "markdown",
   "metadata": {
    "colab_type": "text",
    "id": "RC2OKMYY0iE3"
   },
   "source": [
    "- Confusion matrices on the training data (sum cell-by-cell the results of each fold)"
   ]
  },
  {
   "cell_type": "code",
   "execution_count": 49,
   "metadata": {
    "colab": {
     "base_uri": "https://localhost:8080/",
     "height": 784
    },
    "colab_type": "code",
    "id": "jMrryE22et_L",
    "outputId": "a66812f7-0879-4bea-ae7c-3f1cbcb41079"
   },
   "outputs": [
    {
     "name": "stderr",
     "output_type": "stream",
     "text": [
      "/usr/local/lib/python3.6/dist-packages/sklearn/utils/validation.py:724: DataConversionWarning: A column-vector y was passed when a 1d array was expected. Please change the shape of y to (n_samples, ), for example using ravel().\n",
      "  y = column_or_1d(y, warn=True)\n"
     ]
    },
    {
     "name": "stdout",
     "output_type": "stream",
     "text": [
      "SVM Confusion Matrix for Fold :1\n",
      "[[630   0  98  21  68]\n",
      " [119   0  74   7  75]\n",
      " [222   0 223  82  41]\n",
      " [ 45   0 140 160  90]\n",
      " [  5   0  43  66 683]]\n",
      "SVM Summation of Confusion Matrix up to Fold :1\n",
      "[[630   0  98  21  68]\n",
      " [119   0  74   7  75]\n",
      " [222   0 223  82  41]\n",
      " [ 45   0 140 160  90]\n",
      " [  5   0  43  66 683]]\n"
     ]
    },
    {
     "name": "stderr",
     "output_type": "stream",
     "text": [
      "/usr/local/lib/python3.6/dist-packages/sklearn/utils/validation.py:724: DataConversionWarning: A column-vector y was passed when a 1d array was expected. Please change the shape of y to (n_samples, ), for example using ravel().\n",
      "  y = column_or_1d(y, warn=True)\n"
     ]
    },
    {
     "name": "stdout",
     "output_type": "stream",
     "text": [
      "SVM Confusion Matrix for Fold :2\n",
      "[[608   0  76  29  89]\n",
      " [120   0  70  16  88]\n",
      " [222   0 191  97  37]\n",
      " [ 49   0 120 205  93]\n",
      " [  9   0  12  96 665]]\n",
      "SVM Summation of Confusion Matrix up to Fold :2\n",
      "[[1238    0  174   50  157]\n",
      " [ 239    0  144   23  163]\n",
      " [ 444    0  414  179   78]\n",
      " [  94    0  260  365  183]\n",
      " [  14    0   55  162 1348]]\n"
     ]
    },
    {
     "name": "stderr",
     "output_type": "stream",
     "text": [
      "/usr/local/lib/python3.6/dist-packages/sklearn/utils/validation.py:724: DataConversionWarning: A column-vector y was passed when a 1d array was expected. Please change the shape of y to (n_samples, ), for example using ravel().\n",
      "  y = column_or_1d(y, warn=True)\n"
     ]
    },
    {
     "name": "stdout",
     "output_type": "stream",
     "text": [
      "SVM Confusion Matrix for Fold :3\n",
      "[[647   0  60  35  85]\n",
      " [150   0  51  18  72]\n",
      " [219   0 160 104  44]\n",
      " [ 59   0  94 219  82]\n",
      " [  9   0  26  79 679]]\n",
      "SVM Summation of Confusion Matrix up to Fold :3\n",
      "[[1885    0  234   85  242]\n",
      " [ 389    0  195   41  235]\n",
      " [ 663    0  574  283  122]\n",
      " [ 153    0  354  584  265]\n",
      " [  23    0   81  241 2027]]\n"
     ]
    }
   ],
   "source": [
    "# Your code for the confusion matrices on the training data\n",
    "##SVM\n",
    "###Kernel = 'linear'\n",
    "from sklearn.metrics import confusion_matrix \n",
    "from sklearn.metrics import accuracy_score \n",
    "import numpy as np\n",
    "from sklearn.svm import SVC\n",
    "\n",
    "c=1\n",
    "N = 5 # Declaring rows \n",
    "M = 5 # Declaring columns \n",
    "accuracy_f1Score_precision_train=dict()\n",
    "\n",
    "accumalte_Confusion_matrix = [[0 for x in range(M)] for y in range(N)] \n",
    "Svmclassifier1 = SVC(C=1, kernel='linear')\n",
    "    \n",
    "for train_index, test_index in kf.split(svmTrain,y_svmTrain):\n",
    "    X_train = svmTrain.iloc[train_index]\n",
    "    y_train = y_svmTrain.iloc[train_index]\n",
    "    Svmclassifier1.fit(X_train, y_train)\n",
    "    svm_pred = Svmclassifier1.predict(X_train)\n",
    "    results = confusion_matrix(y_train, svm_pred,labels=['high', 'very high', 'medium', 'low', 'very low']) \n",
    "    accumalte_Confusion_matrix +=results \n",
    "    print ('SVM Confusion Matrix for Fold :'+str(c))\n",
    "    print(results)\n",
    "    print ('SVM Summation of Confusion Matrix up to Fold :' +str(c))\n",
    "    print(accumalte_Confusion_matrix) \n",
    "    accuracy_f1Score_precision_train[c]={'accuracy': accuracy_score(y_train,svm_pred)}\n",
    "    c+=1"
   ]
  },
  {
   "cell_type": "code",
   "execution_count": 51,
   "metadata": {
    "colab": {
     "base_uri": "https://localhost:8080/",
     "height": 1000
    },
    "colab_type": "code",
    "id": "cNvqklownnlg",
    "outputId": "782fadb7-c7d4-45e5-dcf2-32fe2af6bf06"
   },
   "outputs": [
    {
     "name": "stderr",
     "output_type": "stream",
     "text": [
      "/usr/local/lib/python3.6/dist-packages/sklearn/neural_network/multilayer_perceptron.py:566: ConvergenceWarning: Stochastic Optimizer: Maximum iterations (200) reached and the optimization hasn't converged yet.\n",
      "  % self.max_iter, ConvergenceWarning)\n"
     ]
    },
    {
     "name": "stdout",
     "output_type": "stream",
     "text": [
      "\t\t\t\tFOLD 1\n",
      "\t\t\tNEURAL NETWORK\n",
      "optimized neural network:\n",
      "[[509  36  49 138   1]\n",
      " [284  73  52 109   1]\n",
      " [217  42 116 157   1]\n",
      " [274  34  62 291   2]\n",
      " [ 95  12  16  87   8]]\n",
      "optimized neural network up to Fold 1\n",
      "[[509  36  49 138   1]\n",
      " [284  73  52 109   1]\n",
      " [217  42 116 157   1]\n",
      " [274  34  62 291   2]\n",
      " [ 95  12  16  87   8]]\n",
      "\n",
      "\n",
      "non-linear neural network:\n",
      "[[550  10  61 112   0]\n",
      " [350  18  63  88   0]\n",
      " [291  15  93 134   0]\n",
      " [357   8  75 223   0]\n",
      " [117   2  21  78   0]]\n",
      "Linear neural network up to Fold 1\n",
      "[[550  10  61 112   0]\n",
      " [350  18  63  88   0]\n",
      " [291  15  93 134   0]\n",
      " [357   8  75 223   0]\n",
      " [117   2  21  78   0]]\n",
      "----------------------------------------------------------------------------------------------------\n"
     ]
    },
    {
     "name": "stderr",
     "output_type": "stream",
     "text": [
      "/usr/local/lib/python3.6/dist-packages/sklearn/neural_network/multilayer_perceptron.py:566: ConvergenceWarning: Stochastic Optimizer: Maximum iterations (200) reached and the optimization hasn't converged yet.\n",
      "  % self.max_iter, ConvergenceWarning)\n"
     ]
    },
    {
     "name": "stdout",
     "output_type": "stream",
     "text": [
      "\t\t\t\tFOLD 2\n",
      "\t\t\tNEURAL NETWORK\n",
      "optimized neural network:\n",
      "[[451  19  59 216   0]\n",
      " [226  32  53 150   0]\n",
      " [148   9 125 184   0]\n",
      " [226   8  79 405   0]\n",
      " [110   3  27 137   0]]\n",
      "optimized neural network up to Fold 2\n",
      "[[960  55 108 354   1]\n",
      " [510 105 105 259   1]\n",
      " [365  51 241 341   1]\n",
      " [500  42 141 696   2]\n",
      " [205  15  43 224   8]]\n",
      "\n",
      "\n",
      "non-linear neural network:\n",
      "[[451   8  40 246   0]\n",
      " [269   7  29 156   0]\n",
      " [201   9  52 204   0]\n",
      " [275   1  49 390   3]\n",
      " [120   2  14 140   1]]\n",
      "Linear neural network up to Fold 2\n",
      "[[1001   18  101  358    0]\n",
      " [ 619   25   92  244    0]\n",
      " [ 492   24  145  338    0]\n",
      " [ 632    9  124  613    3]\n",
      " [ 237    4   35  218    1]]\n",
      "----------------------------------------------------------------------------------------------------\n",
      "\t\t\t\tFOLD 3\n",
      "\t\t\tNEURAL NETWORK\n",
      "optimized neural network:\n",
      "[[571  47  30  96   0]\n",
      " [308  89  34  82   1]\n",
      " [231  63  73 102   2]\n",
      " [338  42  39 283   3]\n",
      " [128   9   7  83   6]]\n",
      "optimized neural network up to Fold 3\n",
      "[[1531  102  138  450    1]\n",
      " [ 818  194  139  341    2]\n",
      " [ 596  114  314  443    3]\n",
      " [ 838   84  180  979    5]\n",
      " [ 333   24   50  307   14]]\n",
      "\n",
      "\n",
      "non-linear neural network:\n",
      "[[511   2  23 208   0]\n",
      " [313  11  42 148   0]\n",
      " [262   6  41 162   0]\n",
      " [320   7  26 349   3]\n",
      " [113   0   7 112   1]]\n",
      "Linear neural network up to Fold 3\n",
      "[[1512   20  124  566    0]\n",
      " [ 932   36  134  392    0]\n",
      " [ 754   30  186  500    0]\n",
      " [ 952   16  150  962    6]\n",
      " [ 350    4   42  330    2]]\n",
      "----------------------------------------------------------------------------------------------------\n"
     ]
    },
    {
     "name": "stderr",
     "output_type": "stream",
     "text": [
      "/usr/local/lib/python3.6/dist-packages/sklearn/neural_network/multilayer_perceptron.py:566: ConvergenceWarning: Stochastic Optimizer: Maximum iterations (200) reached and the optimization hasn't converged yet.\n",
      "  % self.max_iter, ConvergenceWarning)\n"
     ]
    }
   ],
   "source": [
    "c=1\n",
    "N = 5 # Declaring rows \n",
    "M = 5 # Declaring columns \n",
    "\n",
    "accumalte_Confusion_matrix_opt = [[0 for x in range(M)] for y in range(N)] \n",
    "accumalte_Confusion_matrix_lin = [[0 for x in range(M)] for y in range(N)] \n",
    "\n",
    "fold = 1\n",
    "for train_indices, test_indices in kf.split(X):\n",
    "    clf_best.fit(X.iloc[train_indices], Y.iloc[train_indices])\n",
    "    y_hat = clf_best.predict(X.iloc[train_indices])\n",
    "    y_true = Y.iloc[train_indices].values\n",
    "    print(\"\\t\\t\\t\\tFOLD {}\".format(fold))\n",
    "    print(\"\\t\\t\\tNEURAL NETWORK\")\n",
    "    print(\"optimized neural network:\\n{}\".format(confusion_matrix(y_true,y_hat)))\n",
    "    results_opt = confusion_matrix(y_true,y_hat)\n",
    "    print(\"optimized neural network up to Fold \"+str(fold))\n",
    "    accumalte_Confusion_matrix_opt +=results_opt\n",
    "    print(accumalte_Confusion_matrix_opt) \n",
    "\n",
    "    y_hat = clf_non_linear.predict(X.iloc[train_indices])\n",
    "    print(\"\\n\\nnon-linear neural network:\\n{}\".format(confusion_matrix(y_true,y_hat)))\n",
    "    results_lin = confusion_matrix(y_true,y_hat)\n",
    "    print(\"Linear neural network up to Fold \"+str(fold))\n",
    "    accumalte_Confusion_matrix_lin +=results_lin\n",
    "    print(accumalte_Confusion_matrix_lin) \n",
    "    print('-'*100)\n",
    "    fold+=1"
   ]
  },
  {
   "cell_type": "markdown",
   "metadata": {
    "colab_type": "text",
    "id": "qM-wiVUa0iE6"
   },
   "source": [
    "- Confusion matrices on the test data (sum cell-by-cell the results of each fold)"
   ]
  },
  {
   "cell_type": "code",
   "execution_count": 0,
   "metadata": {
    "colab": {},
    "colab_type": "code",
    "id": "6tqILHgWQDku"
   },
   "outputs": [],
   "source": [
    "# SVM Testing\n",
    "from sklearn.model_selection import train_test_split\n",
    "import numpy as np\n",
    "\n",
    "svmTrain, svmTest, y_svmTrain, y_svmTest = train_test_split(descriptive_features, target_feature, test_size=0.1, stratify=target_feature)\n",
    "y_svmTest=y_svmTest.to_frame()"
   ]
  },
  {
   "cell_type": "code",
   "execution_count": 53,
   "metadata": {
    "colab": {
     "base_uri": "https://localhost:8080/",
     "height": 997
    },
    "colab_type": "code",
    "id": "IOgJlmr2P-Cw",
    "outputId": "72bd88f9-277a-4091-eae4-4adc2536b279"
   },
   "outputs": [
    {
     "name": "stderr",
     "output_type": "stream",
     "text": [
      "/usr/local/lib/python3.6/dist-packages/sklearn/utils/validation.py:724: DataConversionWarning: A column-vector y was passed when a 1d array was expected. Please change the shape of y to (n_samples, ), for example using ravel().\n",
      "  y = column_or_1d(y, warn=True)\n"
     ]
    },
    {
     "name": "stdout",
     "output_type": "stream",
     "text": [
      "SVM Confusion Matrix for Fold :1\n",
      "[[289   0  52  16  35]\n",
      " [ 65   0  44   6  41]\n",
      " [121   0 109  39  14]\n",
      " [ 29   0  81  52  55]\n",
      " [  3   0  15  28 353]]\n",
      "SVM Summation of Confusion Matrix up to Fold :1\n",
      "[[289   0  52  16  35]\n",
      " [ 65   0  44   6  41]\n",
      " [121   0 109  39  14]\n",
      " [ 29   0  81  52  55]\n",
      " [  3   0  15  28 353]]\n"
     ]
    },
    {
     "name": "stderr",
     "output_type": "stream",
     "text": [
      "/usr/local/lib/python3.6/dist-packages/sklearn/metrics/classification.py:1437: UndefinedMetricWarning: Precision is ill-defined and being set to 0.0 in labels with no predicted samples.\n",
      "  'precision', 'predicted', average, warn_for)\n",
      "/usr/local/lib/python3.6/dist-packages/sklearn/metrics/classification.py:1437: UndefinedMetricWarning: F-score is ill-defined and being set to 0.0 in labels with no predicted samples.\n",
      "  'precision', 'predicted', average, warn_for)\n",
      "/usr/local/lib/python3.6/dist-packages/sklearn/utils/validation.py:724: DataConversionWarning: A column-vector y was passed when a 1d array was expected. Please change the shape of y to (n_samples, ), for example using ravel().\n",
      "  y = column_or_1d(y, warn=True)\n"
     ]
    },
    {
     "name": "stdout",
     "output_type": "stream",
     "text": [
      "SVM Confusion Matrix for Fold :2\n",
      "[[306   0  67   4  50]\n",
      " [ 44   0  44   2  30]\n",
      " [106   0 136  13  13]\n",
      " [ 21   0 149  22  46]\n",
      " [  5   0  45   9 334]]\n",
      "SVM Summation of Confusion Matrix up to Fold :2\n",
      "[[595   0 119  20  85]\n",
      " [109   0  88   8  71]\n",
      " [227   0 245  52  27]\n",
      " [ 50   0 230  74 101]\n",
      " [  8   0  60  37 687]]\n"
     ]
    },
    {
     "name": "stderr",
     "output_type": "stream",
     "text": [
      "/usr/local/lib/python3.6/dist-packages/sklearn/metrics/classification.py:1437: UndefinedMetricWarning: Precision is ill-defined and being set to 0.0 in labels with no predicted samples.\n",
      "  'precision', 'predicted', average, warn_for)\n",
      "/usr/local/lib/python3.6/dist-packages/sklearn/metrics/classification.py:1437: UndefinedMetricWarning: F-score is ill-defined and being set to 0.0 in labels with no predicted samples.\n",
      "  'precision', 'predicted', average, warn_for)\n",
      "/usr/local/lib/python3.6/dist-packages/sklearn/utils/validation.py:724: DataConversionWarning: A column-vector y was passed when a 1d array was expected. Please change the shape of y to (n_samples, ), for example using ravel().\n",
      "  y = column_or_1d(y, warn=True)\n"
     ]
    },
    {
     "name": "stdout",
     "output_type": "stream",
     "text": [
      "SVM Confusion Matrix for Fold :3\n",
      "[[327   0  41   6  30]\n",
      " [ 62   0  43   4  45]\n",
      " [116   0 112  30  12]\n",
      " [ 30   0  92  55  47]\n",
      " [  3   0  20  29 342]]\n",
      "SVM Summation of Confusion Matrix up to Fold :3\n",
      "[[ 922    0  160   26  115]\n",
      " [ 171    0  131   12  116]\n",
      " [ 343    0  357   82   39]\n",
      " [  80    0  322  129  148]\n",
      " [  11    0   80   66 1029]]\n"
     ]
    },
    {
     "name": "stderr",
     "output_type": "stream",
     "text": [
      "/usr/local/lib/python3.6/dist-packages/sklearn/metrics/classification.py:1437: UndefinedMetricWarning: Precision is ill-defined and being set to 0.0 in labels with no predicted samples.\n",
      "  'precision', 'predicted', average, warn_for)\n",
      "/usr/local/lib/python3.6/dist-packages/sklearn/metrics/classification.py:1437: UndefinedMetricWarning: F-score is ill-defined and being set to 0.0 in labels with no predicted samples.\n",
      "  'precision', 'predicted', average, warn_for)\n"
     ]
    }
   ],
   "source": [
    "# Your code for the confusion matrices on the Testing data\n",
    "##SVM\n",
    "###Kernel = 'linear'\n",
    "\n",
    "from sklearn.metrics import confusion_matrix , f1_score, precision_score, recall_score, classification_report,accuracy_score\n",
    "import numpy as np\n",
    "from sklearn.svm import SVC\n",
    "\n",
    "accuracy_f1Score_precision = dict()\n",
    "\n",
    "c=1\n",
    "N = 5 # Declaring rows \n",
    "M = 5 # Declaring columns \n",
    "\n",
    "\n",
    "accumalte_Confusion_matrix = [[0 for x in range(M)] for y in range(N)] \n",
    "Svmclassifier1 = SVC(C=1, kernel='linear')\n",
    "    \n",
    "for train_index, test_index in kf.split(svmTest,y_svmTest):\n",
    "    X_train,X_test = svmTest.iloc[train_index],svmTest.iloc[test_index]\n",
    "    y_train,y_test = y_svmTest.iloc[train_index],y_svmTest.iloc[test_index]\n",
    "    Svmclassifier1.fit(X_train, y_train)\n",
    "    svm_pred = Svmclassifier1.predict(X_test)\n",
    "    results = confusion_matrix(y_test, svm_pred,labels=['high', 'very high', 'medium', 'low', 'very low']) \n",
    "    accumalte_Confusion_matrix +=results \n",
    "    print ('SVM Confusion Matrix for Fold :'+str(c))\n",
    "    print(results)\n",
    "    print ('SVM Summation of Confusion Matrix up to Fold :' +str(c))\n",
    "    print(accumalte_Confusion_matrix) \n",
    "    accuracy_f1Score_precision[c]={'precision':precision_score(y_test,svm_pred,average='macro'),\n",
    "                                   'f1_score': f1_score(y_test,svm_pred,average='macro'),\n",
    "                                   'recall': recall_score(y_test,svm_pred,average='macro'),\n",
    "                                   'accuracy': accuracy_score(y_test,svm_pred)\n",
    "                                   }\n",
    "    c+=1\n",
    "    "
   ]
  },
  {
   "cell_type": "code",
   "execution_count": 54,
   "metadata": {
    "colab": {
     "base_uri": "https://localhost:8080/",
     "height": 230
    },
    "colab_type": "code",
    "id": "nHE8H9LxbizS",
    "outputId": "a62434cb-6278-432f-ad8e-15d71582e126"
   },
   "outputs": [
    {
     "data": {
      "text/plain": [
       "{1: {'accuracy': 0.5549412577747063,\n",
       "  'f1_score': 0.418759013041259,\n",
       "  'precision': 0.40195512746393003,\n",
       "  'recall': 0.4493494048828084},\n",
       " 2: {'accuracy': 0.5518672199170125,\n",
       "  'f1_score': 0.3962093238366466,\n",
       "  'precision': 0.41787517453681416,\n",
       "  'recall': 0.43328001391087956},\n",
       " 3: {'accuracy': 0.5781466113416321,\n",
       "  'f1_score': 0.4368219238186871,\n",
       "  'precision': 0.4266957674281871,\n",
       "  'recall': 0.46755535485262334}}"
      ]
     },
     "execution_count": 54,
     "metadata": {
      "tags": []
     },
     "output_type": "execute_result"
    }
   ],
   "source": [
    "accuracy_f1Score_precision"
   ]
  },
  {
   "cell_type": "code",
   "execution_count": 55,
   "metadata": {
    "colab": {
     "base_uri": "https://localhost:8080/",
     "height": 1000
    },
    "colab_type": "code",
    "id": "jxco90zC0iE7",
    "outputId": "4f5e1dbe-1e20-4973-deb8-13fb7014661c"
   },
   "outputs": [
    {
     "name": "stderr",
     "output_type": "stream",
     "text": [
      "/usr/local/lib/python3.6/dist-packages/sklearn/neural_network/multilayer_perceptron.py:566: ConvergenceWarning: Stochastic Optimizer: Maximum iterations (200) reached and the optimization hasn't converged yet.\n",
      "  % self.max_iter, ConvergenceWarning)\n"
     ]
    },
    {
     "name": "stdout",
     "output_type": "stream",
     "text": [
      "\t\t\t\tFOLD 1\n",
      "\t\t\tNEURAL NETWORK\n",
      "optimized neural network:\n",
      "[[ 97  35  93 122  31]\n",
      " [ 72  11  51  76  18]\n",
      " [ 68   1  36  79  18]\n",
      " [100   8  61 174  37]\n",
      " [ 38   6  24  65  13]]\n",
      "optimized neural network up to Fold 1\n",
      "[[ 97  35  93 122  31]\n",
      " [ 72  11  51  76  18]\n",
      " [ 68   1  36  79  18]\n",
      " [100   8  61 174  37]\n",
      " [ 38   6  24  65  13]]\n",
      "\n",
      "\n",
      "non-linear neural network:\n",
      "[[206   0   1 171   0]\n",
      " [116   0   4 108   0]\n",
      " [ 86   0   0 116   0]\n",
      " [119   0   0 258   3]\n",
      " [ 58   0   0  87   1]]\n",
      "Linear neural network up to Fold 1\n",
      "[[206   0   1 171   0]\n",
      " [116   0   4 108   0]\n",
      " [ 86   0   0 116   0]\n",
      " [119   0   0 258   3]\n",
      " [ 58   0   0  87   1]]\n",
      "----------------------------------------------------------------------------------------------------\n"
     ]
    },
    {
     "name": "stderr",
     "output_type": "stream",
     "text": [
      "/usr/local/lib/python3.6/dist-packages/sklearn/neural_network/multilayer_perceptron.py:566: ConvergenceWarning: Stochastic Optimizer: Maximum iterations (200) reached and the optimization hasn't converged yet.\n",
      "  % self.max_iter, ConvergenceWarning)\n"
     ]
    },
    {
     "name": "stdout",
     "output_type": "stream",
     "text": [
      "\t\t\t\tFOLD 2\n",
      "\t\t\tNEURAL NETWORK\n",
      "optimized neural network:\n",
      "[[242  20  56  48   0]\n",
      " [182  28  42  34   0]\n",
      " [155  41  38  35   0]\n",
      " [187  39  47  52   0]\n",
      " [ 51   6   7  23   0]]\n",
      "optimized neural network up to Fold 2\n",
      "[[339  55 149 170  31]\n",
      " [254  39  93 110  18]\n",
      " [223  42  74 114  18]\n",
      " [287  47 108 226  37]\n",
      " [ 89  12  31  88  13]]\n",
      "\n",
      "\n",
      "non-linear neural network:\n",
      "[[305   2  22  37   0]\n",
      " [197  11  38  40   0]\n",
      " [176   6  41  46   0]\n",
      " [201   7  26  91   0]\n",
      " [ 55   0   7  25   0]]\n",
      "Linear neural network up to Fold 2\n",
      "[[511   2  23 208   0]\n",
      " [313  11  42 148   0]\n",
      " [262   6  41 162   0]\n",
      " [320   7  26 349   3]\n",
      " [113   0   7 112   1]]\n",
      "----------------------------------------------------------------------------------------------------\n",
      "\t\t\t\tFOLD 3\n",
      "\t\t\tNEURAL NETWORK\n",
      "optimized neural network:\n",
      "[[219  67   4  77   0]\n",
      " [136  46   2  49   0]\n",
      " [143  59   8  54   0]\n",
      " [193  47  15  83   0]\n",
      " [ 60  21   8  42   0]]\n",
      "optimized neural network up to Fold 3\n",
      "[[558 122 153 247  31]\n",
      " [390  85  95 159  18]\n",
      " [366 101  82 168  18]\n",
      " [480  94 123 309  37]\n",
      " [149  33  39 130  13]]\n",
      "\n",
      "\n",
      "non-linear neural network:\n",
      "[[245   8  39  75   0]\n",
      " [153   7  25  48   0]\n",
      " [115   9  52  88   0]\n",
      " [156   1  49 132   0]\n",
      " [ 62   2  14  53   0]]\n",
      "Linear neural network up to Fold 3\n",
      "[[756  10  62 283   0]\n",
      " [466  18  67 196   0]\n",
      " [377  15  93 250   0]\n",
      " [476   8  75 481   3]\n",
      " [175   2  21 165   1]]\n",
      "----------------------------------------------------------------------------------------------------\n"
     ]
    },
    {
     "name": "stderr",
     "output_type": "stream",
     "text": [
      "/usr/local/lib/python3.6/dist-packages/sklearn/neural_network/multilayer_perceptron.py:566: ConvergenceWarning: Stochastic Optimizer: Maximum iterations (200) reached and the optimization hasn't converged yet.\n",
      "  % self.max_iter, ConvergenceWarning)\n"
     ]
    }
   ],
   "source": [
    "N = 5 # Declaring rows \n",
    "M = 5 # Declaring columns \n",
    "\n",
    "accumalte_Confusion_matrix_opt = [[0 for x in range(M)] for y in range(N)] \n",
    "accumalte_Confusion_matrix_lin = [[0 for x in range(M)] for y in range(N)] \n",
    "fold = 1\n",
    "for train_indices, test_indices in kf.split(X):\n",
    "    clf_best.fit(X.iloc[train_indices], Y.iloc[train_indices])\n",
    "    y_hat = clf_best.predict(X.iloc[test_indices])\n",
    "    y_true = Y.iloc[test_indices].values\n",
    "    print(\"\\t\\t\\t\\tFOLD {}\".format(fold))\n",
    "    print(\"\\t\\t\\tNEURAL NETWORK\")\n",
    "    print(\"optimized neural network:\\n{}\".format(confusion_matrix(y_true,y_hat)))\n",
    "    results_opt = confusion_matrix(y_true,y_hat)\n",
    "    print(\"optimized neural network up to Fold \"+str(fold))\n",
    "    accumalte_Confusion_matrix_opt +=results_opt\n",
    "    print(accumalte_Confusion_matrix_opt) \n",
    "\n",
    "    y_hat = clf_non_linear.predict(X.iloc[test_indices])\n",
    "    print(\"\\n\\nnon-linear neural network:\\n{}\".format(confusion_matrix(y_true,y_hat)))\n",
    "    results_lin = confusion_matrix(y_true,y_hat)\n",
    "    print(\"Linear neural network up to Fold \"+str(fold))\n",
    "    accumalte_Confusion_matrix_lin +=results_lin\n",
    "    print(accumalte_Confusion_matrix_lin) \n",
    "    print('-'*100)\n",
    "    fold+=1\n"
   ]
  },
  {
   "cell_type": "markdown",
   "metadata": {
    "colab_type": "text",
    "id": "Ev2t6foY0iE9"
   },
   "source": [
    "- Precision, recall and F1-scores on the test data (give explicitly the result for each fold)"
   ]
  },
  {
   "cell_type": "code",
   "execution_count": 57,
   "metadata": {
    "colab": {
     "base_uri": "https://localhost:8080/",
     "height": 355
    },
    "colab_type": "code",
    "id": "50LELzIKZgDO",
    "outputId": "7c1338d6-4002-4b33-902f-ec91c981ca14"
   },
   "outputs": [
    {
     "name": "stdout",
     "output_type": "stream",
     "text": [
      "------------------SVM----------------\n",
      "Precision for the first fold :\n",
      "0.40195512746393003\n",
      "recall for the first fold :\n",
      "0.4493494048828084\n",
      "F1-score for the first fold :\n",
      "0.418759013041259\n",
      "Precision for the second fold :\n",
      "0.41787517453681416\n",
      "recall for the second fold :\n",
      "0.43328001391087956\n",
      "F1-score for the second fold :\n",
      "0.3962093238366466\n",
      "Precision for the third fold :\n",
      "0.4266957674281871\n",
      "recall for the third fold :\n",
      "0.46755535485262334\n",
      "F1-score for the third fold :\n",
      "0.4368219238186871\n"
     ]
    }
   ],
   "source": [
    "print('------------------SVM----------------')\n",
    "print(\"Precision for the first fold :\")\n",
    "print(accuracy_f1Score_precision[1]['precision'])\n",
    "\n",
    "print(\"recall for the first fold :\")\n",
    "print(accuracy_f1Score_precision[1]['recall'])\n",
    "\n",
    "print(\"F1-score for the first fold :\")\n",
    "print(accuracy_f1Score_precision[1]['f1_score'])\n",
    "\n",
    "print(\"Precision for the second fold :\")\n",
    "print(accuracy_f1Score_precision[2]['precision'])\n",
    "\n",
    "print(\"recall for the second fold :\")\n",
    "print(accuracy_f1Score_precision[2]['recall'])\n",
    "\n",
    "print(\"F1-score for the second fold :\")\n",
    "print(accuracy_f1Score_precision[2]['f1_score'])\n",
    "\n",
    "print(\"Precision for the third fold :\")\n",
    "print(accuracy_f1Score_precision[3]['precision'])\n",
    "\n",
    "print(\"recall for the third fold :\")\n",
    "print(accuracy_f1Score_precision[3]['recall'])\n",
    "\n",
    "print(\"F1-score for the third fold :\")\n",
    "print(accuracy_f1Score_precision[3]['f1_score'])\n"
   ]
  },
  {
   "cell_type": "code",
   "execution_count": 58,
   "metadata": {
    "colab": {
     "base_uri": "https://localhost:8080/",
     "height": 730
    },
    "colab_type": "code",
    "id": "ZiyNjyvs0iE9",
    "outputId": "80b32d82-a447-4d04-fade-e00b51459cff"
   },
   "outputs": [
    {
     "name": "stderr",
     "output_type": "stream",
     "text": [
      "/usr/local/lib/python3.6/dist-packages/sklearn/neural_network/multilayer_perceptron.py:566: ConvergenceWarning: Stochastic Optimizer: Maximum iterations (200) reached and the optimization hasn't converged yet.\n",
      "  % self.max_iter, ConvergenceWarning)\n",
      "/usr/local/lib/python3.6/dist-packages/sklearn/metrics/classification.py:1259: UserWarning: Note that pos_label (set to 'positive') is ignored when average != 'binary' (got 'micro'). You may use labels=[pos_label] to specify a single positive class.\n",
      "  % (pos_label, average), UserWarning)\n",
      "/usr/local/lib/python3.6/dist-packages/sklearn/metrics/classification.py:1259: UserWarning: Note that pos_label (set to 'positive') is ignored when average != 'binary' (got 'micro'). You may use labels=[pos_label] to specify a single positive class.\n",
      "  % (pos_label, average), UserWarning)\n"
     ]
    },
    {
     "name": "stdout",
     "output_type": "stream",
     "text": [
      "\t\t\t\tFOLD 1\n",
      "\t\t\tNEURAL NETWORK\n",
      "\t\t\t\tPrecision\tRecall\t\tF1-score\n",
      "optimized neural network:\t0.24\t\t0.24\t\t0.24\n",
      "\n",
      " non-linear neural network:\t0.35\t\t0.35\t\t0.35\n",
      "----------------------------------------------------------------------------------------------------\n"
     ]
    },
    {
     "name": "stderr",
     "output_type": "stream",
     "text": [
      "/usr/local/lib/python3.6/dist-packages/sklearn/neural_network/multilayer_perceptron.py:566: ConvergenceWarning: Stochastic Optimizer: Maximum iterations (200) reached and the optimization hasn't converged yet.\n",
      "  % self.max_iter, ConvergenceWarning)\n",
      "/usr/local/lib/python3.6/dist-packages/sklearn/metrics/classification.py:1259: UserWarning: Note that pos_label (set to 'positive') is ignored when average != 'binary' (got 'micro'). You may use labels=[pos_label] to specify a single positive class.\n",
      "  % (pos_label, average), UserWarning)\n",
      "/usr/local/lib/python3.6/dist-packages/sklearn/metrics/classification.py:1259: UserWarning: Note that pos_label (set to 'positive') is ignored when average != 'binary' (got 'micro'). You may use labels=[pos_label] to specify a single positive class.\n",
      "  % (pos_label, average), UserWarning)\n"
     ]
    },
    {
     "name": "stdout",
     "output_type": "stream",
     "text": [
      "\t\t\t\tFOLD 2\n",
      "\t\t\tNEURAL NETWORK\n",
      "\t\t\t\tPrecision\tRecall\t\tF1-score\n",
      "optimized neural network:\t0.26\t\t0.26\t\t0.26\n",
      "\n",
      " non-linear neural network:\t0.34\t\t0.34\t\t0.34\n",
      "----------------------------------------------------------------------------------------------------\n",
      "\t\t\t\tFOLD 3\n",
      "\t\t\tNEURAL NETWORK\n",
      "\t\t\t\tPrecision\tRecall\t\tF1-score\n",
      "optimized neural network:\t0.27\t\t0.27\t\t0.27\n",
      "\n",
      " non-linear neural network:\t0.33\t\t0.33\t\t0.33\n",
      "----------------------------------------------------------------------------------------------------\n"
     ]
    },
    {
     "name": "stderr",
     "output_type": "stream",
     "text": [
      "/usr/local/lib/python3.6/dist-packages/sklearn/neural_network/multilayer_perceptron.py:566: ConvergenceWarning: Stochastic Optimizer: Maximum iterations (200) reached and the optimization hasn't converged yet.\n",
      "  % self.max_iter, ConvergenceWarning)\n",
      "/usr/local/lib/python3.6/dist-packages/sklearn/metrics/classification.py:1259: UserWarning: Note that pos_label (set to 'positive') is ignored when average != 'binary' (got 'micro'). You may use labels=[pos_label] to specify a single positive class.\n",
      "  % (pos_label, average), UserWarning)\n",
      "/usr/local/lib/python3.6/dist-packages/sklearn/metrics/classification.py:1259: UserWarning: Note that pos_label (set to 'positive') is ignored when average != 'binary' (got 'micro'). You may use labels=[pos_label] to specify a single positive class.\n",
      "  % (pos_label, average), UserWarning)\n"
     ]
    }
   ],
   "source": [
    "# Your code\n",
    "fold = 1\n",
    "for train_indices, test_indices in kf.split(X):\n",
    "    clf_best.fit(X.iloc[train_indices], Y.iloc[train_indices])\n",
    "    y_hat = clf_best.predict(X.iloc[test_indices])\n",
    "    y_true = Y.iloc[test_indices].values\n",
    "    print(\"\\t\\t\\t\\tFOLD {}\".format(fold))\n",
    "    print(\"\\t\\t\\tNEURAL NETWORK\")\n",
    "    print(\"\\t\\t\\t\\tPrecision\\tRecall\\t\\tF1-score\")\n",
    "    print(\"optimized neural network:\\t{:.2f}\\t\\t{:.2f}\\t\\t{:.2f}\".format(precision_score(y_true,y_hat,pos_label='positive',average='micro'),\n",
    "                                                                           recall_score(y_true,y_hat,pos_label='positive',average='micro'),\n",
    "                                                                           f1_score(y_true,y_hat,pos_label='positive',average='micro')\n",
    "                                                                           ))\n",
    "\n",
    "    y_hat = clf_non_linear.predict(X.iloc[test_indices])\n",
    "    print(\"\\n non-linear neural network:\\t{:.2f}\\t\\t{:.2f}\\t\\t{:.2f}\".format(precision_score(y_true,y_hat,pos_label='positive',average='micro'),\n",
    "                                                                           recall_score(y_true,y_hat,pos_label='positive',average='micro'),\n",
    "                                                                           f1_score(y_true,y_hat,pos_label='positive',average='micro')\n",
    "                                                                           ))\n",
    "    print('-'*100)\n",
    "    fold+=1\n"
   ]
  },
  {
   "cell_type": "markdown",
   "metadata": {
    "colab_type": "text",
    "id": "CF1MdcPA0iE-"
   },
   "source": [
    "- Accuracy scores on training and test data (give explicitly the result for each fold)"
   ]
  },
  {
   "cell_type": "code",
   "execution_count": 59,
   "metadata": {
    "colab": {
     "base_uri": "https://localhost:8080/",
     "height": 266
    },
    "colab_type": "code",
    "id": "TbITcQm9eBiz",
    "outputId": "5fbdd271-b6f3-45b4-c3d3-a630c6415af1"
   },
   "outputs": [
    {
     "name": "stdout",
     "output_type": "stream",
     "text": [
      "------------------SVM Train----------------\n",
      "Accuracy for the first fold :\n",
      "0.5864453665283541\n",
      "Accuracy for the second fold :\n",
      "0.5771092669432918\n",
      "Accuracy for the third fold :\n",
      "0.5895573997233748\n",
      "------------------SVM Test----------------\n",
      "Accuracy for the first fold :\n",
      "0.5549412577747063\n",
      "Accuracy for the second fold :\n",
      "0.5518672199170125\n",
      "Accuracy for the third fold :\n",
      "0.5781466113416321\n"
     ]
    }
   ],
   "source": [
    "print('------------------SVM Train----------------')\n",
    "print(\"Accuracy for the first fold :\")\n",
    "print(accuracy_f1Score_precision_train[1]['accuracy'])\n",
    "print(\"Accuracy for the second fold :\")\n",
    "print(accuracy_f1Score_precision_train[2]['accuracy'])\n",
    "print(\"Accuracy for the third fold :\")\n",
    "print(accuracy_f1Score_precision_train[3]['accuracy'])\n",
    "\n",
    "print('------------------SVM Test----------------')\n",
    "print(\"Accuracy for the first fold :\")\n",
    "print(accuracy_f1Score_precision[1]['accuracy'])\n",
    "print(\"Accuracy for the second fold :\")\n",
    "print(accuracy_f1Score_precision[2]['accuracy'])\n",
    "print(\"Accuracy for the third fold :\")\n",
    "print(accuracy_f1Score_precision[3]['accuracy'])\n"
   ]
  },
  {
   "cell_type": "code",
   "execution_count": 60,
   "metadata": {
    "colab": {
     "base_uri": "https://localhost:8080/",
     "height": 730
    },
    "colab_type": "code",
    "id": "NkTfqT_60iE_",
    "outputId": "b8437fc8-3c39-479b-c77b-cbd6bc024efb"
   },
   "outputs": [
    {
     "name": "stderr",
     "output_type": "stream",
     "text": [
      "/usr/local/lib/python3.6/dist-packages/sklearn/neural_network/multilayer_perceptron.py:566: ConvergenceWarning: Stochastic Optimizer: Maximum iterations (200) reached and the optimization hasn't converged yet.\n",
      "  % self.max_iter, ConvergenceWarning)\n"
     ]
    },
    {
     "name": "stdout",
     "output_type": "stream",
     "text": [
      "\t\t\t\tFOLD 1\n",
      "\t\tNEURAL NETWORK\n",
      "Accuray for training data:\n",
      "using optimized neural network:\t\t0.38\n",
      "using non-linear activation-function:\t0.33\n",
      "\n",
      "\n",
      "Accuray for testing data:\n",
      "using optimized neural network:\t\t0.23\n",
      "using non-linear activation-function:\t0.35\n",
      "----------------------------------------------------------------------------------------------------\n"
     ]
    },
    {
     "name": "stderr",
     "output_type": "stream",
     "text": [
      "/usr/local/lib/python3.6/dist-packages/sklearn/neural_network/multilayer_perceptron.py:566: ConvergenceWarning: Stochastic Optimizer: Maximum iterations (200) reached and the optimization hasn't converged yet.\n",
      "  % self.max_iter, ConvergenceWarning)\n"
     ]
    },
    {
     "name": "stdout",
     "output_type": "stream",
     "text": [
      "\t\t\t\tFOLD 2\n",
      "\t\tNEURAL NETWORK\n",
      "Accuray for training data:\n",
      "using optimized neural network:\t\t0.38\n",
      "using non-linear activation-function:\t0.34\n",
      "\n",
      "\n",
      "Accuray for testing data:\n",
      "using optimized neural network:\t\t0.26\n",
      "using non-linear activation-function:\t0.34\n",
      "----------------------------------------------------------------------------------------------------\n",
      "\t\t\t\tFOLD 3\n",
      "\t\tNEURAL NETWORK\n",
      "Accuray for training data:\n",
      "using optimized neural network:\t\t0.39\n",
      "using non-linear activation-function:\t0.34\n",
      "\n",
      "\n",
      "Accuray for testing data:\n",
      "using optimized neural network:\t\t0.26\n",
      "using non-linear activation-function:\t0.33\n",
      "----------------------------------------------------------------------------------------------------\n"
     ]
    },
    {
     "name": "stderr",
     "output_type": "stream",
     "text": [
      "/usr/local/lib/python3.6/dist-packages/sklearn/neural_network/multilayer_perceptron.py:566: ConvergenceWarning: Stochastic Optimizer: Maximum iterations (200) reached and the optimization hasn't converged yet.\n",
      "  % self.max_iter, ConvergenceWarning)\n"
     ]
    }
   ],
   "source": [
    "# Your code for accuracy scores on training and test data\n",
    "fold = 1\n",
    "for train_indices, test_indices in kf.split(X):\n",
    "    clf_best.fit(X.iloc[train_indices], Y.iloc[train_indices])\n",
    "    print(\"\\t\\t\\t\\tFOLD {}\".format(fold))\n",
    "    print(\"\\t\\tNEURAL NETWORK\")\n",
    "    print(\"Accuray for training data:\\nusing optimized neural network:\\t\\t{:.2f}\\nusing non-linear activation-function:\\t{:.2f}\"\n",
    "          .format( clf_best.score(X.iloc[train_indices], Y.iloc[train_indices]),clf_non_linear.score(X.iloc[train_indices], Y.iloc[train_indices]) ))\n",
    "    \n",
    "    print(\"\\n\\nAccuray for testing data:\\nusing optimized neural network:\\t\\t{:.2f}\\nusing non-linear activation-function:\\t{:.2f}\"\n",
    "          .format( clf_best.score(X.iloc[test_indices], Y.iloc[test_indices]),clf_non_linear.score(X.iloc[test_indices], Y.iloc[test_indices]) ))\n",
    "    print('-'*100)\n",
    "    fold+=1\n"
   ]
  },
  {
   "cell_type": "markdown",
   "metadata": {
    "colab_type": "text",
    "id": "PmA-OcDA0iFB"
   },
   "source": [
    "In order to turn numbers into insights, please comment on your findings. Motivate the answers to the following questions using the metrics and the findings in the questions 1 through 5 of the assignment."
   ]
  },
  {
   "cell_type": "markdown",
   "metadata": {
    "colab_type": "text",
    "id": "S5jv0wdr0iFB"
   },
   "source": [
    "   (b) What is, in your opinion, the best model? Motivate your answer with the correct performance metrics."
   ]
  },
  {
   "cell_type": "markdown",
   "metadata": {
    "colab_type": "text",
    "id": "d_hLEdnZ0iFD"
   },
   "source": [
    "Explanation: As the accuracy measure by itself might give us wrong insights about the model evalution, as the model might be able to predict correctly all the true negatives but fails to correctly predict the false positives. Thus we will use the F1-score as it combines the precision (how accurate the model is in predicting the true positives from the total predicted postives) and the recall measures. As our task is to predict the population density, thus the cost of false positives is assumed to be moderate same applies to the cost of predicting False Negatives. As a result we are seeking for a balance between Precision and Recall. According to the results obtained from the previous calculations we can conculde that the SVM model F1-score on avergare is 0.45 while the optimized neural netwrok average was 0.24 on the other hand the non-linear nueral network average was 0.34.\n"
   ]
  },
  {
   "cell_type": "markdown",
   "metadata": {
    "colab_type": "text",
    "id": "Xo1BK5gZ0iFE"
   },
   "source": [
    "   (c) Does any model suffer from underfitting or overfitting? Motivate your answer with the correct performance metrics."
   ]
  },
  {
   "cell_type": "markdown",
   "metadata": {
    "colab_type": "text",
    "id": "31LmQFx_0iFE"
   },
   "source": [
    "Explanation: Yes optimized neural network suffers from underfitting as the accuracy for the traing data was low on avegrage of 0.37 same applies to the accuracy of the test data on average of 0.24\n"
   ]
  },
  {
   "cell_type": "markdown",
   "metadata": {
    "colab_type": "text",
    "id": "Xg7991Nw0iFG"
   },
   "source": [
    "   (d) What is the effect of employing cross validation, instead of simply holding our a certain percentage of examples as test/validation set? What are the advantages and disadvantages of cross validation?"
   ]
  },
  {
   "cell_type": "markdown",
   "metadata": {
    "colab_type": "text",
    "id": "qi7QCrmb0iFI"
   },
   "source": [
    "Explanation: Effect of employing cross validation is that the model wontbe biased towards a certain sample. Disadvantages of cross validation is that it takes more compuatational and processing resources and time in comparison to the other validation method (test-train data). Advantages is, model is trained over the whole dataset thus ensuring that the classes which were not frequent in the training set, are represented to the fitting model.\n"
   ]
  }
 ],
 "metadata": {
  "colab": {
   "collapsed_sections": [],
   "name": "IDS_Assignment_Part1.ipynb",
   "provenance": []
  },
  "kernelspec": {
   "display_name": "Python 3",
   "language": "python",
   "name": "python3"
  },
  "language_info": {
   "codemirror_mode": {
    "name": "ipython",
    "version": 3
   },
   "file_extension": ".py",
   "mimetype": "text/x-python",
   "name": "python",
   "nbconvert_exporter": "python",
   "pygments_lexer": "ipython3",
   "version": "3.7.6"
  }
 },
 "nbformat": 4,
 "nbformat_minor": 1
}
